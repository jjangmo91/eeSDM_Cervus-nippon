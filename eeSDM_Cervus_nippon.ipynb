{
  "cells": [
    {
      "cell_type": "markdown",
      "metadata": {
        "id": "view-in-github",
        "colab_type": "text"
      },
      "source": [
        "<a href=\"https://colab.research.google.com/github/jjangmo91/eeSDM_Cervus-nippon/blob/main/eeSDM_Cervus_nippon.ipynb\" target=\"_parent\"><img src=\"https://colab.research.google.com/assets/colab-badge.svg\" alt=\"Open In Colab\"/></a>"
      ]
    },
    {
      "cell_type": "markdown",
      "source": [
        "# **eeSDM_Cervus-nippon**\n",
        "이 프로젝트는 Google Earth Engine과 Google Colab을 활용하여 대만꽃사슴(Cervus nippon)의 종분포모델링(Species Distribution Modeling, SDM)을 수행하는 프로젝트입니다. 이 프로젝트는 속리산국립공원에 분포하는 침입종인 대만꽃사슴의 현재 및 미래 서식 가능 지역을 예측하고, 이를 통해 국립공원공단의 생태계 보존 전략 수립에 기여하고자 합니다.\n"
      ],
      "metadata": {
        "id": "IJuvD8dZwD7Q"
      }
    },
    {
      "cell_type": "markdown",
      "source": [
        "데이터 분석에 필요한 라이브러리와 패키지를 설치하고, 불러옵니다."
      ],
      "metadata": {
        "id": "Z87-ieH971s_"
      }
    },
    {
      "cell_type": "code",
      "source": [
        "%pip install -U -q eeSDM\n",
        "%pip install -U -q pyarrow\n",
        "%pip install -U -q geopandas\n",
        "%pip install -U -q pycrs\n",
        "%pip install -U -q statsmodels"
      ],
      "metadata": {
        "id": "YmaXgFVExb2v",
        "outputId": "5f363846-f85e-4a87-901c-5955b68969bc",
        "colab": {
          "base_uri": "https://localhost:8080/"
        }
      },
      "execution_count": 1,
      "outputs": [
        {
          "output_type": "stream",
          "name": "stdout",
          "text": [
            "\u001b[2K     \u001b[90m━━━━━━━━━━━━━━━━━━━━━━━━━━━━━━━━━━━━━━━━\u001b[0m \u001b[32m1.6/1.6 MB\u001b[0m \u001b[31m6.5 MB/s\u001b[0m eta \u001b[36m0:00:00\u001b[0m\n",
            "\u001b[2K     \u001b[90m━━━━━━━━━━━━━━━━━━━━━━━━━━━━━━━━━━━━━━━━\u001b[0m \u001b[32m40.8/40.8 MB\u001b[0m \u001b[31m18.4 MB/s\u001b[0m eta \u001b[36m0:00:00\u001b[0m\n",
            "\u001b[?25h\u001b[31mERROR: pip's dependency resolver does not currently take into account all the packages that are installed. This behaviour is the source of the following dependency conflicts.\n",
            "cudf-cu12 24.4.1 requires pyarrow<15.0.0a0,>=14.0.1, but you have pyarrow 16.1.0 which is incompatible.\n",
            "ibis-framework 8.0.0 requires pyarrow<16,>=2, but you have pyarrow 16.1.0 which is incompatible.\u001b[0m\u001b[31m\n",
            "\u001b[2K     \u001b[90m━━━━━━━━━━━━━━━━━━━━━━━━━━━━━━━━━━━━━━━━\u001b[0m \u001b[32m323.4/323.4 kB\u001b[0m \u001b[31m5.2 MB/s\u001b[0m eta \u001b[36m0:00:00\u001b[0m\n",
            "\u001b[2K     \u001b[90m━━━━━━━━━━━━━━━━━━━━━━━━━━━━━━━━━━━━━━━━\u001b[0m \u001b[32m23.1/23.1 MB\u001b[0m \u001b[31m19.4 MB/s\u001b[0m eta \u001b[36m0:00:00\u001b[0m\n",
            "\u001b[?25h  Preparing metadata (setup.py) ... \u001b[?25l\u001b[?25hdone\n",
            "  Building wheel for pycrs (setup.py) ... \u001b[?25l\u001b[?25hdone\n"
          ]
        }
      ]
    },
    {
      "cell_type": "code",
      "source": [
        "import eeSDM\n",
        "import ee, geemap\n",
        "import geemap.colormaps as cm\n",
        "\n",
        "import pandas as pd\n",
        "import geopandas as gpd\n",
        "import matplotlib.pyplot as plt\n",
        "import numpy as np\n",
        "import random, math, os\n",
        "\n",
        "from statsmodels.stats.outliers_influence import variance_inflation_factor\n",
        "\n",
        "import warnings\n",
        "warnings.filterwarnings(\"ignore\")"
      ],
      "metadata": {
        "id": "6yY-TExKv9AZ"
      },
      "execution_count": 2,
      "outputs": []
    },
    {
      "cell_type": "code",
      "source": [
        "# Earth Engine Authentication\n",
        "ee.Authenticate()\n",
        "\n",
        "# Initializing Earth Engine\n",
        "ee.Initialize(project='ee-jjangmo91')"
      ],
      "metadata": {
        "id": "gwp1w455x8a1",
        "outputId": "cd7c8794-d6a8-4c27-ce25-476c8c462e38",
        "colab": {
          "base_uri": "https://localhost:8080/",
          "height": 17
        }
      },
      "execution_count": 3,
      "outputs": [
        {
          "output_type": "display_data",
          "data": {
            "text/plain": [
              "<IPython.core.display.HTML object>"
            ],
            "text/html": [
              "\n",
              "            <style>\n",
              "                .geemap-dark {\n",
              "                    --jp-widgets-color: white;\n",
              "                    --jp-widgets-label-color: white;\n",
              "                    --jp-ui-font-color1: white;\n",
              "                    --jp-layout-color2: #454545;\n",
              "                    background-color: #383838;\n",
              "                }\n",
              "\n",
              "                .geemap-dark .jupyter-button {\n",
              "                    --jp-layout-color3: #383838;\n",
              "                }\n",
              "\n",
              "                .geemap-colab {\n",
              "                    background-color: var(--colab-primary-surface-color, white);\n",
              "                }\n",
              "\n",
              "                .geemap-colab .jupyter-button {\n",
              "                    --jp-layout-color3: var(--colab-primary-surface-color, white);\n",
              "                }\n",
              "            </style>\n",
              "            "
            ]
          },
          "metadata": {}
        }
      ]
    },
    {
      "cell_type": "markdown",
      "source": [
        "# 1. Add Species Occurrence Data(Local)\n",
        "종 발생 데이터(로컬) 추가 및 지리적 샘플링 편향 제거\n",
        "여기서는 데이터 수 부족으로, 일반적인 데이터 전처리 방법인 결측값 처리, 이상치 제거, 정규화 등의 과정을 생략했습니다."
      ],
      "metadata": {
        "id": "cgeLRHiT0wUM"
      }
    },
    {
      "cell_type": "code",
      "source": [
        "# CSV 파일 경로\n",
        "url = \"https://raw.githubusercontent.com/jjangmo91/eeSDM_Cervus-nippon/main/Cervus-nippon.csv\"\n",
        "\n",
        "# DataFrame 변환\n",
        "df = pd.read_csv(url)\n",
        "print(df.columns)\n",
        "\n",
        "# GeoDataFrame 변환\n",
        "gdf = gpd.GeoDataFrame(df, geometry=gpd.points_from_xy(df.Longitude, df.Latitude), crs = \"EPSG:4326\")\n",
        "\n",
        "# GeoDataFrame을 Earth Engine 객체로 변환\n",
        "data_raw = geemap.geopandas_to_ee(gdf)\n",
        "\n",
        "# 공간 해상도 설정(m)\n",
        "grainsize = 30\n",
        "\n",
        "# Geographic sampling bias 제한(하나 빼고 다 제거)\n",
        "\n",
        "def remove_duplicates(data_raw, grainsize):\n",
        "    # Select one occurrence record per pixel at the chosen spatial resolution\n",
        "    # Generate a random raster image and reproject it to the specified coordinate system and resolution\n",
        "    random_raster = ee.Image.random().reproject('EPSG:4326', None, grainsize)\n",
        "\n",
        "    # Sample presence points with the generated random raster\n",
        "    # Scale parameter is set to 10 for sampling, geometries are included\n",
        "    rand_point_vals = random_raster.sampleRegions(collection=ee.FeatureCollection(data_raw), geometries=True)\n",
        "\n",
        "    # Keep only distinct presence records based on the 'random' property\n",
        "    return rand_point_vals.distinct('random')\n",
        "\n",
        "data = remove_duplicates(data_raw, grainsize)"
      ],
      "metadata": {
        "id": "Cz4GpPFR1zih",
        "colab": {
          "base_uri": "https://localhost:8080/",
          "height": 35
        },
        "outputId": "e656813e-47a0-4ba5-fe8a-a531529d84a6"
      },
      "execution_count": 4,
      "outputs": [
        {
          "output_type": "display_data",
          "data": {
            "text/plain": [
              "<IPython.core.display.HTML object>"
            ],
            "text/html": [
              "\n",
              "            <style>\n",
              "                .geemap-dark {\n",
              "                    --jp-widgets-color: white;\n",
              "                    --jp-widgets-label-color: white;\n",
              "                    --jp-ui-font-color1: white;\n",
              "                    --jp-layout-color2: #454545;\n",
              "                    background-color: #383838;\n",
              "                }\n",
              "\n",
              "                .geemap-dark .jupyter-button {\n",
              "                    --jp-layout-color3: #383838;\n",
              "                }\n",
              "\n",
              "                .geemap-colab {\n",
              "                    background-color: var(--colab-primary-surface-color, white);\n",
              "                }\n",
              "\n",
              "                .geemap-colab .jupyter-button {\n",
              "                    --jp-layout-color3: var(--colab-primary-surface-color, white);\n",
              "                }\n",
              "            </style>\n",
              "            "
            ]
          },
          "metadata": {}
        },
        {
          "output_type": "stream",
          "name": "stdout",
          "text": [
            "Index(['Species', 'Latitude', 'Longitude'], dtype='object')\n"
          ]
        }
      ]
    },
    {
      "cell_type": "markdown",
      "source": [
        "지리적 샘플링 편향을 전처리 전(파란색)과 전처리 후(빨간색)로 비교한 시각화는 아래와 같습니다. 비교를 용이하게 하기 위해, 지도는 속리산국립공원에서 외래꽃사슴 발생 좌표가 많이 집중된 지역을 중심으로 설정되었습니다."
      ],
      "metadata": {
        "id": "p7kjZ_bGV1uK"
      }
    },
    {
      "cell_type": "code",
      "source": [
        "# Visualization of geographic sampling bias before (blue) and after (red) preprocessing\n",
        "Map = geemap.Map(layout={\"height\": \"400px\", \"width\": \"800px\"})\n",
        "\n",
        "# Add the random raster layer\n",
        "random_raster = ee.Image.random().reproject(\"EPSG:4326\", None, grainsize)\n",
        "Map.addLayer(\n",
        "    random_raster,\n",
        "    {\"min\": 0, \"max\": 1, \"palette\": [\"black\", \"white\"], \"opacity\": 0.5},\n",
        "    \"Random Raster\",\n",
        ")\n",
        "\n",
        "# Add the original data layer in blue\n",
        "Map.addLayer(data_raw, {\"color\": \"blue\"}, \"Original data\")\n",
        "\n",
        "# Add the final data layer in red\n",
        "Map.addLayer(data, {\"color\": \"red\"}, \"Final data\")\n",
        "\n",
        "# Set the center of the map to the coordinates\n",
        "Map.centerObject(data.geometry(), 12)\n",
        "Map"
      ],
      "metadata": {
        "id": "Em8-7tVHTKln",
        "outputId": "30a95ddb-f226-4802-e9da-cc570ae158dd",
        "colab": {
          "base_uri": "https://localhost:8080/",
          "height": 421,
          "referenced_widgets": [
            "58bd38cb449f4120b01888d546f5023d",
            "d7d8b0e09fb34d8d9ff8ca6e8de8edd8",
            "40e31ddb809a4fafb1623d272743a2a9",
            "a705af7e24d544339770e07c60ae5e1e",
            "8cdfc98bcbe24cabaa99ae8a3e427880",
            "d0f7b90953ca48c69b7631b8a9dca410",
            "c3b6dd79184642f9ba689d433b55b0c0",
            "9cef18e74b5a45eba732e68ddad35202",
            "548e7c59105e49eda6cd6e9ae5e3b18e",
            "792a54c8e83a40ab87525012a6e5d58d",
            "c213e57351614762bffc2932f063a513",
            "1cbb778443f3479fb17edcb82301a8d2",
            "367d043d1b684923b25a42c9bbd5a2f3",
            "c59dfa1bcdf74010b2ee343bd2b74ed2",
            "027fb5f35c8141eabfa9238af5a34260",
            "59cae9d20f4f472ca6433dd9352c307b",
            "b4808f4aba184d3bbb62968e3e444e63",
            "601df6121736458aa5ff2d4770823094",
            "f34c6de75fa04b7d971fd8aa86d7e260",
            "5d104d39fa2e41c2ac13aa619c0ee6d6",
            "0badd45b4d2f409fa8fb9a4fea49e882",
            "663fe455227344e088b31f6b29f6e81b",
            "d9ea2e8159544976aa3c937698585955",
            "2d5a030c4b6a40df830b40052bf3733b",
            "73d881389c3042e9ba45a1682027d3b0",
            "3be1302bc27242c4bcaf60c561780d29",
            "f4c25db7aaad4781bf431c8fc43cb3bf",
            "e09d352dc4b5454899ff8986c7f837b7"
          ]
        }
      },
      "execution_count": 5,
      "outputs": [
        {
          "output_type": "display_data",
          "data": {
            "text/plain": [
              "<IPython.core.display.HTML object>"
            ],
            "text/html": [
              "\n",
              "            <style>\n",
              "                .geemap-dark {\n",
              "                    --jp-widgets-color: white;\n",
              "                    --jp-widgets-label-color: white;\n",
              "                    --jp-ui-font-color1: white;\n",
              "                    --jp-layout-color2: #454545;\n",
              "                    background-color: #383838;\n",
              "                }\n",
              "\n",
              "                .geemap-dark .jupyter-button {\n",
              "                    --jp-layout-color3: #383838;\n",
              "                }\n",
              "\n",
              "                .geemap-colab {\n",
              "                    background-color: var(--colab-primary-surface-color, white);\n",
              "                }\n",
              "\n",
              "                .geemap-colab .jupyter-button {\n",
              "                    --jp-layout-color3: var(--colab-primary-surface-color, white);\n",
              "                }\n",
              "            </style>\n",
              "            "
            ]
          },
          "metadata": {}
        },
        {
          "output_type": "display_data",
          "data": {
            "text/plain": [
              "Map(center=[36.554703162575194, 127.8572837211205], controls=(WidgetControl(options=['position', 'transparent_…"
            ],
            "application/vnd.jupyter.widget-view+json": {
              "version_major": 2,
              "version_minor": 0,
              "model_id": "58bd38cb449f4120b01888d546f5023d"
            }
          },
          "metadata": {
            "application/vnd.jupyter.widget-view+json": {
              "colab": {
                "custom_widget_manager": {
                  "url": "https://ssl.gstatic.com/colaboratory-static/widgets/colab-cdn-widget-manager/2b70e893a8ba7c0f/manager.min.js"
                }
              }
            }
          }
        }
      ]
    },
    {
      "cell_type": "markdown",
      "source": [
        "종 출현자료?Presence? Occureance? (정의/논문 찾기)\n",
        "\n",
        "/ 자료를 학습데이터와 테스트데이터로 나눕니다.\n",
        "비율 찾아보고 설정하기? k-fold-validation(정의/논문 찾기)\n",
        "\n",
        "머신러닝 모델의 성능을 높이기 위해(과적합 방지) 교차 검증을 수행합니다. 학습 데이터셋(train set)과 테스트 데이터셋(test set)으로 나눕니다. // 어떤 메서드 사용할지 찾아봐야 함\n",
        "\n",
        "test set을 가지고만 모델의 성능을 확인하고, 파라미터를 수정하고 이 과정을 반복하면 머신러닝에서 test set만 학습하여, 실제의 다른 데이터를 가지고 예측을하게 되면 overfitting의 문제가 발생하게 되므로 과적합 방지를 위해 교차 검증이 필요함\n",
        "\n",
        "교차검증?\n",
        "+ 주어진 데이터셋에 학습된 알고리즘이 얼마나 잘 일반화되어있는지 평가하기 위한 방법\n",
        "\n",
        "+ 데이터를 여러 번 반복해서 나누고 여러 번 모델 학습과 검증 과정을 거침, 데이터셋 내의 모든 데이터를 훈련에 활용할 수 있으며, 모델 성능과 정확도를 더 향상시킬 수 있음, 좀 더 일반화된 모델을 만들 수 있음.\n",
        "\n",
        "+ 부족한 데이터로인한 underfittting을 방지할 수 있고, test set이 편중되는 것을 방지할 수 있음\n",
        "\n",
        "교차검증 방법도 종류가 많음\n",
        "대표적인 것은 k-fold cross validation\n",
        "이 외에 stratified k-kold cross validation 등이 있음\n",
        "\n",
        "train set를 k개의 fold set로 만들어주고\n",
        "k개의 fold set를 train set과 validation set로 나누게 됨\n",
        "k-1개를 train set, 1개를 validation set으로 설정하여 검증 평가를 진행, k개의 fold set에 대해 차례로 validation set을 변경하여 k번의 검증을 수행 함\n",
        "\n",
        "모델을 학습한 뒤, k번의 성능 평가 결과를 평균하여 최종 모델 성능을 구함\n",
        "\n",
        "\n",
        "\n",
        "\n"
      ],
      "metadata": {
        "id": "LghTTnLfHtWq"
      }
    },
    {
      "cell_type": "code",
      "source": [
        "# K-fold-validation"
      ],
      "metadata": {
        "id": "KhIkPBCJVMI5"
      },
      "execution_count": null,
      "outputs": []
    },
    {
      "cell_type": "markdown",
      "source": [
        "# 2. Define Area of Interest (AOI)"
      ],
      "metadata": {
        "id": "09rCWyEe1OYx"
      }
    },
    {
      "cell_type": "code",
      "source": [
        "# Define the AOI\n",
        "aoi = data.geometry().bounds().buffer(distance=50000, maxError=1000)\n",
        "\n",
        "# Add the AOI to the map\n",
        "outline = ee.Image().byte().paint(\n",
        "    featureCollection=aoi, color=1, width=3)\n",
        "\n",
        "Map.remove_layer(\"Random Raster\")\n",
        "Map.addLayer(outline, {'palette': 'FF0000'}, \"AOI\")\n",
        "Map.centerObject(aoi, 7)\n",
        "Map"
      ],
      "metadata": {
        "id": "DKNtjX5D1aVI",
        "outputId": "59b959e7-a87c-42d9-ea30-995ae3f218f3",
        "colab": {
          "base_uri": "https://localhost:8080/",
          "height": 421,
          "referenced_widgets": [
            "58bd38cb449f4120b01888d546f5023d",
            "d7d8b0e09fb34d8d9ff8ca6e8de8edd8",
            "40e31ddb809a4fafb1623d272743a2a9",
            "a705af7e24d544339770e07c60ae5e1e",
            "8cdfc98bcbe24cabaa99ae8a3e427880",
            "d0f7b90953ca48c69b7631b8a9dca410",
            "c3b6dd79184642f9ba689d433b55b0c0",
            "9cef18e74b5a45eba732e68ddad35202",
            "548e7c59105e49eda6cd6e9ae5e3b18e",
            "792a54c8e83a40ab87525012a6e5d58d",
            "c213e57351614762bffc2932f063a513",
            "1cbb778443f3479fb17edcb82301a8d2",
            "c59dfa1bcdf74010b2ee343bd2b74ed2",
            "027fb5f35c8141eabfa9238af5a34260",
            "e09d352dc4b5454899ff8986c7f837b7",
            "59cae9d20f4f472ca6433dd9352c307b",
            "601df6121736458aa5ff2d4770823094",
            "f34c6de75fa04b7d971fd8aa86d7e260",
            "5d104d39fa2e41c2ac13aa619c0ee6d6",
            "0badd45b4d2f409fa8fb9a4fea49e882",
            "663fe455227344e088b31f6b29f6e81b",
            "d9ea2e8159544976aa3c937698585955",
            "2d5a030c4b6a40df830b40052bf3733b",
            "73d881389c3042e9ba45a1682027d3b0",
            "3be1302bc27242c4bcaf60c561780d29",
            "f4c25db7aaad4781bf431c8fc43cb3bf"
          ]
        }
      },
      "execution_count": 6,
      "outputs": [
        {
          "output_type": "display_data",
          "data": {
            "text/plain": [
              "<IPython.core.display.HTML object>"
            ],
            "text/html": [
              "\n",
              "            <style>\n",
              "                .geemap-dark {\n",
              "                    --jp-widgets-color: white;\n",
              "                    --jp-widgets-label-color: white;\n",
              "                    --jp-ui-font-color1: white;\n",
              "                    --jp-layout-color2: #454545;\n",
              "                    background-color: #383838;\n",
              "                }\n",
              "\n",
              "                .geemap-dark .jupyter-button {\n",
              "                    --jp-layout-color3: #383838;\n",
              "                }\n",
              "\n",
              "                .geemap-colab {\n",
              "                    background-color: var(--colab-primary-surface-color, white);\n",
              "                }\n",
              "\n",
              "                .geemap-colab .jupyter-button {\n",
              "                    --jp-layout-color3: var(--colab-primary-surface-color, white);\n",
              "                }\n",
              "            </style>\n",
              "            "
            ]
          },
          "metadata": {}
        },
        {
          "output_type": "display_data",
          "data": {
            "text/plain": [
              "Map(bottom=409957.0, center=[36.52971161769407, 127.85645081415713], controls=(WidgetControl(options=['positio…"
            ],
            "application/vnd.jupyter.widget-view+json": {
              "version_major": 2,
              "version_minor": 0,
              "model_id": "58bd38cb449f4120b01888d546f5023d"
            }
          },
          "metadata": {
            "application/vnd.jupyter.widget-view+json": {
              "colab": {
                "custom_widget_manager": {
                  "url": "https://ssl.gstatic.com/colaboratory-static/widgets/colab-cdn-widget-manager/2b70e893a8ba7c0f/manager.min.js"
                }
              }
            }
          }
        }
      ]
    },
    {
      "cell_type": "markdown",
      "source": [
        "# 3. Add Predictive Variables\n",
        "환경 변수 이것 저것 더 만들어야 함...\n",
        "박사님들한테 물어보기"
      ],
      "metadata": {
        "id": "goBs_KOB19QB"
      }
    },
    {
      "cell_type": "code",
      "source": [
        "# WorldClim BIO Variables V1 (1km): A total of 19 climate variables\n",
        "BIO = ee.Image(\"WORLDCLIM/V1/BIO\")\n",
        "\n",
        "# NASA SRTM Digital Elevation 30m: Digital elevation data\n",
        "Terrain = ee.Algorithms.Terrain(ee.Image(\"USGS/SRTMGL1_003\"))\n",
        "\n",
        "# MOD44B.006 Terra MODIS Vegetation Continuous Fields Yearly Global 250m\n",
        "# Percent Tree Cover: Median between 2003 and 2020\n",
        "MODIS = ee.ImageCollection(\"MODIS/006/MOD44B\")\n",
        "MedianPTC = MODIS.filterDate('2003-01-01', '2020-12-31').select(['Percent_Tree_Cover'], ['PTC']).median()\n",
        "\n",
        "# TCC / Global Forest Cover Change(GFCC)\n",
        "TCC = ee.ImageCollection(\"NASA/MEASURES/GFCC/TC/v3\")\n",
        "MedianTCC = TCC.filterDate('2000-01-01', '2015-12-31')\n",
        "MedianTCC = MedianTCC.select(['tree_canopy_cover'], ['TCC']).median()\n",
        "\n",
        "# Combining Bands into a Single Multi-Band Image\n",
        "predictors = BIO.addBands(Terrain).addBands(MedianPTC).addBands(MedianTCC)\n",
        "\n",
        "# 수역 마스크 생성\n",
        "watermask =  Terrain.select('elevation').gt(0)\n",
        "\n",
        "# 해양 픽셀 마스킹 및 관심 영역 클리핑\n",
        "predictors = predictors.updateMask(watermask).clip(aoi)\n",
        "\n"
      ],
      "metadata": {
        "id": "RueMxhen1tWA",
        "outputId": "e5751178-beff-4e99-b9a3-f85f8ed467a8",
        "colab": {
          "base_uri": "https://localhost:8080/",
          "height": 17
        }
      },
      "execution_count": 7,
      "outputs": [
        {
          "output_type": "display_data",
          "data": {
            "text/plain": [
              "<IPython.core.display.HTML object>"
            ],
            "text/html": [
              "\n",
              "            <style>\n",
              "                .geemap-dark {\n",
              "                    --jp-widgets-color: white;\n",
              "                    --jp-widgets-label-color: white;\n",
              "                    --jp-ui-font-color1: white;\n",
              "                    --jp-layout-color2: #454545;\n",
              "                    background-color: #383838;\n",
              "                }\n",
              "\n",
              "                .geemap-dark .jupyter-button {\n",
              "                    --jp-layout-color3: #383838;\n",
              "                }\n",
              "\n",
              "                .geemap-colab {\n",
              "                    background-color: var(--colab-primary-surface-color, white);\n",
              "                }\n",
              "\n",
              "                .geemap-colab .jupyter-button {\n",
              "                    --jp-layout-color3: var(--colab-primary-surface-color, white);\n",
              "                }\n",
              "            </style>\n",
              "            "
            ]
          },
          "metadata": {}
        }
      ]
    },
    {
      "cell_type": "markdown",
      "source": [
        "모델에 높은 상관관계를 가진 예측 변수가 함께 포함되면 다중공선성 문제가 발생할 수 있습니다. 다중공선성은 모델의 독립 변수들 간에 강한 선형 관계가 있을 때 발생하는 현상으로, 모델 계수(가중치) 추정의 불안정을 초래합니다. 이러한 불안정성은 모델의 신뢰성을 감소시키고, 새로운 데이터에 대한 예측이나 해석을 어렵게 만들 수 있습니다. 따라서 우리는 다중공선성을 고려하고 예측 변수를 선택하는 과정을 진행할 것입니다.먼저, 5,000개의 무작위 점을 생성한 후, 해당 지점에서 단일 멀티밴드 이미지의 예측 변수 값을 추출할 것입니다."
      ],
      "metadata": {
        "id": "VqP54h8gaXlb"
      }
    },
    {
      "cell_type": "code",
      "source": [
        "# Generate 5,000 random points\n",
        "data_cor = predictors.sample(scale=grainsize, numPixels=5000, geometries=True)\n",
        "\n",
        "# Extract predictor variable values\n",
        "pvals = predictors.sampleRegions(collection=data_cor, scale=grainsize)"
      ],
      "metadata": {
        "id": "FEhTp1LRZ9Dl",
        "outputId": "acfe0bf2-8746-44aa-d3a6-6472e7f5d697",
        "colab": {
          "base_uri": "https://localhost:8080/",
          "height": 17
        }
      },
      "execution_count": 8,
      "outputs": [
        {
          "output_type": "display_data",
          "data": {
            "text/plain": [
              "<IPython.core.display.HTML object>"
            ],
            "text/html": [
              "\n",
              "            <style>\n",
              "                .geemap-dark {\n",
              "                    --jp-widgets-color: white;\n",
              "                    --jp-widgets-label-color: white;\n",
              "                    --jp-ui-font-color1: white;\n",
              "                    --jp-layout-color2: #454545;\n",
              "                    background-color: #383838;\n",
              "                }\n",
              "\n",
              "                .geemap-dark .jupyter-button {\n",
              "                    --jp-layout-color3: #383838;\n",
              "                }\n",
              "\n",
              "                .geemap-colab {\n",
              "                    background-color: var(--colab-primary-surface-color, white);\n",
              "                }\n",
              "\n",
              "                .geemap-colab .jupyter-button {\n",
              "                    --jp-layout-color3: var(--colab-primary-surface-color, white);\n",
              "                }\n",
              "            </style>\n",
              "            "
            ]
          },
          "metadata": {}
        }
      ]
    },
    {
      "cell_type": "markdown",
      "source": [
        "추출된 예측 변수 값을 각 포인트에 대해 DataFrame으로 변환한 후 첫 번째 행을 확인할 것입니다."
      ],
      "metadata": {
        "id": "o7KZC6CDkSZr"
      }
    },
    {
      "cell_type": "code",
      "source": [
        "# Converting predictor values from Earth Engine to a DataFrame\n",
        "pvals_df = geemap.ee_to_df(pvals)\n",
        "pvals_df.head(1)\n",
        "\n",
        "# Displaying the columns\n",
        "columns = pvals_df.columns\n",
        "print(columns)"
      ],
      "metadata": {
        "id": "RbdgeXIakXXw",
        "outputId": "34129533-008c-4759-f1fe-c446df090cc4",
        "colab": {
          "base_uri": "https://localhost:8080/",
          "height": 109
        }
      },
      "execution_count": 9,
      "outputs": [
        {
          "output_type": "display_data",
          "data": {
            "text/plain": [
              "<IPython.core.display.HTML object>"
            ],
            "text/html": [
              "\n",
              "            <style>\n",
              "                .geemap-dark {\n",
              "                    --jp-widgets-color: white;\n",
              "                    --jp-widgets-label-color: white;\n",
              "                    --jp-ui-font-color1: white;\n",
              "                    --jp-layout-color2: #454545;\n",
              "                    background-color: #383838;\n",
              "                }\n",
              "\n",
              "                .geemap-dark .jupyter-button {\n",
              "                    --jp-layout-color3: #383838;\n",
              "                }\n",
              "\n",
              "                .geemap-colab {\n",
              "                    background-color: var(--colab-primary-surface-color, white);\n",
              "                }\n",
              "\n",
              "                .geemap-colab .jupyter-button {\n",
              "                    --jp-layout-color3: var(--colab-primary-surface-color, white);\n",
              "                }\n",
              "            </style>\n",
              "            "
            ]
          },
          "metadata": {}
        },
        {
          "output_type": "stream",
          "name": "stdout",
          "text": [
            "Index(['PTC', 'TCC', 'aspect', 'bio01', 'bio02', 'bio03', 'bio04', 'bio05',\n",
            "       'bio06', 'bio07', 'bio08', 'bio09', 'bio10', 'bio11', 'bio12', 'bio13',\n",
            "       'bio14', 'bio15', 'bio16', 'bio17', 'bio18', 'bio19', 'elevation',\n",
            "       'hillshade', 'slope'],\n",
            "      dtype='object')\n"
          ]
        }
      ]
    },
    {
      "cell_type": "markdown",
      "source": [
        "주어진 예측 변수들 간의 스피어만 상관 계수를 계산하고, 이를 히트맵으로 시각화합니다. / 상관관계를 분석하는 방법은 여러가지가 있음, Pearson, Spearman, Kendall's tau 등 여기서 필요한 독립변수 선택, 그리고 fearture 변환과 연계하여 수정 필요"
      ],
      "metadata": {
        "id": "xVBicKtVkj88"
      }
    },
    {
      "cell_type": "code",
      "source": [
        "def plot_correlation_heatmap(dataframe, h_size=10, show_labels=False):\n",
        "    # Calculate Spearman correlation coefficients\n",
        "    correlation_matrix = dataframe.corr(method=\"spearman\")\n",
        "\n",
        "    # Create a heatmap\n",
        "    plt.figure(figsize=(h_size, h_size-2))\n",
        "    plt.imshow(correlation_matrix, cmap='coolwarm', interpolation='nearest')\n",
        "\n",
        "    # Optionally display values on the heatmap\n",
        "    if show_labels:\n",
        "        for i in range(correlation_matrix.shape[0]):\n",
        "            for j in range(correlation_matrix.shape[1]):\n",
        "                plt.text(j, i, f\"{correlation_matrix.iloc[i, j]:.2f}\",\n",
        "                         ha='center', va='center', color='white', fontsize=8)\n",
        "\n",
        "    columns = dataframe.columns.tolist()\n",
        "    plt.xticks(range(len(columns)), columns, rotation=90)\n",
        "    plt.yticks(range(len(columns)), columns)\n",
        "    plt.title(\"Variables Correlation Matrix\")\n",
        "    plt.colorbar(label=\"Spearman Correlation\")\n",
        "    plt.savefig('correlation_heatmap_plot.png')\n",
        "    plt.show()"
      ],
      "metadata": {
        "id": "EAmbfAamkqq1",
        "outputId": "2d506d9d-86df-4977-de51-3ba45604bc86",
        "colab": {
          "base_uri": "https://localhost:8080/",
          "height": 17
        }
      },
      "execution_count": 10,
      "outputs": [
        {
          "output_type": "display_data",
          "data": {
            "text/plain": [
              "<IPython.core.display.HTML object>"
            ],
            "text/html": [
              "\n",
              "            <style>\n",
              "                .geemap-dark {\n",
              "                    --jp-widgets-color: white;\n",
              "                    --jp-widgets-label-color: white;\n",
              "                    --jp-ui-font-color1: white;\n",
              "                    --jp-layout-color2: #454545;\n",
              "                    background-color: #383838;\n",
              "                }\n",
              "\n",
              "                .geemap-dark .jupyter-button {\n",
              "                    --jp-layout-color3: #383838;\n",
              "                }\n",
              "\n",
              "                .geemap-colab {\n",
              "                    background-color: var(--colab-primary-surface-color, white);\n",
              "                }\n",
              "\n",
              "                .geemap-colab .jupyter-button {\n",
              "                    --jp-layout-color3: var(--colab-primary-surface-color, white);\n",
              "                }\n",
              "            </style>\n",
              "            "
            ]
          },
          "metadata": {}
        }
      ]
    },
    {
      "cell_type": "code",
      "source": [
        "# Plot the correlation heatmap of variables\n",
        "plot_correlation_heatmap(pvals_df)"
      ],
      "metadata": {
        "id": "7Oxg7jpHkuKA",
        "outputId": "17cb27e4-294b-4e4c-885c-b2393b93f788",
        "colab": {
          "base_uri": "https://localhost:8080/",
          "height": 749
        }
      },
      "execution_count": 11,
      "outputs": [
        {
          "output_type": "display_data",
          "data": {
            "text/plain": [
              "<IPython.core.display.HTML object>"
            ],
            "text/html": [
              "\n",
              "            <style>\n",
              "                .geemap-dark {\n",
              "                    --jp-widgets-color: white;\n",
              "                    --jp-widgets-label-color: white;\n",
              "                    --jp-ui-font-color1: white;\n",
              "                    --jp-layout-color2: #454545;\n",
              "                    background-color: #383838;\n",
              "                }\n",
              "\n",
              "                .geemap-dark .jupyter-button {\n",
              "                    --jp-layout-color3: #383838;\n",
              "                }\n",
              "\n",
              "                .geemap-colab {\n",
              "                    background-color: var(--colab-primary-surface-color, white);\n",
              "                }\n",
              "\n",
              "                .geemap-colab .jupyter-button {\n",
              "                    --jp-layout-color3: var(--colab-primary-surface-color, white);\n",
              "                }\n",
              "            </style>\n",
              "            "
            ]
          },
          "metadata": {}
        },
        {
          "output_type": "display_data",
          "data": {
            "text/plain": [
              "<Figure size 1000x800 with 2 Axes>"
            ],
            "image/png": "[encoded data removed]"
          },
          "metadata": {}
        }
      ]
    },
    {
      "cell_type": "markdown",
      "source": [
        "스피어만 상관 계수는 예측 변수들 간의 일반적인 연관성을 이해하는 데 유용하지만, 다중공선성을 구체적으로 감지하는 것과는 다르게 여러 변수들의 상호작용을 직접적으로 평가하지는 않습니다.분산 팽창 계수(Variance Inflation Factor, VIF)는 다중공선성을 평가하고 변수 선택을 안내하는 데 사용되는 통계적 지표입니다. VIF는 각 독립 변수가 다른 독립 변수들과 얼마나 선형적으로 연관되어 있는지를 나타내며, 높은 VIF 값은 다중공선성의 증거가 될 수 있습니다.일반적으로 VIF 값이 5 또는 10을 초과하면 해당 변수가 다른 변수들과 강한 상관관계를 가지며, 이는 모델의 안정성과 해석 가능성을 저해할 수 있음을 시사합니다. 여기서는 VIF 값이 10 미만인 변수를 선택하는 기준을 사용했습니다."
      ],
      "metadata": {
        "id": "9GwJmoSRlG4C"
      }
    },
    {
      "cell_type": "code",
      "source": [
        "# Filter variables based on Variance Inflation Factor (VIF)\n",
        "def filter_variables_by_vif(dataframe, threshold=10):\n",
        "\n",
        "    original_columns = dataframe.columns.tolist()\n",
        "    remaining_columns = original_columns[:]\n",
        "\n",
        "    while True:\n",
        "        vif_data = dataframe[remaining_columns]\n",
        "        vif_values = [\n",
        "            variance_inflation_factor(vif_data.values, i)\n",
        "            for i in range(vif_data.shape[1])\n",
        "        ]\n",
        "\n",
        "        max_vif_index = vif_values.index(max(vif_values))\n",
        "        max_vif = max(vif_values)\n",
        "\n",
        "        if max_vif < threshold:\n",
        "            break\n",
        "\n",
        "        print(f\"Removing '{remaining_columns[max_vif_index]}' with VIF {max_vif:.2f}\")\n",
        "\n",
        "        del remaining_columns[max_vif_index]\n",
        "\n",
        "    filtered_data = dataframe[remaining_columns]\n",
        "    bands = filtered_data.columns.tolist()\n",
        "    print(\"Bands:\", bands)\n",
        "\n",
        "    return filtered_data, bands"
      ],
      "metadata": {
        "colab": {
          "base_uri": "https://localhost:8080/",
          "height": 17
        },
        "id": "yLAoIqhoYURH",
        "outputId": "f0c745ed-38a3-4151-b29f-c8809126008b"
      },
      "execution_count": 12,
      "outputs": [
        {
          "output_type": "display_data",
          "data": {
            "text/plain": [
              "<IPython.core.display.HTML object>"
            ],
            "text/html": [
              "\n",
              "            <style>\n",
              "                .geemap-dark {\n",
              "                    --jp-widgets-color: white;\n",
              "                    --jp-widgets-label-color: white;\n",
              "                    --jp-ui-font-color1: white;\n",
              "                    --jp-layout-color2: #454545;\n",
              "                    background-color: #383838;\n",
              "                }\n",
              "\n",
              "                .geemap-dark .jupyter-button {\n",
              "                    --jp-layout-color3: #383838;\n",
              "                }\n",
              "\n",
              "                .geemap-colab {\n",
              "                    background-color: var(--colab-primary-surface-color, white);\n",
              "                }\n",
              "\n",
              "                .geemap-colab .jupyter-button {\n",
              "                    --jp-layout-color3: var(--colab-primary-surface-color, white);\n",
              "                }\n",
              "            </style>\n",
              "            "
            ]
          },
          "metadata": {}
        }
      ]
    },
    {
      "cell_type": "code",
      "source": [
        "filtered_pvals_df, bands = filter_variables_by_vif(pvals_df)"
      ],
      "metadata": {
        "colab": {
          "base_uri": "https://localhost:8080/",
          "height": 403
        },
        "id": "bsD0itKCYcZ2",
        "outputId": "02919308-c1f3-4d1f-9473-51ccb9c05c0d"
      },
      "execution_count": 13,
      "outputs": [
        {
          "output_type": "display_data",
          "data": {
            "text/plain": [
              "<IPython.core.display.HTML object>"
            ],
            "text/html": [
              "\n",
              "            <style>\n",
              "                .geemap-dark {\n",
              "                    --jp-widgets-color: white;\n",
              "                    --jp-widgets-label-color: white;\n",
              "                    --jp-ui-font-color1: white;\n",
              "                    --jp-layout-color2: #454545;\n",
              "                    background-color: #383838;\n",
              "                }\n",
              "\n",
              "                .geemap-dark .jupyter-button {\n",
              "                    --jp-layout-color3: #383838;\n",
              "                }\n",
              "\n",
              "                .geemap-colab {\n",
              "                    background-color: var(--colab-primary-surface-color, white);\n",
              "                }\n",
              "\n",
              "                .geemap-colab .jupyter-button {\n",
              "                    --jp-layout-color3: var(--colab-primary-surface-color, white);\n",
              "                }\n",
              "            </style>\n",
              "            "
            ]
          },
          "metadata": {}
        },
        {
          "output_type": "stream",
          "name": "stdout",
          "text": [
            "Removing 'bio05' with VIF inf\n",
            "Removing 'bio09' with VIF inf\n",
            "Removing 'bio17' with VIF inf\n",
            "Removing 'bio04' with VIF 556350.98\n",
            "Removing 'bio16' with VIF 526499.61\n",
            "Removing 'bio07' with VIF 254798.29\n",
            "Removing 'bio10' with VIF 154513.61\n",
            "Removing 'bio12' with VIF 101329.32\n",
            "Removing 'bio08' with VIF 33280.74\n",
            "Removing 'bio15' with VIF 22869.44\n",
            "Removing 'bio02' with VIF 18521.73\n",
            "Removing 'bio19' with VIF 5157.35\n",
            "Removing 'bio18' with VIF 4208.87\n",
            "Removing 'bio06' with VIF 3711.35\n",
            "Removing 'bio13' with VIF 1906.90\n",
            "Removing 'bio03' with VIF 1462.91\n",
            "Removing 'bio14' with VIF 121.91\n",
            "Removing 'hillshade' with VIF 41.18\n",
            "Removing 'PTC' with VIF 21.39\n",
            "Removing 'elevation' with VIF 11.24\n",
            "Bands: ['TCC', 'aspect', 'bio01', 'bio11', 'slope']\n"
          ]
        }
      ]
    },
    {
      "cell_type": "code",
      "source": [
        "# Variable Selection Based on VIF\n",
        "predictors = predictors.select(bands)\n",
        "\n",
        "# Plot the correlation heatmap of variables\n",
        "plot_correlation_heatmap(filtered_pvals_df, h_size=6, show_labels=True)"
      ],
      "metadata": {
        "colab": {
          "base_uri": "https://localhost:8080/",
          "height": 423
        },
        "id": "JOjTqWrLYquf",
        "outputId": "6b9103b8-a899-4e88-9f10-f30c5bf5df1c"
      },
      "execution_count": 14,
      "outputs": [
        {
          "output_type": "display_data",
          "data": {
            "text/plain": [
              "<IPython.core.display.HTML object>"
            ],
            "text/html": [
              "\n",
              "            <style>\n",
              "                .geemap-dark {\n",
              "                    --jp-widgets-color: white;\n",
              "                    --jp-widgets-label-color: white;\n",
              "                    --jp-ui-font-color1: white;\n",
              "                    --jp-layout-color2: #454545;\n",
              "                    background-color: #383838;\n",
              "                }\n",
              "\n",
              "                .geemap-dark .jupyter-button {\n",
              "                    --jp-layout-color3: #383838;\n",
              "                }\n",
              "\n",
              "                .geemap-colab {\n",
              "                    background-color: var(--colab-primary-surface-color, white);\n",
              "                }\n",
              "\n",
              "                .geemap-colab .jupyter-button {\n",
              "                    --jp-layout-color3: var(--colab-primary-surface-color, white);\n",
              "                }\n",
              "            </style>\n",
              "            "
            ]
          },
          "metadata": {}
        },
        {
          "output_type": "display_data",
          "data": {
            "text/plain": [
              "<Figure size 600x400 with 2 Axes>"
            ],
            "image/png": "[encoded data removed]"
          },
          "metadata": {}
        }
      ]
    },
    {
      "cell_type": "markdown",
      "source": [
        "다음으로, 선택된 예측 변수를 지도에 시각화해봅니다."
      ],
      "metadata": {
        "id": "cKek31PmmjNb"
      }
    },
    {
      "cell_type": "code",
      "source": [
        "cm.plot_colormap('terrain', width=8.0, height=0.2, orientation='horizontal')"
      ],
      "metadata": {
        "id": "--GP3BbImmJI",
        "outputId": "583df845-87a8-4b8e-900b-50d69246eb8d",
        "colab": {
          "base_uri": "https://localhost:8080/",
          "height": 52
        }
      },
      "execution_count": 15,
      "outputs": [
        {
          "output_type": "display_data",
          "data": {
            "text/plain": [
              "<IPython.core.display.HTML object>"
            ],
            "text/html": [
              "\n",
              "            <style>\n",
              "                .geemap-dark {\n",
              "                    --jp-widgets-color: white;\n",
              "                    --jp-widgets-label-color: white;\n",
              "                    --jp-ui-font-color1: white;\n",
              "                    --jp-layout-color2: #454545;\n",
              "                    background-color: #383838;\n",
              "                }\n",
              "\n",
              "                .geemap-dark .jupyter-button {\n",
              "                    --jp-layout-color3: #383838;\n",
              "                }\n",
              "\n",
              "                .geemap-colab {\n",
              "                    background-color: var(--colab-primary-surface-color, white);\n",
              "                }\n",
              "\n",
              "                .geemap-colab .jupyter-button {\n",
              "                    --jp-layout-color3: var(--colab-primary-surface-color, white);\n",
              "                }\n",
              "            </style>\n",
              "            "
            ]
          },
          "metadata": {}
        },
        {
          "output_type": "display_data",
          "data": {
            "text/plain": [
              "<Figure size 800x20 with 1 Axes>"
            ],
            "image/png": "[encoded data removed]"
          },
          "metadata": {}
        }
      ]
    },
    {
      "cell_type": "code",
      "source": [
        "# Calculate the minimum and maximum values for bio01\n",
        "min_max_val = (\n",
        "    predictors.select(\"bio01\")\n",
        "    .multiply(0.1)\n",
        "    .reduceRegion(reducer=ee.Reducer.minMax(), scale=1000)\n",
        "    .getInfo()\n",
        ")\n",
        "\n",
        "# bio01 (Mean temperature) layer\n",
        "Map = geemap.Map(layout={\"height\": \"400px\", \"width\": \"800px\"})\n",
        "\n",
        "vis_params = {\n",
        "    \"min\": math.floor(min_max_val[\"bio01_min\"]),\n",
        "    \"max\": math.ceil(min_max_val[\"bio01_max\"]),\n",
        "    \"palette\": cm.palettes.hot,\n",
        "}\n",
        "Map.addLayer(predictors.select(\"bio01\").multiply(0.1), vis_params, \"bio01\")\n",
        "Map.add_colorbar(\n",
        "    vis_params,\n",
        "    label=\"Mean temperature of driest quarter (℃)\",\n",
        "    orientation=\"vertical\",\n",
        "    layer_name=\"bio01\",\n",
        ")\n",
        "Map.centerObject(aoi, 8)\n",
        "Map"
      ],
      "metadata": {
        "colab": {
          "base_uri": "https://localhost:8080/",
          "height": 421,
          "referenced_widgets": [
            "c35c123bae12436ba13c53b5a2332bff",
            "51cea21f31be40b9b631b3faf54b74ca",
            "9ddf3039333f45f0931c4c99e71c6d41",
            "a985a0bf8124450d9fc301dc886403c2",
            "19911dfdfd3947b9b979c51fff088d42",
            "4007416805a64eb88f28e23c35b08f99",
            "a65191bf2c8542e19740cb430c664622",
            "c9f7c824bea34ec7aa36575dc5b4894c",
            "234b0d84ed1f4494ae60e3acf2ca1df6",
            "af7c0b37b2004a7a96848cd29eee7c09",
            "05436b5fb9464098b5372033d4094bb3",
            "95e8e9f7898f4314ad635d25776b2a38",
            "f21f1c4bf4ce42d19381c8bda084d4a5",
            "9d42d6a97d9645e887c32cf8df2a0878",
            "2ac102566f094e80a8ed748f30f39db1",
            "c621733bf8154f93afc67fff66dff104",
            "7c860599eb9f46b3a23029e902cd65e4",
            "fc582cddd2e74840bedb06819bdbdff6",
            "5ce510fe58974385963f743f278c6476",
            "08d7194af6634803bbb1b9c43e6cd111",
            "100adffb2080454fb876449bba1ae345",
            "b176729026b8426fbe7e2611fc38482e",
            "66ec9105d1af44e1a2081e624f06b4ea",
            "f60c9e6c92304991a0707adeda8d453c",
            "d51662e8b10e4524b919d096bea184fd",
            "4103a342f22a46de838d3fa23baaaae6",
            "64131708b95b414bb440ef530adef1e7",
            "78dac60a3fcd41eba1dcb0968f84a25b"
          ]
        },
        "id": "QO8fkQTZY_6e",
        "outputId": "396a3a48-7ea1-4e27-c1b3-a0d3fe207f66"
      },
      "execution_count": 16,
      "outputs": [
        {
          "output_type": "display_data",
          "data": {
            "text/plain": [
              "<IPython.core.display.HTML object>"
            ],
            "text/html": [
              "\n",
              "            <style>\n",
              "                .geemap-dark {\n",
              "                    --jp-widgets-color: white;\n",
              "                    --jp-widgets-label-color: white;\n",
              "                    --jp-ui-font-color1: white;\n",
              "                    --jp-layout-color2: #454545;\n",
              "                    background-color: #383838;\n",
              "                }\n",
              "\n",
              "                .geemap-dark .jupyter-button {\n",
              "                    --jp-layout-color3: #383838;\n",
              "                }\n",
              "\n",
              "                .geemap-colab {\n",
              "                    background-color: var(--colab-primary-surface-color, white);\n",
              "                }\n",
              "\n",
              "                .geemap-colab .jupyter-button {\n",
              "                    --jp-layout-color3: var(--colab-primary-surface-color, white);\n",
              "                }\n",
              "            </style>\n",
              "            "
            ]
          },
          "metadata": {}
        },
        {
          "output_type": "display_data",
          "data": {
            "text/plain": [
              "Map(center=[36.52971161769407, 127.85645081415713], controls=(WidgetControl(options=['position', 'transparent_…"
            ],
            "application/vnd.jupyter.widget-view+json": {
              "version_major": 2,
              "version_minor": 0,
              "model_id": "c35c123bae12436ba13c53b5a2332bff"
            }
          },
          "metadata": {
            "application/vnd.jupyter.widget-view+json": {
              "colab": {
                "custom_widget_manager": {
                  "url": "https://ssl.gstatic.com/colaboratory-static/widgets/colab-cdn-widget-manager/2b70e893a8ba7c0f/manager.min.js"
                }
              }
            }
          }
        }
      ]
    },
    {
      "cell_type": "code",
      "source": [
        "# Slope layer\n",
        "Map = geemap.Map(layout={'height':'400px', 'width':'800px'})\n",
        "\n",
        "vis_params = {'bands':['slope'], 'min': 0, 'max': 25, 'palette': cm.palettes.RdYlGn_r}\n",
        "Map.addLayer(predictors, vis_params, 'slope')\n",
        "Map.add_colorbar(vis_params, label=\"Slope\", orientation=\"vertical\", layer_name=\"slope\")\n",
        "Map.centerObject(aoi, 8)\n",
        "Map"
      ],
      "metadata": {
        "id": "RbIla2ijnj0u",
        "outputId": "0689df48-8f69-48e9-f3a3-5e9f2a9f1e50",
        "colab": {
          "base_uri": "https://localhost:8080/",
          "height": 421,
          "referenced_widgets": [
            "3c1580cb521640a4815b364bfe7dfb7d",
            "6c151dd7653846439b2634e0dd9cf9df",
            "f483a21297724f69877448408f3addbb",
            "29abd4e9c062470baaf9eaa72e6665e6",
            "a0ec2ebf0654440697a18193d39bdee2",
            "57cb6bd3bc83497a85900d0158309ce4",
            "a8b8d96676ae401fb4a656e62370363e",
            "5f075e14b6504b298bbfd74f0b2d2d27",
            "f54b7f66d1e94d66ae06cfd8e2b8a4b3",
            "8fe675fae9f14afd8aed0cc38ee71356",
            "de085fbe1896462893cc8f13544c06db",
            "5e5229bce3ef44659532304deb0351cb",
            "332c0afa42de411e8e690343d3ec473f",
            "f687d093c44f4411884ef4531302e448",
            "4eb3f646a15344638de6b3e4e878d057",
            "5e5bb64b25434dc6a15af6d435c8efd7",
            "49e3b5cd9b504736ac509972f9fe8e45",
            "66159b06e86145bab7647781dcee0ec0",
            "5fbfe9dbcf4e4369a0634bbca4f1bdc1",
            "13b245ce117a45c28cc3921c26fa7098",
            "b76071d0f1954058a58a55ce324cd237",
            "83330960c10f492693a6117e503949d5",
            "66e6862aca5c415cb4c8a135c168bea9",
            "02d1dbe6035742bc9cb6f62c10bfcaaa",
            "1c9694a07dac4b3492a640273b86abfa",
            "b2d489ff02ba4228bdc3b75ab5373b71",
            "99a32c4d8b4041169e8d2c54827d8f31",
            "d75e2f8137514fd0be0fdbe80737f72b"
          ]
        }
      },
      "execution_count": 17,
      "outputs": [
        {
          "output_type": "display_data",
          "data": {
            "text/plain": [
              "<IPython.core.display.HTML object>"
            ],
            "text/html": [
              "\n",
              "            <style>\n",
              "                .geemap-dark {\n",
              "                    --jp-widgets-color: white;\n",
              "                    --jp-widgets-label-color: white;\n",
              "                    --jp-ui-font-color1: white;\n",
              "                    --jp-layout-color2: #454545;\n",
              "                    background-color: #383838;\n",
              "                }\n",
              "\n",
              "                .geemap-dark .jupyter-button {\n",
              "                    --jp-layout-color3: #383838;\n",
              "                }\n",
              "\n",
              "                .geemap-colab {\n",
              "                    background-color: var(--colab-primary-surface-color, white);\n",
              "                }\n",
              "\n",
              "                .geemap-colab .jupyter-button {\n",
              "                    --jp-layout-color3: var(--colab-primary-surface-color, white);\n",
              "                }\n",
              "            </style>\n",
              "            "
            ]
          },
          "metadata": {}
        },
        {
          "output_type": "display_data",
          "data": {
            "text/plain": [
              "Map(center=[36.52971161769407, 127.85645081415713], controls=(WidgetControl(options=['position', 'transparent_…"
            ],
            "application/vnd.jupyter.widget-view+json": {
              "version_major": 2,
              "version_minor": 0,
              "model_id": "3c1580cb521640a4815b364bfe7dfb7d"
            }
          },
          "metadata": {
            "application/vnd.jupyter.widget-view+json": {
              "colab": {
                "custom_widget_manager": {
                  "url": "https://ssl.gstatic.com/colaboratory-static/widgets/colab-cdn-widget-manager/2b70e893a8ba7c0f/manager.min.js"
                }
              }
            }
          }
        }
      ]
    },
    {
      "cell_type": "code",
      "source": [
        "# Aspect layer\n",
        "Map = geemap.Map(layout={'height':'400px', 'width':'800px'})\n",
        "\n",
        "vis_params = {'bands':['aspect'], 'min': 0, 'max': 360, 'palette': cm.palettes.rainbow}\n",
        "Map.addLayer(predictors, vis_params, 'aspect')\n",
        "Map.add_colorbar(vis_params, label=\"Aspect\", orientation=\"vertical\", layer_name=\"aspect\")\n",
        "Map.centerObject(aoi, 8)\n",
        "Map"
      ],
      "metadata": {
        "id": "NNEVu943nrEW",
        "outputId": "fdeb3fb0-1d74-4244-b049-0965db0fdc7d",
        "colab": {
          "base_uri": "https://localhost:8080/",
          "height": 421,
          "referenced_widgets": [
            "a3721c4597f9467d8435ad2b2c312394",
            "10669a1f70f04af4a4f62b088fc431d9",
            "944d7823c01742a9aebdc928cb723c39",
            "2a6b348ac48541ab8de7b054ad52a3fa",
            "29a0f60bb16b4e18be7ec30c8102dbca",
            "64eb985642554c58bd145abeffdd76a1",
            "97c82366a836420bae2a405cd9f0676c",
            "0c05a67500c14c1c8b9a60e5ad12ee57",
            "1a5191b4093a445db3d2f1ad712d8122",
            "1568c9f8e67f4823a06328304c3690c9",
            "30f59b737b9c4ed7b441aa48e11a8179",
            "37d26ad58dc04c699fcad0b53eaff927",
            "bbce7e76cef94070a49069d3c8f3b417",
            "89496f54f45941479096b42d38ac36a4",
            "45a29b6fcd7144a4b1feae5afe632a4f",
            "b7e33fea874342ac991ee492e98e7e7e",
            "15db9b965e8e42968b1a05d24d8d8f37",
            "3155fa7105314c99b3dca6d48345d237",
            "fe2572f44999490cb0d206145bc2eda2",
            "5098333a8b764a86bc0d0fa82410ee0d",
            "630f3a5a6ca14d2ea9593644493cc15e",
            "209a1a6426ca4b8b8d2937aae027245e",
            "d7c38118b6954168a005d5c6ac12675c",
            "d3cb5a3ced424f4f956360a7f972e99a",
            "5b16bf8d8bdb48a1a21d72362cb051ec",
            "8b0acf465dda4becb58deef4ee56a5f2",
            "61c2f3afd8474433814e91392c0bc673",
            "846b0a8dcf204f47850f8ef9b46bbe86"
          ]
        }
      },
      "execution_count": 18,
      "outputs": [
        {
          "output_type": "display_data",
          "data": {
            "text/plain": [
              "<IPython.core.display.HTML object>"
            ],
            "text/html": [
              "\n",
              "            <style>\n",
              "                .geemap-dark {\n",
              "                    --jp-widgets-color: white;\n",
              "                    --jp-widgets-label-color: white;\n",
              "                    --jp-ui-font-color1: white;\n",
              "                    --jp-layout-color2: #454545;\n",
              "                    background-color: #383838;\n",
              "                }\n",
              "\n",
              "                .geemap-dark .jupyter-button {\n",
              "                    --jp-layout-color3: #383838;\n",
              "                }\n",
              "\n",
              "                .geemap-colab {\n",
              "                    background-color: var(--colab-primary-surface-color, white);\n",
              "                }\n",
              "\n",
              "                .geemap-colab .jupyter-button {\n",
              "                    --jp-layout-color3: var(--colab-primary-surface-color, white);\n",
              "                }\n",
              "            </style>\n",
              "            "
            ]
          },
          "metadata": {}
        },
        {
          "output_type": "display_data",
          "data": {
            "text/plain": [
              "Map(center=[36.52971161769407, 127.85645081415713], controls=(WidgetControl(options=['position', 'transparent_…"
            ],
            "application/vnd.jupyter.widget-view+json": {
              "version_major": 2,
              "version_minor": 0,
              "model_id": "a3721c4597f9467d8435ad2b2c312394"
            }
          },
          "metadata": {
            "application/vnd.jupyter.widget-view+json": {
              "colab": {
                "custom_widget_manager": {
                  "url": "https://ssl.gstatic.com/colaboratory-static/widgets/colab-cdn-widget-manager/2b70e893a8ba7c0f/manager.min.js"
                }
              }
            }
          }
        }
      ]
    },
    {
      "cell_type": "code",
      "source": [
        "# TCC layer\n",
        "Map = geemap.Map(layout={\"height\": \"400px\", \"width\": \"800px\"})\n",
        "\n",
        "vis_params = {\n",
        "    \"bands\": [\"TCC\"],\n",
        "    \"min\": 0,\n",
        "    \"max\": 100,\n",
        "    \"palette\": [\"ffffff\", \"afce56\", \"5f9c00\", \"0e6a00\", \"003800\"],\n",
        "}\n",
        "Map.addLayer(predictors, vis_params, \"TCC\")\n",
        "Map.add_colorbar(\n",
        "    vis_params, label=\"Tree Canopy Cover (%)\", orientation=\"vertical\", layer_name=\"TCC\"\n",
        ")\n",
        "Map.centerObject(aoi, 8)\n",
        "Map\n"
      ],
      "metadata": {
        "colab": {
          "base_uri": "https://localhost:8080/",
          "height": 421,
          "referenced_widgets": [
            "3cb70bba009b49a9960e65684608fec5",
            "1367ed28f52645699360ea178fb9ec37",
            "6431bcac4a9b4102acf8b8c2e5057795",
            "8c314600742e472697b20fdb6fa796c9",
            "52b78d7a80b840e1bf1b83904b5e09d4",
            "e58d9277760843279c58ff6dfe58ab3d",
            "f30c304a158a4a809d3caa467c4d7eda",
            "cf4f710014e84431b9752463f6dfef53",
            "91795374b21e47dabb052e3b0c402715",
            "f49db6cd6ccb4733b83588706447fb2a",
            "915b3def54cf48c0a8068031c8cd9152",
            "9228a0ea7ca9488bbc7288b7f9529e5c",
            "634e17e58f6b4b6ba1726f809dcc7ef4",
            "d219d43094e347cfbad8be0a421e0de1",
            "a56ffecb0b714c90a2ef5f7e19d7bac9",
            "29e2b71c8a7043f9b990cd40972fe806",
            "5a76ffeeb6f24418b16d717ad5880f04",
            "e7087e5fc5be41658b174f771fb4aa3b",
            "7cb17392d6564d88b2f17d8c8b61ee64",
            "a63b00ab2c8b47f2b8f31151e1f50332",
            "945366021b3f429fba93f80b5327c6ff",
            "8360d79e2e824402889137683780ce3c",
            "814920f10a5e48f088b31d84039a9e3c",
            "2dafab83efc2431e86bb65e7353cf9d2",
            "077bf48d95fd48a09b881a8cd725a055",
            "cdc671142f0a4ffcb28632f17dd6f695",
            "bffde3b4ef434f78b1a98e68f6aac43b",
            "82da58bdeb864d38a0ef9ca4a2837b09"
          ]
        },
        "id": "ddCXq8OwnfRU",
        "outputId": "905c29af-6ce7-4473-a6ef-a1e144da09a8"
      },
      "execution_count": 19,
      "outputs": [
        {
          "output_type": "display_data",
          "data": {
            "text/plain": [
              "<IPython.core.display.HTML object>"
            ],
            "text/html": [
              "\n",
              "            <style>\n",
              "                .geemap-dark {\n",
              "                    --jp-widgets-color: white;\n",
              "                    --jp-widgets-label-color: white;\n",
              "                    --jp-ui-font-color1: white;\n",
              "                    --jp-layout-color2: #454545;\n",
              "                    background-color: #383838;\n",
              "                }\n",
              "\n",
              "                .geemap-dark .jupyter-button {\n",
              "                    --jp-layout-color3: #383838;\n",
              "                }\n",
              "\n",
              "                .geemap-colab {\n",
              "                    background-color: var(--colab-primary-surface-color, white);\n",
              "                }\n",
              "\n",
              "                .geemap-colab .jupyter-button {\n",
              "                    --jp-layout-color3: var(--colab-primary-surface-color, white);\n",
              "                }\n",
              "            </style>\n",
              "            "
            ]
          },
          "metadata": {}
        },
        {
          "output_type": "display_data",
          "data": {
            "text/plain": [
              "Map(center=[36.52971161769407, 127.85645081415713], controls=(WidgetControl(options=['position', 'transparent_…"
            ],
            "application/vnd.jupyter.widget-view+json": {
              "version_major": 2,
              "version_minor": 0,
              "model_id": "3cb70bba009b49a9960e65684608fec5"
            }
          },
          "metadata": {
            "application/vnd.jupyter.widget-view+json": {
              "colab": {
                "custom_widget_manager": {
                  "url": "https://ssl.gstatic.com/colaboratory-static/widgets/colab-cdn-widget-manager/2b70e893a8ba7c0f/manager.min.js"
                }
              }
            }
          }
        }
      ]
    },
    {
      "cell_type": "markdown",
      "source": [
        "# 4. Input data 선택 Presence-Background(MaxEnt)\n",
        "SDM은 여러가지 접근 방법이 있습니다. 여기서는 Presence only models로 Presence/background 모델 적합 및 해석 방식인 Maxent를 사용합니다. / 이거 오늘안에 해결하고 고쳐놓기"
      ],
      "metadata": {
        "id": "dU2KxrVun97v"
      }
    },
    {
      "cell_type": "code",
      "source": [
        "# Add a property indicating presence\n",
        "species_points = species_points.map(lambda feature: feature.set('presence', 1))\n",
        "\n",
        "# Create background points\n",
        "background_points = ee.FeatureCollection.randomPoints(\n",
        "    region=species_points.geometry().bounds(),\n",
        "    points=500,  # Number of background points\n",
        "    seed=42\n",
        ").map(lambda feature: feature.set('presence', 0))\n",
        "\n",
        "# Combine species occurrence points with background points\n",
        "combined_points = species_points.merge(background_points)\n",
        "\n",
        "# Sample the environmental data at the presence and background points\n",
        "training_data = climate_data.sampleRegions(\n",
        "    collection=combined_points,\n",
        "    properties=['presence'],\n",
        "    scale=30\n",
        ")\n",
        "\n",
        "# Create some sample species presence/absence training data.\n",
        "training_data = ee.FeatureCollection([\n",
        "    # Species present points.\n",
        "    ee.Feature(ee.Geometry.Point([-122.39567, 38.02740]), {'presence': 1}),\n",
        "    ee.Feature(ee.Geometry.Point([-122.68560, 37.83690]), {'presence': 1}),\n",
        "    # Species absent points.\n",
        "    ee.Feature(ee.Geometry.Point([-122.59755, 37.92402]), {'presence': 0}),\n",
        "    ee.Feature(ee.Geometry.Point([-122.47137, 37.99291]), {'presence': 0}),\n",
        "    ee.Feature(ee.Geometry.Point([-122.52905, 37.85642]), {'presence': 0}),\n",
        "    ee.Feature(ee.Geometry.Point([-122.03010, 37.66660]), {'presence': 0})\n",
        "])"
      ],
      "metadata": {
        "colab": {
          "base_uri": "https://localhost:8080/",
          "height": 221
        },
        "id": "zfdjkLmbWwg7",
        "outputId": "befdb2d9-d199-436f-c94c-a02d0d154c06"
      },
      "execution_count": 20,
      "outputs": [
        {
          "output_type": "display_data",
          "data": {
            "text/plain": [
              "<IPython.core.display.HTML object>"
            ],
            "text/html": [
              "\n",
              "            <style>\n",
              "                .geemap-dark {\n",
              "                    --jp-widgets-color: white;\n",
              "                    --jp-widgets-label-color: white;\n",
              "                    --jp-ui-font-color1: white;\n",
              "                    --jp-layout-color2: #454545;\n",
              "                    background-color: #383838;\n",
              "                }\n",
              "\n",
              "                .geemap-dark .jupyter-button {\n",
              "                    --jp-layout-color3: #383838;\n",
              "                }\n",
              "\n",
              "                .geemap-colab {\n",
              "                    background-color: var(--colab-primary-surface-color, white);\n",
              "                }\n",
              "\n",
              "                .geemap-colab .jupyter-button {\n",
              "                    --jp-layout-color3: var(--colab-primary-surface-color, white);\n",
              "                }\n",
              "            </style>\n",
              "            "
            ]
          },
          "metadata": {}
        },
        {
          "output_type": "error",
          "ename": "NameError",
          "evalue": "name 'species_points' is not defined",
          "traceback": [
            "\u001b[0;31m---------------------------------------------------------------------------\u001b[0m",
            "\u001b[0;31mNameError\u001b[0m                                 Traceback (most recent call last)",
            "\u001b[0;32m<ipython-input-20-f7c968341c4f>\u001b[0m in \u001b[0;36m<cell line: 2>\u001b[0;34m()\u001b[0m\n\u001b[1;32m      1\u001b[0m \u001b[0;31m# Add a property indicating presence\u001b[0m\u001b[0;34m\u001b[0m\u001b[0;34m\u001b[0m\u001b[0m\n\u001b[0;32m----> 2\u001b[0;31m \u001b[0mspecies_points\u001b[0m \u001b[0;34m=\u001b[0m \u001b[0mspecies_points\u001b[0m\u001b[0;34m.\u001b[0m\u001b[0mmap\u001b[0m\u001b[0;34m(\u001b[0m\u001b[0;32mlambda\u001b[0m \u001b[0mfeature\u001b[0m\u001b[0;34m:\u001b[0m \u001b[0mfeature\u001b[0m\u001b[0;34m.\u001b[0m\u001b[0mset\u001b[0m\u001b[0;34m(\u001b[0m\u001b[0;34m'presence'\u001b[0m\u001b[0;34m,\u001b[0m \u001b[0;36m1\u001b[0m\u001b[0;34m)\u001b[0m\u001b[0;34m)\u001b[0m\u001b[0;34m\u001b[0m\u001b[0;34m\u001b[0m\u001b[0m\n\u001b[0m\u001b[1;32m      3\u001b[0m \u001b[0;34m\u001b[0m\u001b[0m\n\u001b[1;32m      4\u001b[0m \u001b[0;31m# Create background points\u001b[0m\u001b[0;34m\u001b[0m\u001b[0;34m\u001b[0m\u001b[0m\n\u001b[1;32m      5\u001b[0m background_points = ee.FeatureCollection.randomPoints(\n",
            "\u001b[0;31mNameError\u001b[0m: name 'species_points' is not defined"
          ]
        }
      ]
    },
    {
      "cell_type": "code",
      "source": [
        "# 100개의 출현 위치 무작위로 선택\n",
        "PixelVals = predictors.sampleRegions(\n",
        "    collection=Data.randomColumn().sort('random').limit(100),\n",
        "    properties=[],\n",
        "    tileScale=16,\n",
        "    scale=GrainSize\n",
        ")"
      ],
      "metadata": {
        "colab": {
          "base_uri": "https://localhost:8080/",
          "height": 17
        },
        "id": "n8czbrCFn_R4",
        "outputId": "a784657f-048c-43b4-9be9-6634bf0ef3be"
      },
      "execution_count": null,
      "outputs": [
        {
          "output_type": "display_data",
          "data": {
            "text/plain": [
              "<IPython.core.display.HTML object>"
            ],
            "text/html": [
              "\n",
              "            <style>\n",
              "                .geemap-dark {\n",
              "                    --jp-widgets-color: white;\n",
              "                    --jp-widgets-label-color: white;\n",
              "                    --jp-ui-font-color1: white;\n",
              "                    --jp-layout-color2: #454545;\n",
              "                    background-color: #383838;\n",
              "                }\n",
              "\n",
              "                .geemap-dark .jupyter-button {\n",
              "                    --jp-layout-color3: #383838;\n",
              "                }\n",
              "\n",
              "                .geemap-colab {\n",
              "                    background-color: var(--colab-primary-surface-color, white);\n",
              "                }\n",
              "\n",
              "                .geemap-colab .jupyter-button {\n",
              "                    --jp-layout-color3: var(--colab-primary-surface-color, white);\n",
              "                }\n",
              "            </style>\n",
              "            "
            ]
          },
          "metadata": {}
        }
      ]
    },
    {
      "cell_type": "code",
      "source": [
        "# k-means 클러스터링\n",
        "clusterer = ee.Clusterer.wekaKMeans(\n",
        "    nClusters=2,\n",
        "    distanceFunction=\"Euclidean\"\n",
        ").train(PixelVals)\n",
        "\n",
        "Clresult = predictors.cluster(clusterer)\n",
        "\n",
        "# 출현 위치와 유사한 클러스터 ID\n",
        "clustID = Clresult.sampleRegions(\n",
        "    collection=Data.randomColumn().sort('random').limit(200),\n",
        "    properties=[],\n",
        "    tileScale=16,\n",
        "    scale=GrainSize\n",
        ")\n",
        "\n",
        "# 유사하지 않은 클러스터에서 임의-비출현 영역 정의\n",
        "clustID = ee.FeatureCollection(clustID). \\\n",
        "reduceColumns(ee.Reducer.mode(),['cluster'])\n",
        "clustID = ee.Number(clustID.get('mode')).subtract(1).abs()\n",
        "cl_mask = Clresult.select(['cluster']).eq(clustID)\n"
      ],
      "metadata": {
        "colab": {
          "base_uri": "https://localhost:8080/",
          "height": 17
        },
        "id": "kvh4P3O1p-Vq",
        "outputId": "7966a897-d1f0-4b66-c0a8-78f4105704e7"
      },
      "execution_count": null,
      "outputs": [
        {
          "output_type": "display_data",
          "data": {
            "text/plain": [
              "<IPython.core.display.HTML object>"
            ],
            "text/html": [
              "\n",
              "            <style>\n",
              "                .geemap-dark {\n",
              "                    --jp-widgets-color: white;\n",
              "                    --jp-widgets-label-color: white;\n",
              "                    --jp-ui-font-color1: white;\n",
              "                    --jp-layout-color2: #454545;\n",
              "                    background-color: #383838;\n",
              "                }\n",
              "\n",
              "                .geemap-dark .jupyter-button {\n",
              "                    --jp-layout-color3: #383838;\n",
              "                }\n",
              "\n",
              "                .geemap-colab {\n",
              "                    background-color: var(--colab-primary-surface-color, white);\n",
              "                }\n",
              "\n",
              "                .geemap-colab .jupyter-button {\n",
              "                    --jp-layout-color3: var(--colab-primary-surface-color, white);\n",
              "                }\n",
              "            </style>\n",
              "            "
            ]
          },
          "metadata": {}
        }
      ]
    },
    {
      "cell_type": "code",
      "source": [
        "# 출현 위치 마스크\n",
        "presence_mask = Data.reduceToImage(\n",
        "    properties=['random'],\n",
        "    reducer=ee.Reducer.first()\n",
        ").reproject('EPSG:4326', None,\n",
        "            ee.Number(GrainSize)).mask().neq(1).selfMask()\n",
        "\n",
        "AreaForPA = presence_mask.updateMask(cl_mask).clip(AOI)\n",
        "\n",
        "Map = geemap.Map(layout={'height':'400px', 'width':'800px'})\n",
        "\n",
        "Map.addLayer(AreaForPA, {'palette': 'black'},'AreaForPA')\n",
        "Map.centerObject(AOI, 6)\n",
        "Map\n"
      ],
      "metadata": {
        "colab": {
          "base_uri": "https://localhost:8080/",
          "height": 421,
          "referenced_widgets": [
            "f39d4a088e154fc6ac9da0b48d1f289d",
            "800a92eb10134296976e5c968db4cce5",
            "7d4f53fa7ed145348eb182ec29cc7dce",
            "ede347ff787f4f7da98992695c825e43",
            "942e1468579d44fea89cd953e8570d3e",
            "4f960013ad75493180a3149487090854",
            "686c7fa60b244555ac4c8898160b2899",
            "ee957ea736104afb93266415b930b00b",
            "3bf6053a25cc46e584225be90f04f5ea",
            "f992d20e63414f20a810f252bd57efa4",
            "dd5ef3ebad8341f9a7c8d6c456a95c81",
            "8f08789471a94c6a9bb2187ad4bdfe41",
            "5c92e37cbeeb4c21aa8c7cd8fc069823",
            "a944fd2cfcdf4e1bb7ed9c8428a6b2ed",
            "6473edaac67b4019993e1f4afb09ef42",
            "eefceb1e53a64c5b9dd5a5e5bfb7fbcf",
            "bf69f30998d6468c86db1ac49f24b5cb",
            "9c8114afaa114f199dbbeb39bf669241",
            "1c63b0f46a9e435a86d411bc969b776c",
            "fa61ddddd00343c99c66ce4f6e5aaca7",
            "0bd11cbb08774194920e18915fe67678",
            "06058ef4f13a4c7baf0a4d9a64d24008",
            "2c9206c17a1b42a58e70c3692349354e",
            "a45efb26bc2b4055be4dececd58c8228",
            "b35c67a052a1454697255b249c53e797"
          ]
        },
        "id": "0UQIaD2uqBfL",
        "outputId": "f81dce6c-1b7a-4487-aafa-48511cfa4cbe"
      },
      "execution_count": null,
      "outputs": [
        {
          "output_type": "display_data",
          "data": {
            "text/plain": [
              "<IPython.core.display.HTML object>"
            ],
            "text/html": [
              "\n",
              "            <style>\n",
              "                .geemap-dark {\n",
              "                    --jp-widgets-color: white;\n",
              "                    --jp-widgets-label-color: white;\n",
              "                    --jp-ui-font-color1: white;\n",
              "                    --jp-layout-color2: #454545;\n",
              "                    background-color: #383838;\n",
              "                }\n",
              "\n",
              "                .geemap-dark .jupyter-button {\n",
              "                    --jp-layout-color3: #383838;\n",
              "                }\n",
              "\n",
              "                .geemap-colab {\n",
              "                    background-color: var(--colab-primary-surface-color, white);\n",
              "                }\n",
              "\n",
              "                .geemap-colab .jupyter-button {\n",
              "                    --jp-layout-color3: var(--colab-primary-surface-color, white);\n",
              "                }\n",
              "            </style>\n",
              "            "
            ]
          },
          "metadata": {}
        },
        {
          "output_type": "display_data",
          "data": {
            "text/plain": [
              "Map(center=[36.529621786200934, 127.85645081415706], controls=(WidgetControl(options=['position', 'transparent…"
            ],
            "application/vnd.jupyter.widget-view+json": {
              "version_major": 2,
              "version_minor": 0,
              "model_id": "f39d4a088e154fc6ac9da0b48d1f289d"
            }
          },
          "metadata": {
            "application/vnd.jupyter.widget-view+json": {
              "colab": {
                "custom_widget_manager": {
                  "url": "https://ssl.gstatic.com/colaboratory-static/widgets/colab-cdn-widget-manager/2b70e893a8ba7c0f/manager.min.js"
                }
              }
            }
          }
        }
      ]
    },
    {
      "cell_type": "markdown",
      "source": [
        "# 5. Fit SDM Model\n",
        "여기서 Maxent Model 적용할 거고, 순서는 train data로 maxent 모델 구동시킨 후 변수 기여도와 반응곡선을 확인 해봄, 생성된 모델 이요해서 잠재서식지 예측해봄(plot), 모델 평가해야하는데 Pseudo absent data 생성해서 모델 평가 함, 고로 랜덤포인트 생성해서 ROC / AUC로 모델 성능 평가함, Over fitting이나 under fitting 고려해야 함"
      ],
      "metadata": {
        "id": "aY12JSQmq1vB"
      }
    },
    {
      "cell_type": "code",
      "source": [
        "def createGrid(geometry, scale):\n",
        "    # 관심 지역의 경계를 기반으로 격자를 생성\n",
        "    grid = ee.Image().toByte().paint(geometry, 1).reproject('EPSG:4326', None, scale)\n",
        "    vectors = grid.reduceToVectors(\n",
        "        geometryType='polygon',\n",
        "        reducer=ee.Reducer.countEvery(),\n",
        "        scale=scale,\n",
        "        maxPixels=1e8,\n",
        "        geometry=geometry\n",
        "    )\n",
        "    return vectors\n",
        "\n",
        "Scale = 50000\n",
        "grid = makeGrid(AOI, Scale)\n",
        "Grid = watermask.reduceRegions(\n",
        "    collection=grid,\n",
        "    reducer=ee.Reducer.mean()).filter(ee.Filter.neq('mean', None))"
      ],
      "metadata": {
        "colab": {
          "base_uri": "https://localhost:8080/",
          "height": 17
        },
        "id": "SwN_9WZ7q3oH",
        "outputId": "6bee0188-9ff2-4c57-c4c6-1e1d63de67fd"
      },
      "execution_count": null,
      "outputs": [
        {
          "output_type": "display_data",
          "data": {
            "text/plain": [
              "<IPython.core.display.HTML object>"
            ],
            "text/html": [
              "\n",
              "            <style>\n",
              "                .geemap-dark {\n",
              "                    --jp-widgets-color: white;\n",
              "                    --jp-widgets-label-color: white;\n",
              "                    --jp-ui-font-color1: white;\n",
              "                    --jp-layout-color2: #454545;\n",
              "                    background-color: #383838;\n",
              "                }\n",
              "\n",
              "                .geemap-dark .jupyter-button {\n",
              "                    --jp-layout-color3: #383838;\n",
              "                }\n",
              "\n",
              "                .geemap-colab {\n",
              "                    background-color: var(--colab-primary-surface-color, white);\n",
              "                }\n",
              "\n",
              "                .geemap-colab .jupyter-button {\n",
              "                    --jp-layout-color3: var(--colab-primary-surface-color, white);\n",
              "                }\n",
              "            </style>\n",
              "            "
            ]
          },
          "metadata": {}
        }
      ]
    },
    {
      "cell_type": "code",
      "source": [
        "# 알고리즘 생성(랜덤포레스트)\n",
        "Classifier = ee.Classifier.smileRandomForest(\n",
        "        numberOfTrees=500,\n",
        "        variablesPerSplit=None,\n",
        "        minLeafPopulation=10,\n",
        "        bagFraction=0.5,\n",
        "        maxNodes=None,\n",
        "        seed=Seed)"
      ],
      "metadata": {
        "colab": {
          "base_uri": "https://localhost:8080/",
          "height": 17
        },
        "id": "YqR4uaGdyUlk",
        "outputId": "93931437-f0f3-4388-f042-a7e62d5a7360"
      },
      "execution_count": null,
      "outputs": [
        {
          "output_type": "display_data",
          "data": {
            "text/plain": [
              "<IPython.core.display.HTML object>"
            ],
            "text/html": [
              "\n",
              "            <style>\n",
              "                .geemap-dark {\n",
              "                    --jp-widgets-color: white;\n",
              "                    --jp-widgets-label-color: white;\n",
              "                    --jp-ui-font-color1: white;\n",
              "                    --jp-layout-color2: #454545;\n",
              "                    background-color: #383838;\n",
              "                }\n",
              "\n",
              "                .geemap-dark .jupyter-button {\n",
              "                    --jp-layout-color3: #383838;\n",
              "                }\n",
              "\n",
              "                .geemap-colab {\n",
              "                    background-color: var(--colab-primary-surface-color, white);\n",
              "                }\n",
              "\n",
              "                .geemap-colab .jupyter-button {\n",
              "                    --jp-layout-color3: var(--colab-primary-surface-color, white);\n",
              "                }\n",
              "            </style>\n",
              "            "
            ]
          },
          "metadata": {}
        }
      ]
    },
    {
      "cell_type": "code",
      "source": [
        "split = 0.7\n",
        "numiter = 10\n",
        "runif = lambda length: [random.randint(1, 1000) \\\n",
        "                        for _ in range(length)]\n",
        "items = runif(numiter)\n",
        "# items = [287, 288, 553, 226, 151, 255, 902, 267, 419, 538]\n",
        "\n",
        "# Fit SDM\n",
        "results = eeSDM.batchSDM(Grid, Data, AreaForPA, GrainSize, bands, predictors, numiter, split=0.7, seed=None)"
      ],
      "metadata": {
        "colab": {
          "base_uri": "https://localhost:8080/",
          "height": 17
        },
        "id": "F36_TCip1rRC",
        "outputId": "eb9b9cc0-b03e-4789-d767-0a20777e8001"
      },
      "execution_count": null,
      "outputs": [
        {
          "output_type": "display_data",
          "data": {
            "text/plain": [
              "<IPython.core.display.HTML object>"
            ],
            "text/html": [
              "\n",
              "            <style>\n",
              "                .geemap-dark {\n",
              "                    --jp-widgets-color: white;\n",
              "                    --jp-widgets-label-color: white;\n",
              "                    --jp-ui-font-color1: white;\n",
              "                    --jp-layout-color2: #454545;\n",
              "                    background-color: #383838;\n",
              "                }\n",
              "\n",
              "                .geemap-dark .jupyter-button {\n",
              "                    --jp-layout-color3: #383838;\n",
              "                }\n",
              "\n",
              "                .geemap-colab {\n",
              "                    background-color: var(--colab-primary-surface-color, white);\n",
              "                }\n",
              "\n",
              "                .geemap-colab .jupyter-button {\n",
              "                    --jp-layout-color3: var(--colab-primary-surface-color, white);\n",
              "                }\n",
              "            </style>\n",
              "            "
            ]
          },
          "metadata": {}
        }
      ]
    },
    {
      "cell_type": "markdown",
      "source": [
        "# 6. Map"
      ],
      "metadata": {
        "id": "DCjl7cMGA0UB"
      }
    },
    {
      "cell_type": "code",
      "source": [
        "# 서식지 적합성 지도(Habitat suitability map)\n",
        "images = ee.List.sequence(1, ee.Number(numiter).multiply(5).subtract(1), 5).map(lambda x: results.get(x))\n",
        "ModelAverage = ee.ImageCollection.fromImages(images).mean()\n",
        "Map = geemap.Map()\n",
        "vis_params = {\n",
        "    'min': 0,\n",
        "    'max': 1,\n",
        "    'palette': ['#440154', '#482677', '#404788', '#33638D', '#287D8E',\n",
        "          '#1F968B', '#29AF7F', '#55C667', '#95D840', '#DCE319']}\n",
        "Map = geemap.Map()\n",
        "Map.addLayer(ModelAverage, vis_params, 'Habitat suitability')\n",
        "Map.add_colorbar(vis_params, label=\"Habitat suitability\", orientation=\"horizontal\", layer_name=\"Habitat suitability\")\n",
        "Map.addLayer(Data, {'color':'red'}, 'Presence')\n",
        "Map.centerObject(Data.geometry(), 7)\n",
        "Map"
      ],
      "metadata": {
        "colab": {
          "base_uri": "https://localhost:8080/",
          "height": 447
        },
        "id": "wWZbrh302Lni",
        "outputId": "34637d53-5103-4104-b75e-b3b11bd124e9"
      },
      "execution_count": null,
      "outputs": [
        {
          "output_type": "display_data",
          "data": {
            "text/plain": [
              "<IPython.core.display.HTML object>"
            ],
            "text/html": [
              "\n",
              "            <style>\n",
              "                .geemap-dark {\n",
              "                    --jp-widgets-color: white;\n",
              "                    --jp-widgets-label-color: white;\n",
              "                    --jp-ui-font-color1: white;\n",
              "                    --jp-layout-color2: #454545;\n",
              "                    background-color: #383838;\n",
              "                }\n",
              "\n",
              "                .geemap-dark .jupyter-button {\n",
              "                    --jp-layout-color3: #383838;\n",
              "                }\n",
              "\n",
              "                .geemap-colab {\n",
              "                    background-color: var(--colab-primary-surface-color, white);\n",
              "                }\n",
              "\n",
              "                .geemap-colab .jupyter-button {\n",
              "                    --jp-layout-color3: var(--colab-primary-surface-color, white);\n",
              "                }\n",
              "            </style>\n",
              "            "
            ]
          },
          "metadata": {}
        },
        {
          "output_type": "error",
          "ename": "EEException",
          "evalue": "No valid training data were found.",
          "traceback": [
            "\u001b[0;31m---------------------------------------------------------------------------\u001b[0m",
            "\u001b[0;31mHttpError\u001b[0m                                 Traceback (most recent call last)",
            "\u001b[0;32m/usr/local/lib/python3.10/dist-packages/ee/data.py\u001b[0m in \u001b[0;36m_execute_cloud_call\u001b[0;34m(call, num_retries)\u001b[0m\n\u001b[1;32m    401\u001b[0m   \u001b[0;32mtry\u001b[0m\u001b[0;34m:\u001b[0m\u001b[0;34m\u001b[0m\u001b[0;34m\u001b[0m\u001b[0m\n\u001b[0;32m--> 402\u001b[0;31m     \u001b[0;32mreturn\u001b[0m \u001b[0mcall\u001b[0m\u001b[0;34m.\u001b[0m\u001b[0mexecute\u001b[0m\u001b[0;34m(\u001b[0m\u001b[0mnum_retries\u001b[0m\u001b[0;34m=\u001b[0m\u001b[0mnum_retries\u001b[0m\u001b[0;34m)\u001b[0m\u001b[0;34m\u001b[0m\u001b[0;34m\u001b[0m\u001b[0m\n\u001b[0m\u001b[1;32m    403\u001b[0m   \u001b[0;32mexcept\u001b[0m \u001b[0mgoogleapiclient\u001b[0m\u001b[0;34m.\u001b[0m\u001b[0merrors\u001b[0m\u001b[0;34m.\u001b[0m\u001b[0mHttpError\u001b[0m \u001b[0;32mas\u001b[0m \u001b[0me\u001b[0m\u001b[0;34m:\u001b[0m\u001b[0;34m\u001b[0m\u001b[0;34m\u001b[0m\u001b[0m\n",
            "\u001b[0;32m/usr/local/lib/python3.10/dist-packages/googleapiclient/_helpers.py\u001b[0m in \u001b[0;36mpositional_wrapper\u001b[0;34m(*args, **kwargs)\u001b[0m\n\u001b[1;32m    129\u001b[0m                     \u001b[0mlogger\u001b[0m\u001b[0;34m.\u001b[0m\u001b[0mwarning\u001b[0m\u001b[0;34m(\u001b[0m\u001b[0mmessage\u001b[0m\u001b[0;34m)\u001b[0m\u001b[0;34m\u001b[0m\u001b[0;34m\u001b[0m\u001b[0m\n\u001b[0;32m--> 130\u001b[0;31m             \u001b[0;32mreturn\u001b[0m \u001b[0mwrapped\u001b[0m\u001b[0;34m(\u001b[0m\u001b[0;34m*\u001b[0m\u001b[0margs\u001b[0m\u001b[0;34m,\u001b[0m \u001b[0;34m**\u001b[0m\u001b[0mkwargs\u001b[0m\u001b[0;34m)\u001b[0m\u001b[0;34m\u001b[0m\u001b[0;34m\u001b[0m\u001b[0m\n\u001b[0m\u001b[1;32m    131\u001b[0m \u001b[0;34m\u001b[0m\u001b[0m\n",
            "\u001b[0;32m/usr/local/lib/python3.10/dist-packages/googleapiclient/http.py\u001b[0m in \u001b[0;36mexecute\u001b[0;34m(self, http, num_retries)\u001b[0m\n\u001b[1;32m    937\u001b[0m         \u001b[0;32mif\u001b[0m \u001b[0mresp\u001b[0m\u001b[0;34m.\u001b[0m\u001b[0mstatus\u001b[0m \u001b[0;34m>=\u001b[0m \u001b[0;36m300\u001b[0m\u001b[0;34m:\u001b[0m\u001b[0;34m\u001b[0m\u001b[0;34m\u001b[0m\u001b[0m\n\u001b[0;32m--> 938\u001b[0;31m             \u001b[0;32mraise\u001b[0m \u001b[0mHttpError\u001b[0m\u001b[0;34m(\u001b[0m\u001b[0mresp\u001b[0m\u001b[0;34m,\u001b[0m \u001b[0mcontent\u001b[0m\u001b[0;34m,\u001b[0m \u001b[0muri\u001b[0m\u001b[0;34m=\u001b[0m\u001b[0mself\u001b[0m\u001b[0;34m.\u001b[0m\u001b[0muri\u001b[0m\u001b[0;34m)\u001b[0m\u001b[0;34m\u001b[0m\u001b[0;34m\u001b[0m\u001b[0m\n\u001b[0m\u001b[1;32m    939\u001b[0m         \u001b[0;32mreturn\u001b[0m \u001b[0mself\u001b[0m\u001b[0;34m.\u001b[0m\u001b[0mpostproc\u001b[0m\u001b[0;34m(\u001b[0m\u001b[0mresp\u001b[0m\u001b[0;34m,\u001b[0m \u001b[0mcontent\u001b[0m\u001b[0;34m)\u001b[0m\u001b[0;34m\u001b[0m\u001b[0;34m\u001b[0m\u001b[0m\n",
            "\u001b[0;31mHttpError\u001b[0m: <HttpError 400 when requesting https://earthengine.googleapis.com/v1/projects/ee-jjangmo91/maps?fields=name&alt=json returned \"No valid training data were found.\". Details: \"No valid training data were found.\">",
            "\nDuring handling of the above exception, another exception occurred:\n",
            "\u001b[0;31mEEException\u001b[0m                               Traceback (most recent call last)",
            "\u001b[0;32m<ipython-input-117-dc5e5084d5b5>\u001b[0m in \u001b[0;36m<cell line: 11>\u001b[0;34m()\u001b[0m\n\u001b[1;32m      9\u001b[0m           '#1F968B', '#29AF7F', '#55C667', '#95D840', '#DCE319']}\n\u001b[1;32m     10\u001b[0m \u001b[0mMap\u001b[0m \u001b[0;34m=\u001b[0m \u001b[0mgeemap\u001b[0m\u001b[0;34m.\u001b[0m\u001b[0mMap\u001b[0m\u001b[0;34m(\u001b[0m\u001b[0;34m)\u001b[0m\u001b[0;34m\u001b[0m\u001b[0;34m\u001b[0m\u001b[0m\n\u001b[0;32m---> 11\u001b[0;31m \u001b[0mMap\u001b[0m\u001b[0;34m.\u001b[0m\u001b[0maddLayer\u001b[0m\u001b[0;34m(\u001b[0m\u001b[0mModelAverage\u001b[0m\u001b[0;34m,\u001b[0m \u001b[0mvis_params\u001b[0m\u001b[0;34m,\u001b[0m \u001b[0;34m'Habitat suitability'\u001b[0m\u001b[0;34m)\u001b[0m\u001b[0;34m\u001b[0m\u001b[0;34m\u001b[0m\u001b[0m\n\u001b[0m\u001b[1;32m     12\u001b[0m \u001b[0mMap\u001b[0m\u001b[0;34m.\u001b[0m\u001b[0madd_colorbar\u001b[0m\u001b[0;34m(\u001b[0m\u001b[0mvis_params\u001b[0m\u001b[0;34m,\u001b[0m \u001b[0mlabel\u001b[0m\u001b[0;34m=\u001b[0m\u001b[0;34m\"Habitat suitability\"\u001b[0m\u001b[0;34m,\u001b[0m \u001b[0morientation\u001b[0m\u001b[0;34m=\u001b[0m\u001b[0;34m\"horizontal\"\u001b[0m\u001b[0;34m,\u001b[0m \u001b[0mlayer_name\u001b[0m\u001b[0;34m=\u001b[0m\u001b[0;34m\"Habitat suitability\"\u001b[0m\u001b[0;34m)\u001b[0m\u001b[0;34m\u001b[0m\u001b[0;34m\u001b[0m\u001b[0m\n\u001b[1;32m     13\u001b[0m \u001b[0mMap\u001b[0m\u001b[0;34m.\u001b[0m\u001b[0maddLayer\u001b[0m\u001b[0;34m(\u001b[0m\u001b[0mData\u001b[0m\u001b[0;34m,\u001b[0m \u001b[0;34m{\u001b[0m\u001b[0;34m'color'\u001b[0m\u001b[0;34m:\u001b[0m\u001b[0;34m'red'\u001b[0m\u001b[0;34m}\u001b[0m\u001b[0;34m,\u001b[0m \u001b[0;34m'Presence'\u001b[0m\u001b[0;34m)\u001b[0m\u001b[0;34m\u001b[0m\u001b[0;34m\u001b[0m\u001b[0m\n",
            "\u001b[0;32m/usr/local/lib/python3.10/dist-packages/geemap/geemap.py\u001b[0m in \u001b[0;36madd_ee_layer\u001b[0;34m(self, ee_object, vis_params, name, shown, opacity)\u001b[0m\n\u001b[1;32m    340\u001b[0m                     )\n\u001b[1;32m    341\u001b[0m \u001b[0;34m\u001b[0m\u001b[0m\n\u001b[0;32m--> 342\u001b[0;31m         \u001b[0msuper\u001b[0m\u001b[0;34m(\u001b[0m\u001b[0;34m)\u001b[0m\u001b[0;34m.\u001b[0m\u001b[0madd_layer\u001b[0m\u001b[0;34m(\u001b[0m\u001b[0mee_object\u001b[0m\u001b[0;34m,\u001b[0m \u001b[0mvis_params\u001b[0m\u001b[0;34m,\u001b[0m \u001b[0mname\u001b[0m\u001b[0;34m,\u001b[0m \u001b[0mshown\u001b[0m\u001b[0;34m,\u001b[0m \u001b[0mopacity\u001b[0m\u001b[0;34m)\u001b[0m\u001b[0;34m\u001b[0m\u001b[0;34m\u001b[0m\u001b[0m\n\u001b[0m\u001b[1;32m    343\u001b[0m \u001b[0;34m\u001b[0m\u001b[0m\n\u001b[1;32m    344\u001b[0m         \u001b[0;32mif\u001b[0m \u001b[0misinstance\u001b[0m\u001b[0;34m(\u001b[0m\u001b[0mee_object\u001b[0m\u001b[0;34m,\u001b[0m \u001b[0;34m(\u001b[0m\u001b[0mee\u001b[0m\u001b[0;34m.\u001b[0m\u001b[0mImage\u001b[0m\u001b[0;34m,\u001b[0m \u001b[0mee\u001b[0m\u001b[0;34m.\u001b[0m\u001b[0mImageCollection\u001b[0m\u001b[0;34m)\u001b[0m\u001b[0;34m)\u001b[0m\u001b[0;34m:\u001b[0m\u001b[0;34m\u001b[0m\u001b[0;34m\u001b[0m\u001b[0m\n",
            "\u001b[0;32m/usr/local/lib/python3.10/dist-packages/geemap/core.py\u001b[0m in \u001b[0;36madd_layer\u001b[0;34m(self, ee_object, vis_params, name, shown, opacity)\u001b[0m\n\u001b[1;32m    752\u001b[0m         \u001b[0;32mif\u001b[0m \u001b[0mname\u001b[0m \u001b[0;32mis\u001b[0m \u001b[0;32mNone\u001b[0m\u001b[0;34m:\u001b[0m\u001b[0;34m\u001b[0m\u001b[0;34m\u001b[0m\u001b[0m\n\u001b[1;32m    753\u001b[0m             \u001b[0mname\u001b[0m \u001b[0;34m=\u001b[0m \u001b[0;34mf\"Layer {len(self.ee_layers) + 1}\"\u001b[0m\u001b[0;34m\u001b[0m\u001b[0;34m\u001b[0m\u001b[0m\n\u001b[0;32m--> 754\u001b[0;31m         tile_layer = ee_tile_layers.EELeafletTileLayer(\n\u001b[0m\u001b[1;32m    755\u001b[0m             \u001b[0mee_object\u001b[0m\u001b[0;34m,\u001b[0m \u001b[0mvis_params\u001b[0m\u001b[0;34m,\u001b[0m \u001b[0mname\u001b[0m\u001b[0;34m,\u001b[0m \u001b[0mshown\u001b[0m\u001b[0;34m,\u001b[0m \u001b[0mopacity\u001b[0m\u001b[0;34m\u001b[0m\u001b[0;34m\u001b[0m\u001b[0m\n\u001b[1;32m    756\u001b[0m         )\n",
            "\u001b[0;32m/usr/local/lib/python3.10/dist-packages/geemap/ee_tile_layers.py\u001b[0m in \u001b[0;36m__init__\u001b[0;34m(self, ee_object, vis_params, name, shown, opacity, **kwargs)\u001b[0m\n\u001b[1;32m    142\u001b[0m         \"\"\"\n\u001b[1;32m    143\u001b[0m         \u001b[0mself\u001b[0m\u001b[0;34m.\u001b[0m\u001b[0m_ee_object\u001b[0m \u001b[0;34m=\u001b[0m \u001b[0mee_object\u001b[0m\u001b[0;34m\u001b[0m\u001b[0;34m\u001b[0m\u001b[0m\n\u001b[0;32m--> 144\u001b[0;31m         self.url_format = _get_tile_url_format(\n\u001b[0m\u001b[1;32m    145\u001b[0m             \u001b[0mee_object\u001b[0m\u001b[0;34m,\u001b[0m \u001b[0m_validate_vis_params\u001b[0m\u001b[0;34m(\u001b[0m\u001b[0mvis_params\u001b[0m\u001b[0;34m)\u001b[0m\u001b[0;34m\u001b[0m\u001b[0;34m\u001b[0m\u001b[0m\n\u001b[1;32m    146\u001b[0m         )\n",
            "\u001b[0;32m/usr/local/lib/python3.10/dist-packages/geemap/ee_tile_layers.py\u001b[0m in \u001b[0;36m_get_tile_url_format\u001b[0;34m(ee_object, vis_params)\u001b[0m\n\u001b[1;32m     17\u001b[0m \u001b[0;32mdef\u001b[0m \u001b[0m_get_tile_url_format\u001b[0m\u001b[0;34m(\u001b[0m\u001b[0mee_object\u001b[0m\u001b[0;34m,\u001b[0m \u001b[0mvis_params\u001b[0m\u001b[0;34m)\u001b[0m\u001b[0;34m:\u001b[0m\u001b[0;34m\u001b[0m\u001b[0;34m\u001b[0m\u001b[0m\n\u001b[1;32m     18\u001b[0m     \u001b[0mimage\u001b[0m \u001b[0;34m=\u001b[0m \u001b[0m_ee_object_to_image\u001b[0m\u001b[0;34m(\u001b[0m\u001b[0mee_object\u001b[0m\u001b[0;34m,\u001b[0m \u001b[0mvis_params\u001b[0m\u001b[0;34m)\u001b[0m\u001b[0;34m\u001b[0m\u001b[0;34m\u001b[0m\u001b[0m\n\u001b[0;32m---> 19\u001b[0;31m     \u001b[0mmap_id_dict\u001b[0m \u001b[0;34m=\u001b[0m \u001b[0mee\u001b[0m\u001b[0;34m.\u001b[0m\u001b[0mImage\u001b[0m\u001b[0;34m(\u001b[0m\u001b[0mimage\u001b[0m\u001b[0;34m)\u001b[0m\u001b[0;34m.\u001b[0m\u001b[0mgetMapId\u001b[0m\u001b[0;34m(\u001b[0m\u001b[0mvis_params\u001b[0m\u001b[0;34m)\u001b[0m\u001b[0;34m\u001b[0m\u001b[0;34m\u001b[0m\u001b[0m\n\u001b[0m\u001b[1;32m     20\u001b[0m     \u001b[0;32mreturn\u001b[0m \u001b[0mmap_id_dict\u001b[0m\u001b[0;34m[\u001b[0m\u001b[0;34m\"tile_fetcher\"\u001b[0m\u001b[0;34m]\u001b[0m\u001b[0;34m.\u001b[0m\u001b[0murl_format\u001b[0m\u001b[0;34m\u001b[0m\u001b[0;34m\u001b[0m\u001b[0m\n\u001b[1;32m     21\u001b[0m \u001b[0;34m\u001b[0m\u001b[0m\n",
            "\u001b[0;32m/usr/local/lib/python3.10/dist-packages/ee/image.py\u001b[0m in \u001b[0;36mgetMapId\u001b[0;34m(self, vis_params)\u001b[0m\n\u001b[1;32m    127\u001b[0m     \u001b[0mvis_image\u001b[0m\u001b[0;34m,\u001b[0m \u001b[0mrequest\u001b[0m \u001b[0;34m=\u001b[0m \u001b[0mself\u001b[0m\u001b[0;34m.\u001b[0m\u001b[0m_apply_visualization\u001b[0m\u001b[0;34m(\u001b[0m\u001b[0mvis_params\u001b[0m\u001b[0;34m)\u001b[0m\u001b[0;34m\u001b[0m\u001b[0;34m\u001b[0m\u001b[0m\n\u001b[1;32m    128\u001b[0m     \u001b[0mrequest\u001b[0m\u001b[0;34m[\u001b[0m\u001b[0;34m'image'\u001b[0m\u001b[0;34m]\u001b[0m \u001b[0;34m=\u001b[0m \u001b[0mvis_image\u001b[0m\u001b[0;34m\u001b[0m\u001b[0;34m\u001b[0m\u001b[0m\n\u001b[0;32m--> 129\u001b[0;31m     \u001b[0mresponse\u001b[0m \u001b[0;34m=\u001b[0m \u001b[0mdata\u001b[0m\u001b[0;34m.\u001b[0m\u001b[0mgetMapId\u001b[0m\u001b[0;34m(\u001b[0m\u001b[0mrequest\u001b[0m\u001b[0;34m)\u001b[0m\u001b[0;34m\u001b[0m\u001b[0;34m\u001b[0m\u001b[0m\n\u001b[0m\u001b[1;32m    130\u001b[0m     \u001b[0mresponse\u001b[0m\u001b[0;34m[\u001b[0m\u001b[0;34m'image'\u001b[0m\u001b[0;34m]\u001b[0m \u001b[0;34m=\u001b[0m \u001b[0mself\u001b[0m\u001b[0;34m\u001b[0m\u001b[0;34m\u001b[0m\u001b[0m\n\u001b[1;32m    131\u001b[0m     \u001b[0;32mreturn\u001b[0m \u001b[0mresponse\u001b[0m\u001b[0;34m\u001b[0m\u001b[0;34m\u001b[0m\u001b[0m\n",
            "\u001b[0;32m/usr/local/lib/python3.10/dist-packages/ee/data.py\u001b[0m in \u001b[0;36mgetMapId\u001b[0;34m(params)\u001b[0m\n\u001b[1;32m    722\u001b[0m   }\n\u001b[1;32m    723\u001b[0m   \u001b[0m_maybe_populate_workload_tag\u001b[0m\u001b[0;34m(\u001b[0m\u001b[0mqueryParams\u001b[0m\u001b[0;34m)\u001b[0m\u001b[0;34m\u001b[0m\u001b[0;34m\u001b[0m\u001b[0m\n\u001b[0;32m--> 724\u001b[0;31m   result = _execute_cloud_call(\n\u001b[0m\u001b[1;32m    725\u001b[0m       \u001b[0m_get_cloud_projects\u001b[0m\u001b[0;34m(\u001b[0m\u001b[0;34m)\u001b[0m\u001b[0;34m\u001b[0m\u001b[0;34m\u001b[0m\u001b[0m\n\u001b[1;32m    726\u001b[0m       \u001b[0;34m.\u001b[0m\u001b[0mmaps\u001b[0m\u001b[0;34m(\u001b[0m\u001b[0;34m)\u001b[0m\u001b[0;34m\u001b[0m\u001b[0;34m\u001b[0m\u001b[0m\n",
            "\u001b[0;32m/usr/local/lib/python3.10/dist-packages/ee/data.py\u001b[0m in \u001b[0;36m_execute_cloud_call\u001b[0;34m(call, num_retries)\u001b[0m\n\u001b[1;32m    402\u001b[0m     \u001b[0;32mreturn\u001b[0m \u001b[0mcall\u001b[0m\u001b[0;34m.\u001b[0m\u001b[0mexecute\u001b[0m\u001b[0;34m(\u001b[0m\u001b[0mnum_retries\u001b[0m\u001b[0;34m=\u001b[0m\u001b[0mnum_retries\u001b[0m\u001b[0;34m)\u001b[0m\u001b[0;34m\u001b[0m\u001b[0;34m\u001b[0m\u001b[0m\n\u001b[1;32m    403\u001b[0m   \u001b[0;32mexcept\u001b[0m \u001b[0mgoogleapiclient\u001b[0m\u001b[0;34m.\u001b[0m\u001b[0merrors\u001b[0m\u001b[0;34m.\u001b[0m\u001b[0mHttpError\u001b[0m \u001b[0;32mas\u001b[0m \u001b[0me\u001b[0m\u001b[0;34m:\u001b[0m\u001b[0;34m\u001b[0m\u001b[0;34m\u001b[0m\u001b[0m\n\u001b[0;32m--> 404\u001b[0;31m     \u001b[0;32mraise\u001b[0m \u001b[0m_translate_cloud_exception\u001b[0m\u001b[0;34m(\u001b[0m\u001b[0me\u001b[0m\u001b[0;34m)\u001b[0m  \u001b[0;31m# pylint: disable=raise-missing-from\u001b[0m\u001b[0;34m\u001b[0m\u001b[0;34m\u001b[0m\u001b[0m\n\u001b[0m\u001b[1;32m    405\u001b[0m \u001b[0;34m\u001b[0m\u001b[0m\n\u001b[1;32m    406\u001b[0m \u001b[0;34m\u001b[0m\u001b[0m\n",
            "\u001b[0;31mEEException\u001b[0m: No valid training data were found."
          ]
        }
      ]
    },
    {
      "cell_type": "code",
      "source": [
        "# 잠재적 분포 지도(Potential distribution map)\n",
        "images2 = ee.List.sequence(2, ee.Number(numiter).multiply(5).subtract(1), 5).map(lambda x: results.get(x))\n",
        "DistributionMap = ee.ImageCollection.fromImages(images2).mode()\n",
        "\n",
        "Map = geemap.Map()\n",
        "vis_params = {\n",
        "    'min': 0,\n",
        "    'max': 1,\n",
        "    'palette': ['white', 'green']}\n",
        "Map.addLayer(DistributionMap, vis_params, 'Potential distribution')\n",
        "Map.addLayer(Data, {'color':'red'}, 'Presence')\n",
        "Map.add_colorbar(vis_params, label=\"Potential distribution\", discrete=True, orientation=\"horizontal\", layer_name=\"Potential distribution\")\n",
        "Map.centerObject(Data.geometry(), 7)\n",
        "Map"
      ],
      "metadata": {
        "id": "2cLEqxDiP-cc",
        "outputId": "245f7ee2-6b5a-4672-9317-62bfc638258d",
        "colab": {
          "base_uri": "https://localhost:8080/",
          "height": 447
        }
      },
      "execution_count": null,
      "outputs": [
        {
          "output_type": "display_data",
          "data": {
            "text/plain": [
              "<IPython.core.display.HTML object>"
            ],
            "text/html": [
              "\n",
              "            <style>\n",
              "                .geemap-dark {\n",
              "                    --jp-widgets-color: white;\n",
              "                    --jp-widgets-label-color: white;\n",
              "                    --jp-ui-font-color1: white;\n",
              "                    --jp-layout-color2: #454545;\n",
              "                    background-color: #383838;\n",
              "                }\n",
              "\n",
              "                .geemap-dark .jupyter-button {\n",
              "                    --jp-layout-color3: #383838;\n",
              "                }\n",
              "\n",
              "                .geemap-colab {\n",
              "                    background-color: var(--colab-primary-surface-color, white);\n",
              "                }\n",
              "\n",
              "                .geemap-colab .jupyter-button {\n",
              "                    --jp-layout-color3: var(--colab-primary-surface-color, white);\n",
              "                }\n",
              "            </style>\n",
              "            "
            ]
          },
          "metadata": {}
        },
        {
          "output_type": "error",
          "ename": "EEException",
          "evalue": "No valid training data were found.",
          "traceback": [
            "\u001b[0;31m---------------------------------------------------------------------------\u001b[0m",
            "\u001b[0;31mHttpError\u001b[0m                                 Traceback (most recent call last)",
            "\u001b[0;32m/usr/local/lib/python3.10/dist-packages/ee/data.py\u001b[0m in \u001b[0;36m_execute_cloud_call\u001b[0;34m(call, num_retries)\u001b[0m\n\u001b[1;32m    401\u001b[0m   \u001b[0;32mtry\u001b[0m\u001b[0;34m:\u001b[0m\u001b[0;34m\u001b[0m\u001b[0;34m\u001b[0m\u001b[0m\n\u001b[0;32m--> 402\u001b[0;31m     \u001b[0;32mreturn\u001b[0m \u001b[0mcall\u001b[0m\u001b[0;34m.\u001b[0m\u001b[0mexecute\u001b[0m\u001b[0;34m(\u001b[0m\u001b[0mnum_retries\u001b[0m\u001b[0;34m=\u001b[0m\u001b[0mnum_retries\u001b[0m\u001b[0;34m)\u001b[0m\u001b[0;34m\u001b[0m\u001b[0;34m\u001b[0m\u001b[0m\n\u001b[0m\u001b[1;32m    403\u001b[0m   \u001b[0;32mexcept\u001b[0m \u001b[0mgoogleapiclient\u001b[0m\u001b[0;34m.\u001b[0m\u001b[0merrors\u001b[0m\u001b[0;34m.\u001b[0m\u001b[0mHttpError\u001b[0m \u001b[0;32mas\u001b[0m \u001b[0me\u001b[0m\u001b[0;34m:\u001b[0m\u001b[0;34m\u001b[0m\u001b[0;34m\u001b[0m\u001b[0m\n",
            "\u001b[0;32m/usr/local/lib/python3.10/dist-packages/googleapiclient/_helpers.py\u001b[0m in \u001b[0;36mpositional_wrapper\u001b[0;34m(*args, **kwargs)\u001b[0m\n\u001b[1;32m    129\u001b[0m                     \u001b[0mlogger\u001b[0m\u001b[0;34m.\u001b[0m\u001b[0mwarning\u001b[0m\u001b[0;34m(\u001b[0m\u001b[0mmessage\u001b[0m\u001b[0;34m)\u001b[0m\u001b[0;34m\u001b[0m\u001b[0;34m\u001b[0m\u001b[0m\n\u001b[0;32m--> 130\u001b[0;31m             \u001b[0;32mreturn\u001b[0m \u001b[0mwrapped\u001b[0m\u001b[0;34m(\u001b[0m\u001b[0;34m*\u001b[0m\u001b[0margs\u001b[0m\u001b[0;34m,\u001b[0m \u001b[0;34m**\u001b[0m\u001b[0mkwargs\u001b[0m\u001b[0;34m)\u001b[0m\u001b[0;34m\u001b[0m\u001b[0;34m\u001b[0m\u001b[0m\n\u001b[0m\u001b[1;32m    131\u001b[0m \u001b[0;34m\u001b[0m\u001b[0m\n",
            "\u001b[0;32m/usr/local/lib/python3.10/dist-packages/googleapiclient/http.py\u001b[0m in \u001b[0;36mexecute\u001b[0;34m(self, http, num_retries)\u001b[0m\n\u001b[1;32m    937\u001b[0m         \u001b[0;32mif\u001b[0m \u001b[0mresp\u001b[0m\u001b[0;34m.\u001b[0m\u001b[0mstatus\u001b[0m \u001b[0;34m>=\u001b[0m \u001b[0;36m300\u001b[0m\u001b[0;34m:\u001b[0m\u001b[0;34m\u001b[0m\u001b[0;34m\u001b[0m\u001b[0m\n\u001b[0;32m--> 938\u001b[0;31m             \u001b[0;32mraise\u001b[0m \u001b[0mHttpError\u001b[0m\u001b[0;34m(\u001b[0m\u001b[0mresp\u001b[0m\u001b[0;34m,\u001b[0m \u001b[0mcontent\u001b[0m\u001b[0;34m,\u001b[0m \u001b[0muri\u001b[0m\u001b[0;34m=\u001b[0m\u001b[0mself\u001b[0m\u001b[0;34m.\u001b[0m\u001b[0muri\u001b[0m\u001b[0;34m)\u001b[0m\u001b[0;34m\u001b[0m\u001b[0;34m\u001b[0m\u001b[0m\n\u001b[0m\u001b[1;32m    939\u001b[0m         \u001b[0;32mreturn\u001b[0m \u001b[0mself\u001b[0m\u001b[0;34m.\u001b[0m\u001b[0mpostproc\u001b[0m\u001b[0;34m(\u001b[0m\u001b[0mresp\u001b[0m\u001b[0;34m,\u001b[0m \u001b[0mcontent\u001b[0m\u001b[0;34m)\u001b[0m\u001b[0;34m\u001b[0m\u001b[0;34m\u001b[0m\u001b[0m\n",
            "\u001b[0;31mHttpError\u001b[0m: <HttpError 400 when requesting https://earthengine.googleapis.com/v1/projects/ee-jjangmo91/maps?fields=name&alt=json returned \"No valid training data were found.\". Details: \"No valid training data were found.\">",
            "\nDuring handling of the above exception, another exception occurred:\n",
            "\u001b[0;31mEEException\u001b[0m                               Traceback (most recent call last)",
            "\u001b[0;32m<ipython-input-118-26c865e35069>\u001b[0m in \u001b[0;36m<cell line: 10>\u001b[0;34m()\u001b[0m\n\u001b[1;32m      8\u001b[0m     \u001b[0;34m'max'\u001b[0m\u001b[0;34m:\u001b[0m \u001b[0;36m1\u001b[0m\u001b[0;34m,\u001b[0m\u001b[0;34m\u001b[0m\u001b[0;34m\u001b[0m\u001b[0m\n\u001b[1;32m      9\u001b[0m     'palette': ['white', 'green']}\n\u001b[0;32m---> 10\u001b[0;31m \u001b[0mMap\u001b[0m\u001b[0;34m.\u001b[0m\u001b[0maddLayer\u001b[0m\u001b[0;34m(\u001b[0m\u001b[0mDistributionMap\u001b[0m\u001b[0;34m,\u001b[0m \u001b[0mvis_params\u001b[0m\u001b[0;34m,\u001b[0m \u001b[0;34m'Potential distribution'\u001b[0m\u001b[0;34m)\u001b[0m\u001b[0;34m\u001b[0m\u001b[0;34m\u001b[0m\u001b[0m\n\u001b[0m\u001b[1;32m     11\u001b[0m \u001b[0mMap\u001b[0m\u001b[0;34m.\u001b[0m\u001b[0maddLayer\u001b[0m\u001b[0;34m(\u001b[0m\u001b[0mData\u001b[0m\u001b[0;34m,\u001b[0m \u001b[0;34m{\u001b[0m\u001b[0;34m'color'\u001b[0m\u001b[0;34m:\u001b[0m\u001b[0;34m'red'\u001b[0m\u001b[0;34m}\u001b[0m\u001b[0;34m,\u001b[0m \u001b[0;34m'Presence'\u001b[0m\u001b[0;34m)\u001b[0m\u001b[0;34m\u001b[0m\u001b[0;34m\u001b[0m\u001b[0m\n\u001b[1;32m     12\u001b[0m \u001b[0mMap\u001b[0m\u001b[0;34m.\u001b[0m\u001b[0madd_colorbar\u001b[0m\u001b[0;34m(\u001b[0m\u001b[0mvis_params\u001b[0m\u001b[0;34m,\u001b[0m \u001b[0mlabel\u001b[0m\u001b[0;34m=\u001b[0m\u001b[0;34m\"Potential distribution\"\u001b[0m\u001b[0;34m,\u001b[0m \u001b[0mdiscrete\u001b[0m\u001b[0;34m=\u001b[0m\u001b[0;32mTrue\u001b[0m\u001b[0;34m,\u001b[0m \u001b[0morientation\u001b[0m\u001b[0;34m=\u001b[0m\u001b[0;34m\"horizontal\"\u001b[0m\u001b[0;34m,\u001b[0m \u001b[0mlayer_name\u001b[0m\u001b[0;34m=\u001b[0m\u001b[0;34m\"Potential distribution\"\u001b[0m\u001b[0;34m)\u001b[0m\u001b[0;34m\u001b[0m\u001b[0;34m\u001b[0m\u001b[0m\n",
            "\u001b[0;32m/usr/local/lib/python3.10/dist-packages/geemap/geemap.py\u001b[0m in \u001b[0;36madd_ee_layer\u001b[0;34m(self, ee_object, vis_params, name, shown, opacity)\u001b[0m\n\u001b[1;32m    340\u001b[0m                     )\n\u001b[1;32m    341\u001b[0m \u001b[0;34m\u001b[0m\u001b[0m\n\u001b[0;32m--> 342\u001b[0;31m         \u001b[0msuper\u001b[0m\u001b[0;34m(\u001b[0m\u001b[0;34m)\u001b[0m\u001b[0;34m.\u001b[0m\u001b[0madd_layer\u001b[0m\u001b[0;34m(\u001b[0m\u001b[0mee_object\u001b[0m\u001b[0;34m,\u001b[0m \u001b[0mvis_params\u001b[0m\u001b[0;34m,\u001b[0m \u001b[0mname\u001b[0m\u001b[0;34m,\u001b[0m \u001b[0mshown\u001b[0m\u001b[0;34m,\u001b[0m \u001b[0mopacity\u001b[0m\u001b[0;34m)\u001b[0m\u001b[0;34m\u001b[0m\u001b[0;34m\u001b[0m\u001b[0m\n\u001b[0m\u001b[1;32m    343\u001b[0m \u001b[0;34m\u001b[0m\u001b[0m\n\u001b[1;32m    344\u001b[0m         \u001b[0;32mif\u001b[0m \u001b[0misinstance\u001b[0m\u001b[0;34m(\u001b[0m\u001b[0mee_object\u001b[0m\u001b[0;34m,\u001b[0m \u001b[0;34m(\u001b[0m\u001b[0mee\u001b[0m\u001b[0;34m.\u001b[0m\u001b[0mImage\u001b[0m\u001b[0;34m,\u001b[0m \u001b[0mee\u001b[0m\u001b[0;34m.\u001b[0m\u001b[0mImageCollection\u001b[0m\u001b[0;34m)\u001b[0m\u001b[0;34m)\u001b[0m\u001b[0;34m:\u001b[0m\u001b[0;34m\u001b[0m\u001b[0;34m\u001b[0m\u001b[0m\n",
            "\u001b[0;32m/usr/local/lib/python3.10/dist-packages/geemap/core.py\u001b[0m in \u001b[0;36madd_layer\u001b[0;34m(self, ee_object, vis_params, name, shown, opacity)\u001b[0m\n\u001b[1;32m    752\u001b[0m         \u001b[0;32mif\u001b[0m \u001b[0mname\u001b[0m \u001b[0;32mis\u001b[0m \u001b[0;32mNone\u001b[0m\u001b[0;34m:\u001b[0m\u001b[0;34m\u001b[0m\u001b[0;34m\u001b[0m\u001b[0m\n\u001b[1;32m    753\u001b[0m             \u001b[0mname\u001b[0m \u001b[0;34m=\u001b[0m \u001b[0;34mf\"Layer {len(self.ee_layers) + 1}\"\u001b[0m\u001b[0;34m\u001b[0m\u001b[0;34m\u001b[0m\u001b[0m\n\u001b[0;32m--> 754\u001b[0;31m         tile_layer = ee_tile_layers.EELeafletTileLayer(\n\u001b[0m\u001b[1;32m    755\u001b[0m             \u001b[0mee_object\u001b[0m\u001b[0;34m,\u001b[0m \u001b[0mvis_params\u001b[0m\u001b[0;34m,\u001b[0m \u001b[0mname\u001b[0m\u001b[0;34m,\u001b[0m \u001b[0mshown\u001b[0m\u001b[0;34m,\u001b[0m \u001b[0mopacity\u001b[0m\u001b[0;34m\u001b[0m\u001b[0;34m\u001b[0m\u001b[0m\n\u001b[1;32m    756\u001b[0m         )\n",
            "\u001b[0;32m/usr/local/lib/python3.10/dist-packages/geemap/ee_tile_layers.py\u001b[0m in \u001b[0;36m__init__\u001b[0;34m(self, ee_object, vis_params, name, shown, opacity, **kwargs)\u001b[0m\n\u001b[1;32m    142\u001b[0m         \"\"\"\n\u001b[1;32m    143\u001b[0m         \u001b[0mself\u001b[0m\u001b[0;34m.\u001b[0m\u001b[0m_ee_object\u001b[0m \u001b[0;34m=\u001b[0m \u001b[0mee_object\u001b[0m\u001b[0;34m\u001b[0m\u001b[0;34m\u001b[0m\u001b[0m\n\u001b[0;32m--> 144\u001b[0;31m         self.url_format = _get_tile_url_format(\n\u001b[0m\u001b[1;32m    145\u001b[0m             \u001b[0mee_object\u001b[0m\u001b[0;34m,\u001b[0m \u001b[0m_validate_vis_params\u001b[0m\u001b[0;34m(\u001b[0m\u001b[0mvis_params\u001b[0m\u001b[0;34m)\u001b[0m\u001b[0;34m\u001b[0m\u001b[0;34m\u001b[0m\u001b[0m\n\u001b[1;32m    146\u001b[0m         )\n",
            "\u001b[0;32m/usr/local/lib/python3.10/dist-packages/geemap/ee_tile_layers.py\u001b[0m in \u001b[0;36m_get_tile_url_format\u001b[0;34m(ee_object, vis_params)\u001b[0m\n\u001b[1;32m     17\u001b[0m \u001b[0;32mdef\u001b[0m \u001b[0m_get_tile_url_format\u001b[0m\u001b[0;34m(\u001b[0m\u001b[0mee_object\u001b[0m\u001b[0;34m,\u001b[0m \u001b[0mvis_params\u001b[0m\u001b[0;34m)\u001b[0m\u001b[0;34m:\u001b[0m\u001b[0;34m\u001b[0m\u001b[0;34m\u001b[0m\u001b[0m\n\u001b[1;32m     18\u001b[0m     \u001b[0mimage\u001b[0m \u001b[0;34m=\u001b[0m \u001b[0m_ee_object_to_image\u001b[0m\u001b[0;34m(\u001b[0m\u001b[0mee_object\u001b[0m\u001b[0;34m,\u001b[0m \u001b[0mvis_params\u001b[0m\u001b[0;34m)\u001b[0m\u001b[0;34m\u001b[0m\u001b[0;34m\u001b[0m\u001b[0m\n\u001b[0;32m---> 19\u001b[0;31m     \u001b[0mmap_id_dict\u001b[0m \u001b[0;34m=\u001b[0m \u001b[0mee\u001b[0m\u001b[0;34m.\u001b[0m\u001b[0mImage\u001b[0m\u001b[0;34m(\u001b[0m\u001b[0mimage\u001b[0m\u001b[0;34m)\u001b[0m\u001b[0;34m.\u001b[0m\u001b[0mgetMapId\u001b[0m\u001b[0;34m(\u001b[0m\u001b[0mvis_params\u001b[0m\u001b[0;34m)\u001b[0m\u001b[0;34m\u001b[0m\u001b[0;34m\u001b[0m\u001b[0m\n\u001b[0m\u001b[1;32m     20\u001b[0m     \u001b[0;32mreturn\u001b[0m \u001b[0mmap_id_dict\u001b[0m\u001b[0;34m[\u001b[0m\u001b[0;34m\"tile_fetcher\"\u001b[0m\u001b[0;34m]\u001b[0m\u001b[0;34m.\u001b[0m\u001b[0murl_format\u001b[0m\u001b[0;34m\u001b[0m\u001b[0;34m\u001b[0m\u001b[0m\n\u001b[1;32m     21\u001b[0m \u001b[0;34m\u001b[0m\u001b[0m\n",
            "\u001b[0;32m/usr/local/lib/python3.10/dist-packages/ee/image.py\u001b[0m in \u001b[0;36mgetMapId\u001b[0;34m(self, vis_params)\u001b[0m\n\u001b[1;32m    127\u001b[0m     \u001b[0mvis_image\u001b[0m\u001b[0;34m,\u001b[0m \u001b[0mrequest\u001b[0m \u001b[0;34m=\u001b[0m \u001b[0mself\u001b[0m\u001b[0;34m.\u001b[0m\u001b[0m_apply_visualization\u001b[0m\u001b[0;34m(\u001b[0m\u001b[0mvis_params\u001b[0m\u001b[0;34m)\u001b[0m\u001b[0;34m\u001b[0m\u001b[0;34m\u001b[0m\u001b[0m\n\u001b[1;32m    128\u001b[0m     \u001b[0mrequest\u001b[0m\u001b[0;34m[\u001b[0m\u001b[0;34m'image'\u001b[0m\u001b[0;34m]\u001b[0m \u001b[0;34m=\u001b[0m \u001b[0mvis_image\u001b[0m\u001b[0;34m\u001b[0m\u001b[0;34m\u001b[0m\u001b[0m\n\u001b[0;32m--> 129\u001b[0;31m     \u001b[0mresponse\u001b[0m \u001b[0;34m=\u001b[0m \u001b[0mdata\u001b[0m\u001b[0;34m.\u001b[0m\u001b[0mgetMapId\u001b[0m\u001b[0;34m(\u001b[0m\u001b[0mrequest\u001b[0m\u001b[0;34m)\u001b[0m\u001b[0;34m\u001b[0m\u001b[0;34m\u001b[0m\u001b[0m\n\u001b[0m\u001b[1;32m    130\u001b[0m     \u001b[0mresponse\u001b[0m\u001b[0;34m[\u001b[0m\u001b[0;34m'image'\u001b[0m\u001b[0;34m]\u001b[0m \u001b[0;34m=\u001b[0m \u001b[0mself\u001b[0m\u001b[0;34m\u001b[0m\u001b[0;34m\u001b[0m\u001b[0m\n\u001b[1;32m    131\u001b[0m     \u001b[0;32mreturn\u001b[0m \u001b[0mresponse\u001b[0m\u001b[0;34m\u001b[0m\u001b[0;34m\u001b[0m\u001b[0m\n",
            "\u001b[0;32m/usr/local/lib/python3.10/dist-packages/ee/data.py\u001b[0m in \u001b[0;36mgetMapId\u001b[0;34m(params)\u001b[0m\n\u001b[1;32m    722\u001b[0m   }\n\u001b[1;32m    723\u001b[0m   \u001b[0m_maybe_populate_workload_tag\u001b[0m\u001b[0;34m(\u001b[0m\u001b[0mqueryParams\u001b[0m\u001b[0;34m)\u001b[0m\u001b[0;34m\u001b[0m\u001b[0;34m\u001b[0m\u001b[0m\n\u001b[0;32m--> 724\u001b[0;31m   result = _execute_cloud_call(\n\u001b[0m\u001b[1;32m    725\u001b[0m       \u001b[0m_get_cloud_projects\u001b[0m\u001b[0;34m(\u001b[0m\u001b[0;34m)\u001b[0m\u001b[0;34m\u001b[0m\u001b[0;34m\u001b[0m\u001b[0m\n\u001b[1;32m    726\u001b[0m       \u001b[0;34m.\u001b[0m\u001b[0mmaps\u001b[0m\u001b[0;34m(\u001b[0m\u001b[0;34m)\u001b[0m\u001b[0;34m\u001b[0m\u001b[0;34m\u001b[0m\u001b[0m\n",
            "\u001b[0;32m/usr/local/lib/python3.10/dist-packages/ee/data.py\u001b[0m in \u001b[0;36m_execute_cloud_call\u001b[0;34m(call, num_retries)\u001b[0m\n\u001b[1;32m    402\u001b[0m     \u001b[0;32mreturn\u001b[0m \u001b[0mcall\u001b[0m\u001b[0;34m.\u001b[0m\u001b[0mexecute\u001b[0m\u001b[0;34m(\u001b[0m\u001b[0mnum_retries\u001b[0m\u001b[0;34m=\u001b[0m\u001b[0mnum_retries\u001b[0m\u001b[0;34m)\u001b[0m\u001b[0;34m\u001b[0m\u001b[0;34m\u001b[0m\u001b[0m\n\u001b[1;32m    403\u001b[0m   \u001b[0;32mexcept\u001b[0m \u001b[0mgoogleapiclient\u001b[0m\u001b[0;34m.\u001b[0m\u001b[0merrors\u001b[0m\u001b[0;34m.\u001b[0m\u001b[0mHttpError\u001b[0m \u001b[0;32mas\u001b[0m \u001b[0me\u001b[0m\u001b[0;34m:\u001b[0m\u001b[0;34m\u001b[0m\u001b[0;34m\u001b[0m\u001b[0m\n\u001b[0;32m--> 404\u001b[0;31m     \u001b[0;32mraise\u001b[0m \u001b[0m_translate_cloud_exception\u001b[0m\u001b[0;34m(\u001b[0m\u001b[0me\u001b[0m\u001b[0;34m)\u001b[0m  \u001b[0;31m# pylint: disable=raise-missing-from\u001b[0m\u001b[0;34m\u001b[0m\u001b[0;34m\u001b[0m\u001b[0m\n\u001b[0m\u001b[1;32m    405\u001b[0m \u001b[0;34m\u001b[0m\u001b[0m\n\u001b[1;32m    406\u001b[0m \u001b[0;34m\u001b[0m\u001b[0m\n",
            "\u001b[0;31mEEException\u001b[0m: No valid training data were found."
          ]
        }
      ]
    },
    {
      "cell_type": "markdown",
      "source": [
        "# 7. Calculate Variable Importance"
      ],
      "metadata": {
        "id": "DZU921JTL9_S"
      }
    },
    {
      "cell_type": "code",
      "source": [
        "# Plot Average Variable Importance\n",
        "eeSDM.plot_avg_variable_importance(results, numiter)"
      ],
      "metadata": {
        "id": "NAJRz_2AL_30",
        "outputId": "b3700acb-806f-40d0-ec18-a6619dece56f",
        "colab": {
          "base_uri": "https://localhost:8080/",
          "height": 447
        }
      },
      "execution_count": null,
      "outputs": [
        {
          "output_type": "display_data",
          "data": {
            "text/plain": [
              "<IPython.core.display.HTML object>"
            ],
            "text/html": [
              "\n",
              "            <style>\n",
              "                .geemap-dark {\n",
              "                    --jp-widgets-color: white;\n",
              "                    --jp-widgets-label-color: white;\n",
              "                    --jp-ui-font-color1: white;\n",
              "                    --jp-layout-color2: #454545;\n",
              "                    background-color: #383838;\n",
              "                }\n",
              "\n",
              "                .geemap-dark .jupyter-button {\n",
              "                    --jp-layout-color3: #383838;\n",
              "                }\n",
              "\n",
              "                .geemap-colab {\n",
              "                    background-color: var(--colab-primary-surface-color, white);\n",
              "                }\n",
              "\n",
              "                .geemap-colab .jupyter-button {\n",
              "                    --jp-layout-color3: var(--colab-primary-surface-color, white);\n",
              "                }\n",
              "            </style>\n",
              "            "
            ]
          },
          "metadata": {}
        },
        {
          "output_type": "error",
          "ename": "EEException",
          "evalue": "No valid training data were found.",
          "traceback": [
            "\u001b[0;31m---------------------------------------------------------------------------\u001b[0m",
            "\u001b[0;31mHttpError\u001b[0m                                 Traceback (most recent call last)",
            "\u001b[0;32m/usr/local/lib/python3.10/dist-packages/ee/data.py\u001b[0m in \u001b[0;36m_execute_cloud_call\u001b[0;34m(call, num_retries)\u001b[0m\n\u001b[1;32m    401\u001b[0m   \u001b[0;32mtry\u001b[0m\u001b[0;34m:\u001b[0m\u001b[0;34m\u001b[0m\u001b[0;34m\u001b[0m\u001b[0m\n\u001b[0;32m--> 402\u001b[0;31m     \u001b[0;32mreturn\u001b[0m \u001b[0mcall\u001b[0m\u001b[0;34m.\u001b[0m\u001b[0mexecute\u001b[0m\u001b[0;34m(\u001b[0m\u001b[0mnum_retries\u001b[0m\u001b[0;34m=\u001b[0m\u001b[0mnum_retries\u001b[0m\u001b[0;34m)\u001b[0m\u001b[0;34m\u001b[0m\u001b[0;34m\u001b[0m\u001b[0m\n\u001b[0m\u001b[1;32m    403\u001b[0m   \u001b[0;32mexcept\u001b[0m \u001b[0mgoogleapiclient\u001b[0m\u001b[0;34m.\u001b[0m\u001b[0merrors\u001b[0m\u001b[0;34m.\u001b[0m\u001b[0mHttpError\u001b[0m \u001b[0;32mas\u001b[0m \u001b[0me\u001b[0m\u001b[0;34m:\u001b[0m\u001b[0;34m\u001b[0m\u001b[0;34m\u001b[0m\u001b[0m\n",
            "\u001b[0;32m/usr/local/lib/python3.10/dist-packages/googleapiclient/_helpers.py\u001b[0m in \u001b[0;36mpositional_wrapper\u001b[0;34m(*args, **kwargs)\u001b[0m\n\u001b[1;32m    129\u001b[0m                     \u001b[0mlogger\u001b[0m\u001b[0;34m.\u001b[0m\u001b[0mwarning\u001b[0m\u001b[0;34m(\u001b[0m\u001b[0mmessage\u001b[0m\u001b[0;34m)\u001b[0m\u001b[0;34m\u001b[0m\u001b[0;34m\u001b[0m\u001b[0m\n\u001b[0;32m--> 130\u001b[0;31m             \u001b[0;32mreturn\u001b[0m \u001b[0mwrapped\u001b[0m\u001b[0;34m(\u001b[0m\u001b[0;34m*\u001b[0m\u001b[0margs\u001b[0m\u001b[0;34m,\u001b[0m \u001b[0;34m**\u001b[0m\u001b[0mkwargs\u001b[0m\u001b[0;34m)\u001b[0m\u001b[0;34m\u001b[0m\u001b[0;34m\u001b[0m\u001b[0m\n\u001b[0m\u001b[1;32m    131\u001b[0m \u001b[0;34m\u001b[0m\u001b[0m\n",
            "\u001b[0;32m/usr/local/lib/python3.10/dist-packages/googleapiclient/http.py\u001b[0m in \u001b[0;36mexecute\u001b[0;34m(self, http, num_retries)\u001b[0m\n\u001b[1;32m    937\u001b[0m         \u001b[0;32mif\u001b[0m \u001b[0mresp\u001b[0m\u001b[0;34m.\u001b[0m\u001b[0mstatus\u001b[0m \u001b[0;34m>=\u001b[0m \u001b[0;36m300\u001b[0m\u001b[0;34m:\u001b[0m\u001b[0;34m\u001b[0m\u001b[0;34m\u001b[0m\u001b[0m\n\u001b[0;32m--> 938\u001b[0;31m             \u001b[0;32mraise\u001b[0m \u001b[0mHttpError\u001b[0m\u001b[0;34m(\u001b[0m\u001b[0mresp\u001b[0m\u001b[0;34m,\u001b[0m \u001b[0mcontent\u001b[0m\u001b[0;34m,\u001b[0m \u001b[0muri\u001b[0m\u001b[0;34m=\u001b[0m\u001b[0mself\u001b[0m\u001b[0;34m.\u001b[0m\u001b[0muri\u001b[0m\u001b[0;34m)\u001b[0m\u001b[0;34m\u001b[0m\u001b[0;34m\u001b[0m\u001b[0m\n\u001b[0m\u001b[1;32m    939\u001b[0m         \u001b[0;32mreturn\u001b[0m \u001b[0mself\u001b[0m\u001b[0;34m.\u001b[0m\u001b[0mpostproc\u001b[0m\u001b[0;34m(\u001b[0m\u001b[0mresp\u001b[0m\u001b[0;34m,\u001b[0m \u001b[0mcontent\u001b[0m\u001b[0;34m)\u001b[0m\u001b[0;34m\u001b[0m\u001b[0;34m\u001b[0m\u001b[0m\n",
            "\u001b[0;31mHttpError\u001b[0m: <HttpError 400 when requesting https://earthengine.googleapis.com/v1/projects/ee-jjangmo91/value:compute?prettyPrint=false&alt=json returned \"No valid training data were found.\". Details: \"No valid training data were found.\">",
            "\nDuring handling of the above exception, another exception occurred:\n",
            "\u001b[0;31mEEException\u001b[0m                               Traceback (most recent call last)",
            "\u001b[0;32m<ipython-input-100-3308ad138c6c>\u001b[0m in \u001b[0;36m<cell line: 2>\u001b[0;34m()\u001b[0m\n\u001b[1;32m      1\u001b[0m \u001b[0;31m# Plot Average Variable Importance\u001b[0m\u001b[0;34m\u001b[0m\u001b[0;34m\u001b[0m\u001b[0m\n\u001b[0;32m----> 2\u001b[0;31m \u001b[0meeSDM\u001b[0m\u001b[0;34m.\u001b[0m\u001b[0mplot_avg_variable_importance\u001b[0m\u001b[0;34m(\u001b[0m\u001b[0mresults\u001b[0m\u001b[0;34m,\u001b[0m \u001b[0mnumiter\u001b[0m\u001b[0;34m)\u001b[0m\u001b[0;34m\u001b[0m\u001b[0;34m\u001b[0m\u001b[0m\n\u001b[0m",
            "\u001b[0;32m/usr/local/lib/python3.10/dist-packages/eeSDM/eeSDM.py\u001b[0m in \u001b[0;36mplot_avg_variable_importance\u001b[0;34m(results, numiter, h_size)\u001b[0m\n\u001b[1;32m    353\u001b[0m \u001b[0;32mdef\u001b[0m \u001b[0mplot_avg_variable_importance\u001b[0m\u001b[0;34m(\u001b[0m\u001b[0mresults\u001b[0m\u001b[0;34m,\u001b[0m \u001b[0mnumiter\u001b[0m\u001b[0;34m,\u001b[0m \u001b[0mh_size\u001b[0m\u001b[0;34m=\u001b[0m\u001b[0;36m8\u001b[0m\u001b[0;34m)\u001b[0m\u001b[0;34m:\u001b[0m\u001b[0;34m\u001b[0m\u001b[0;34m\u001b[0m\u001b[0m\n\u001b[1;32m    354\u001b[0m     \u001b[0;31m# Calculate Average Variable Importance\u001b[0m\u001b[0;34m\u001b[0m\u001b[0;34m\u001b[0m\u001b[0m\n\u001b[0;32m--> 355\u001b[0;31m     \u001b[0mvarImportance\u001b[0m \u001b[0;34m=\u001b[0m \u001b[0mee\u001b[0m\u001b[0;34m.\u001b[0m\u001b[0mList\u001b[0m\u001b[0;34m.\u001b[0m\u001b[0msequence\u001b[0m\u001b[0;34m(\u001b[0m\u001b[0;36m0\u001b[0m\u001b[0;34m,\u001b[0m \u001b[0mee\u001b[0m\u001b[0;34m.\u001b[0m\u001b[0mNumber\u001b[0m\u001b[0;34m(\u001b[0m\u001b[0mnumiter\u001b[0m\u001b[0;34m)\u001b[0m\u001b[0;34m.\u001b[0m\u001b[0mmultiply\u001b[0m\u001b[0;34m(\u001b[0m\u001b[0;36m5\u001b[0m\u001b[0;34m)\u001b[0m\u001b[0;34m.\u001b[0m\u001b[0msubtract\u001b[0m\u001b[0;34m(\u001b[0m\u001b[0;36m1\u001b[0m\u001b[0;34m)\u001b[0m\u001b[0;34m,\u001b[0m \u001b[0;36m5\u001b[0m\u001b[0;34m)\u001b[0m\u001b[0;34m.\u001b[0m\u001b[0mmap\u001b[0m\u001b[0;34m(\u001b[0m\u001b[0;32mlambda\u001b[0m \u001b[0mx\u001b[0m\u001b[0;34m:\u001b[0m \u001b[0mresults\u001b[0m\u001b[0;34m.\u001b[0m\u001b[0mget\u001b[0m\u001b[0;34m(\u001b[0m\u001b[0mx\u001b[0m\u001b[0;34m)\u001b[0m\u001b[0;34m)\u001b[0m\u001b[0;34m.\u001b[0m\u001b[0mgetInfo\u001b[0m\u001b[0;34m(\u001b[0m\u001b[0;34m)\u001b[0m\u001b[0;34m\u001b[0m\u001b[0;34m\u001b[0m\u001b[0m\n\u001b[0m\u001b[1;32m    356\u001b[0m     \u001b[0mavg_varImportance\u001b[0m \u001b[0;34m=\u001b[0m \u001b[0;34m{\u001b[0m\u001b[0mkey\u001b[0m\u001b[0;34m:\u001b[0m \u001b[0msum\u001b[0m\u001b[0;34m(\u001b[0m\u001b[0md\u001b[0m\u001b[0;34m[\u001b[0m\u001b[0mkey\u001b[0m\u001b[0;34m]\u001b[0m \u001b[0;32mfor\u001b[0m \u001b[0md\u001b[0m \u001b[0;32min\u001b[0m \u001b[0mvarImportance\u001b[0m\u001b[0;34m)\u001b[0m \u001b[0;34m/\u001b[0m \u001b[0mlen\u001b[0m\u001b[0;34m(\u001b[0m\u001b[0mvarImportance\u001b[0m\u001b[0;34m)\u001b[0m \u001b[0;32mfor\u001b[0m \u001b[0mkey\u001b[0m \u001b[0;32min\u001b[0m \u001b[0mvarImportance\u001b[0m\u001b[0;34m[\u001b[0m\u001b[0;36m0\u001b[0m\u001b[0;34m]\u001b[0m\u001b[0;34m}\u001b[0m\u001b[0;34m\u001b[0m\u001b[0;34m\u001b[0m\u001b[0m\n\u001b[1;32m    357\u001b[0m \u001b[0;34m\u001b[0m\u001b[0m\n",
            "\u001b[0;32m/usr/local/lib/python3.10/dist-packages/ee/computedobject.py\u001b[0m in \u001b[0;36mgetInfo\u001b[0;34m(self)\u001b[0m\n\u001b[1;32m    105\u001b[0m       \u001b[0mThe\u001b[0m \u001b[0mobject\u001b[0m \u001b[0mcan\u001b[0m \u001b[0mevaluate\u001b[0m \u001b[0mto\u001b[0m \u001b[0manything\u001b[0m\u001b[0;34m.\u001b[0m\u001b[0;34m\u001b[0m\u001b[0;34m\u001b[0m\u001b[0m\n\u001b[1;32m    106\u001b[0m     \"\"\"\n\u001b[0;32m--> 107\u001b[0;31m     \u001b[0;32mreturn\u001b[0m \u001b[0mdata\u001b[0m\u001b[0;34m.\u001b[0m\u001b[0mcomputeValue\u001b[0m\u001b[0;34m(\u001b[0m\u001b[0mself\u001b[0m\u001b[0;34m)\u001b[0m\u001b[0;34m\u001b[0m\u001b[0;34m\u001b[0m\u001b[0m\n\u001b[0m\u001b[1;32m    108\u001b[0m \u001b[0;34m\u001b[0m\u001b[0m\n\u001b[1;32m    109\u001b[0m   \u001b[0;32mdef\u001b[0m \u001b[0mencode\u001b[0m\u001b[0;34m(\u001b[0m\u001b[0mself\u001b[0m\u001b[0;34m,\u001b[0m \u001b[0mencoder\u001b[0m\u001b[0;34m:\u001b[0m \u001b[0mOptional\u001b[0m\u001b[0;34m[\u001b[0m\u001b[0mCallable\u001b[0m\u001b[0;34m[\u001b[0m\u001b[0;34m...\u001b[0m\u001b[0;34m,\u001b[0m \u001b[0mAny\u001b[0m\u001b[0;34m]\u001b[0m\u001b[0;34m]\u001b[0m\u001b[0;34m)\u001b[0m \u001b[0;34m->\u001b[0m \u001b[0mDict\u001b[0m\u001b[0;34m[\u001b[0m\u001b[0mstr\u001b[0m\u001b[0;34m,\u001b[0m \u001b[0mAny\u001b[0m\u001b[0;34m]\u001b[0m\u001b[0;34m:\u001b[0m\u001b[0;34m\u001b[0m\u001b[0;34m\u001b[0m\u001b[0m\n",
            "\u001b[0;32m/usr/local/lib/python3.10/dist-packages/ee/data.py\u001b[0m in \u001b[0;36mcomputeValue\u001b[0;34m(obj)\u001b[0m\n\u001b[1;32m   1099\u001b[0m   \u001b[0m_maybe_populate_workload_tag\u001b[0m\u001b[0;34m(\u001b[0m\u001b[0mbody\u001b[0m\u001b[0;34m)\u001b[0m\u001b[0;34m\u001b[0m\u001b[0;34m\u001b[0m\u001b[0m\n\u001b[1;32m   1100\u001b[0m \u001b[0;34m\u001b[0m\u001b[0m\n\u001b[0;32m-> 1101\u001b[0;31m   return _execute_cloud_call(\n\u001b[0m\u001b[1;32m   1102\u001b[0m       \u001b[0m_get_cloud_projects\u001b[0m\u001b[0;34m(\u001b[0m\u001b[0;34m)\u001b[0m\u001b[0;34m\u001b[0m\u001b[0;34m\u001b[0m\u001b[0m\n\u001b[1;32m   1103\u001b[0m       \u001b[0;34m.\u001b[0m\u001b[0mvalue\u001b[0m\u001b[0;34m(\u001b[0m\u001b[0;34m)\u001b[0m\u001b[0;34m\u001b[0m\u001b[0;34m\u001b[0m\u001b[0m\n",
            "\u001b[0;32m/usr/local/lib/python3.10/dist-packages/ee/data.py\u001b[0m in \u001b[0;36m_execute_cloud_call\u001b[0;34m(call, num_retries)\u001b[0m\n\u001b[1;32m    402\u001b[0m     \u001b[0;32mreturn\u001b[0m \u001b[0mcall\u001b[0m\u001b[0;34m.\u001b[0m\u001b[0mexecute\u001b[0m\u001b[0;34m(\u001b[0m\u001b[0mnum_retries\u001b[0m\u001b[0;34m=\u001b[0m\u001b[0mnum_retries\u001b[0m\u001b[0;34m)\u001b[0m\u001b[0;34m\u001b[0m\u001b[0;34m\u001b[0m\u001b[0m\n\u001b[1;32m    403\u001b[0m   \u001b[0;32mexcept\u001b[0m \u001b[0mgoogleapiclient\u001b[0m\u001b[0;34m.\u001b[0m\u001b[0merrors\u001b[0m\u001b[0;34m.\u001b[0m\u001b[0mHttpError\u001b[0m \u001b[0;32mas\u001b[0m \u001b[0me\u001b[0m\u001b[0;34m:\u001b[0m\u001b[0;34m\u001b[0m\u001b[0;34m\u001b[0m\u001b[0m\n\u001b[0;32m--> 404\u001b[0;31m     \u001b[0;32mraise\u001b[0m \u001b[0m_translate_cloud_exception\u001b[0m\u001b[0;34m(\u001b[0m\u001b[0me\u001b[0m\u001b[0;34m)\u001b[0m  \u001b[0;31m# pylint: disable=raise-missing-from\u001b[0m\u001b[0;34m\u001b[0m\u001b[0;34m\u001b[0m\u001b[0m\n\u001b[0m\u001b[1;32m    405\u001b[0m \u001b[0;34m\u001b[0m\u001b[0m\n\u001b[1;32m    406\u001b[0m \u001b[0;34m\u001b[0m\u001b[0m\n",
            "\u001b[0;31mEEException\u001b[0m: No valid training data were found."
          ]
        }
      ]
    },
    {
      "cell_type": "markdown",
      "source": [
        "# 8. Accuracy Assessment"
      ],
      "metadata": {
        "id": "9Z4vlszMQGWd"
      }
    },
    {
      "cell_type": "code",
      "source": [
        "# Testing datasets\n",
        "TestingDatasets = (ee.List.sequence(4, ee.Number(numiter).multiply(5).subtract(1), 5).map(lambda x: results.get(x)))\n",
        "\n",
        "# Checking if there are sufficient presence and pseudo-absence points\n",
        "eeSDM.print_pres_abs_sizes(TestingDatasets, numiter)"
      ],
      "metadata": {
        "id": "Xg-Yb3gAO15t",
        "outputId": "84ed0032-a6fb-426a-ebc9-1f4e048e61d4",
        "colab": {
          "base_uri": "https://localhost:8080/",
          "height": 447
        }
      },
      "execution_count": null,
      "outputs": [
        {
          "output_type": "display_data",
          "data": {
            "text/plain": [
              "<IPython.core.display.HTML object>"
            ],
            "text/html": [
              "\n",
              "            <style>\n",
              "                .geemap-dark {\n",
              "                    --jp-widgets-color: white;\n",
              "                    --jp-widgets-label-color: white;\n",
              "                    --jp-ui-font-color1: white;\n",
              "                    --jp-layout-color2: #454545;\n",
              "                    background-color: #383838;\n",
              "                }\n",
              "\n",
              "                .geemap-dark .jupyter-button {\n",
              "                    --jp-layout-color3: #383838;\n",
              "                }\n",
              "\n",
              "                .geemap-colab {\n",
              "                    background-color: var(--colab-primary-surface-color, white);\n",
              "                }\n",
              "\n",
              "                .geemap-colab .jupyter-button {\n",
              "                    --jp-layout-color3: var(--colab-primary-surface-color, white);\n",
              "                }\n",
              "            </style>\n",
              "            "
            ]
          },
          "metadata": {}
        },
        {
          "output_type": "error",
          "ename": "EEException",
          "evalue": "No valid training data were found.",
          "traceback": [
            "\u001b[0;31m---------------------------------------------------------------------------\u001b[0m",
            "\u001b[0;31mHttpError\u001b[0m                                 Traceback (most recent call last)",
            "\u001b[0;32m/usr/local/lib/python3.10/dist-packages/ee/data.py\u001b[0m in \u001b[0;36m_execute_cloud_call\u001b[0;34m(call, num_retries)\u001b[0m\n\u001b[1;32m    401\u001b[0m   \u001b[0;32mtry\u001b[0m\u001b[0;34m:\u001b[0m\u001b[0;34m\u001b[0m\u001b[0;34m\u001b[0m\u001b[0m\n\u001b[0;32m--> 402\u001b[0;31m     \u001b[0;32mreturn\u001b[0m \u001b[0mcall\u001b[0m\u001b[0;34m.\u001b[0m\u001b[0mexecute\u001b[0m\u001b[0;34m(\u001b[0m\u001b[0mnum_retries\u001b[0m\u001b[0;34m=\u001b[0m\u001b[0mnum_retries\u001b[0m\u001b[0;34m)\u001b[0m\u001b[0;34m\u001b[0m\u001b[0;34m\u001b[0m\u001b[0m\n\u001b[0m\u001b[1;32m    403\u001b[0m   \u001b[0;32mexcept\u001b[0m \u001b[0mgoogleapiclient\u001b[0m\u001b[0;34m.\u001b[0m\u001b[0merrors\u001b[0m\u001b[0;34m.\u001b[0m\u001b[0mHttpError\u001b[0m \u001b[0;32mas\u001b[0m \u001b[0me\u001b[0m\u001b[0;34m:\u001b[0m\u001b[0;34m\u001b[0m\u001b[0;34m\u001b[0m\u001b[0m\n",
            "\u001b[0;32m/usr/local/lib/python3.10/dist-packages/googleapiclient/_helpers.py\u001b[0m in \u001b[0;36mpositional_wrapper\u001b[0;34m(*args, **kwargs)\u001b[0m\n\u001b[1;32m    129\u001b[0m                     \u001b[0mlogger\u001b[0m\u001b[0;34m.\u001b[0m\u001b[0mwarning\u001b[0m\u001b[0;34m(\u001b[0m\u001b[0mmessage\u001b[0m\u001b[0;34m)\u001b[0m\u001b[0;34m\u001b[0m\u001b[0;34m\u001b[0m\u001b[0m\n\u001b[0;32m--> 130\u001b[0;31m             \u001b[0;32mreturn\u001b[0m \u001b[0mwrapped\u001b[0m\u001b[0;34m(\u001b[0m\u001b[0;34m*\u001b[0m\u001b[0margs\u001b[0m\u001b[0;34m,\u001b[0m \u001b[0;34m**\u001b[0m\u001b[0mkwargs\u001b[0m\u001b[0;34m)\u001b[0m\u001b[0;34m\u001b[0m\u001b[0;34m\u001b[0m\u001b[0m\n\u001b[0m\u001b[1;32m    131\u001b[0m \u001b[0;34m\u001b[0m\u001b[0m\n",
            "\u001b[0;32m/usr/local/lib/python3.10/dist-packages/googleapiclient/http.py\u001b[0m in \u001b[0;36mexecute\u001b[0;34m(self, http, num_retries)\u001b[0m\n\u001b[1;32m    937\u001b[0m         \u001b[0;32mif\u001b[0m \u001b[0mresp\u001b[0m\u001b[0;34m.\u001b[0m\u001b[0mstatus\u001b[0m \u001b[0;34m>=\u001b[0m \u001b[0;36m300\u001b[0m\u001b[0;34m:\u001b[0m\u001b[0;34m\u001b[0m\u001b[0;34m\u001b[0m\u001b[0m\n\u001b[0;32m--> 938\u001b[0;31m             \u001b[0;32mraise\u001b[0m \u001b[0mHttpError\u001b[0m\u001b[0;34m(\u001b[0m\u001b[0mresp\u001b[0m\u001b[0;34m,\u001b[0m \u001b[0mcontent\u001b[0m\u001b[0;34m,\u001b[0m \u001b[0muri\u001b[0m\u001b[0;34m=\u001b[0m\u001b[0mself\u001b[0m\u001b[0;34m.\u001b[0m\u001b[0muri\u001b[0m\u001b[0;34m)\u001b[0m\u001b[0;34m\u001b[0m\u001b[0;34m\u001b[0m\u001b[0m\n\u001b[0m\u001b[1;32m    939\u001b[0m         \u001b[0;32mreturn\u001b[0m \u001b[0mself\u001b[0m\u001b[0;34m.\u001b[0m\u001b[0mpostproc\u001b[0m\u001b[0;34m(\u001b[0m\u001b[0mresp\u001b[0m\u001b[0;34m,\u001b[0m \u001b[0mcontent\u001b[0m\u001b[0;34m)\u001b[0m\u001b[0;34m\u001b[0m\u001b[0;34m\u001b[0m\u001b[0m\n",
            "\u001b[0;31mHttpError\u001b[0m: <HttpError 400 when requesting https://earthengine.googleapis.com/v1/projects/ee-jjangmo91/value:compute?prettyPrint=false&alt=json returned \"No valid training data were found.\". Details: \"No valid training data were found.\">",
            "\nDuring handling of the above exception, another exception occurred:\n",
            "\u001b[0;31mEEException\u001b[0m                               Traceback (most recent call last)",
            "\u001b[0;32m<ipython-input-119-9d51fae4a625>\u001b[0m in \u001b[0;36m<cell line: 5>\u001b[0;34m()\u001b[0m\n\u001b[1;32m      3\u001b[0m \u001b[0;34m\u001b[0m\u001b[0m\n\u001b[1;32m      4\u001b[0m \u001b[0;31m# Checking if there are sufficient presence and pseudo-absence points\u001b[0m\u001b[0;34m\u001b[0m\u001b[0;34m\u001b[0m\u001b[0m\n\u001b[0;32m----> 5\u001b[0;31m \u001b[0meeSDM\u001b[0m\u001b[0;34m.\u001b[0m\u001b[0mprint_pres_abs_sizes\u001b[0m\u001b[0;34m(\u001b[0m\u001b[0mTestingDatasets\u001b[0m\u001b[0;34m,\u001b[0m \u001b[0mnumiter\u001b[0m\u001b[0;34m)\u001b[0m\u001b[0;34m\u001b[0m\u001b[0;34m\u001b[0m\u001b[0m\n\u001b[0m",
            "\u001b[0;32m/usr/local/lib/python3.10/dist-packages/eeSDM/eeSDM.py\u001b[0m in \u001b[0;36mprint_pres_abs_sizes\u001b[0;34m(TestingDatasets, numiter)\u001b[0m\n\u001b[1;32m    391\u001b[0m         \u001b[0;32mreturn\u001b[0m \u001b[0mee\u001b[0m\u001b[0;34m.\u001b[0m\u001b[0mList\u001b[0m\u001b[0;34m(\u001b[0m\u001b[0;34m[\u001b[0m\u001b[0mpresence_size\u001b[0m\u001b[0;34m,\u001b[0m \u001b[0mpseudo_absence_size\u001b[0m\u001b[0;34m]\u001b[0m\u001b[0;34m)\u001b[0m\u001b[0;34m\u001b[0m\u001b[0;34m\u001b[0m\u001b[0m\n\u001b[1;32m    392\u001b[0m \u001b[0;34m\u001b[0m\u001b[0m\n\u001b[0;32m--> 393\u001b[0;31m     \u001b[0msizes_info\u001b[0m \u001b[0;34m=\u001b[0m \u001b[0mee\u001b[0m\u001b[0;34m.\u001b[0m\u001b[0mList\u001b[0m\u001b[0;34m.\u001b[0m\u001b[0msequence\u001b[0m\u001b[0;34m(\u001b[0m\u001b[0;36m0\u001b[0m\u001b[0;34m,\u001b[0m \u001b[0mee\u001b[0m\u001b[0;34m.\u001b[0m\u001b[0mNumber\u001b[0m\u001b[0;34m(\u001b[0m\u001b[0mnumiter\u001b[0m\u001b[0;34m)\u001b[0m\u001b[0;34m.\u001b[0m\u001b[0msubtract\u001b[0m\u001b[0;34m(\u001b[0m\u001b[0;36m1\u001b[0m\u001b[0;34m)\u001b[0m\u001b[0;34m,\u001b[0m \u001b[0;36m1\u001b[0m\u001b[0;34m)\u001b[0m\u001b[0;34m.\u001b[0m\u001b[0mmap\u001b[0m\u001b[0;34m(\u001b[0m\u001b[0mget_pres_abs_size\u001b[0m\u001b[0;34m)\u001b[0m\u001b[0;34m.\u001b[0m\u001b[0mgetInfo\u001b[0m\u001b[0;34m(\u001b[0m\u001b[0;34m)\u001b[0m\u001b[0;34m\u001b[0m\u001b[0;34m\u001b[0m\u001b[0m\n\u001b[0m\u001b[1;32m    394\u001b[0m \u001b[0;34m\u001b[0m\u001b[0m\n\u001b[1;32m    395\u001b[0m     \u001b[0;32mfor\u001b[0m \u001b[0mi\u001b[0m\u001b[0;34m,\u001b[0m \u001b[0msizes\u001b[0m \u001b[0;32min\u001b[0m \u001b[0menumerate\u001b[0m\u001b[0;34m(\u001b[0m\u001b[0msizes_info\u001b[0m\u001b[0;34m)\u001b[0m\u001b[0;34m:\u001b[0m\u001b[0;34m\u001b[0m\u001b[0;34m\u001b[0m\u001b[0m\n",
            "\u001b[0;32m/usr/local/lib/python3.10/dist-packages/ee/computedobject.py\u001b[0m in \u001b[0;36mgetInfo\u001b[0;34m(self)\u001b[0m\n\u001b[1;32m    105\u001b[0m       \u001b[0mThe\u001b[0m \u001b[0mobject\u001b[0m \u001b[0mcan\u001b[0m \u001b[0mevaluate\u001b[0m \u001b[0mto\u001b[0m \u001b[0manything\u001b[0m\u001b[0;34m.\u001b[0m\u001b[0;34m\u001b[0m\u001b[0;34m\u001b[0m\u001b[0m\n\u001b[1;32m    106\u001b[0m     \"\"\"\n\u001b[0;32m--> 107\u001b[0;31m     \u001b[0;32mreturn\u001b[0m \u001b[0mdata\u001b[0m\u001b[0;34m.\u001b[0m\u001b[0mcomputeValue\u001b[0m\u001b[0;34m(\u001b[0m\u001b[0mself\u001b[0m\u001b[0;34m)\u001b[0m\u001b[0;34m\u001b[0m\u001b[0;34m\u001b[0m\u001b[0m\n\u001b[0m\u001b[1;32m    108\u001b[0m \u001b[0;34m\u001b[0m\u001b[0m\n\u001b[1;32m    109\u001b[0m   \u001b[0;32mdef\u001b[0m \u001b[0mencode\u001b[0m\u001b[0;34m(\u001b[0m\u001b[0mself\u001b[0m\u001b[0;34m,\u001b[0m \u001b[0mencoder\u001b[0m\u001b[0;34m:\u001b[0m \u001b[0mOptional\u001b[0m\u001b[0;34m[\u001b[0m\u001b[0mCallable\u001b[0m\u001b[0;34m[\u001b[0m\u001b[0;34m...\u001b[0m\u001b[0;34m,\u001b[0m \u001b[0mAny\u001b[0m\u001b[0;34m]\u001b[0m\u001b[0;34m]\u001b[0m\u001b[0;34m)\u001b[0m \u001b[0;34m->\u001b[0m \u001b[0mDict\u001b[0m\u001b[0;34m[\u001b[0m\u001b[0mstr\u001b[0m\u001b[0;34m,\u001b[0m \u001b[0mAny\u001b[0m\u001b[0;34m]\u001b[0m\u001b[0;34m:\u001b[0m\u001b[0;34m\u001b[0m\u001b[0;34m\u001b[0m\u001b[0m\n",
            "\u001b[0;32m/usr/local/lib/python3.10/dist-packages/ee/data.py\u001b[0m in \u001b[0;36mcomputeValue\u001b[0;34m(obj)\u001b[0m\n\u001b[1;32m   1099\u001b[0m   \u001b[0m_maybe_populate_workload_tag\u001b[0m\u001b[0;34m(\u001b[0m\u001b[0mbody\u001b[0m\u001b[0;34m)\u001b[0m\u001b[0;34m\u001b[0m\u001b[0;34m\u001b[0m\u001b[0m\n\u001b[1;32m   1100\u001b[0m \u001b[0;34m\u001b[0m\u001b[0m\n\u001b[0;32m-> 1101\u001b[0;31m   return _execute_cloud_call(\n\u001b[0m\u001b[1;32m   1102\u001b[0m       \u001b[0m_get_cloud_projects\u001b[0m\u001b[0;34m(\u001b[0m\u001b[0;34m)\u001b[0m\u001b[0;34m\u001b[0m\u001b[0;34m\u001b[0m\u001b[0m\n\u001b[1;32m   1103\u001b[0m       \u001b[0;34m.\u001b[0m\u001b[0mvalue\u001b[0m\u001b[0;34m(\u001b[0m\u001b[0;34m)\u001b[0m\u001b[0;34m\u001b[0m\u001b[0;34m\u001b[0m\u001b[0m\n",
            "\u001b[0;32m/usr/local/lib/python3.10/dist-packages/ee/data.py\u001b[0m in \u001b[0;36m_execute_cloud_call\u001b[0;34m(call, num_retries)\u001b[0m\n\u001b[1;32m    402\u001b[0m     \u001b[0;32mreturn\u001b[0m \u001b[0mcall\u001b[0m\u001b[0;34m.\u001b[0m\u001b[0mexecute\u001b[0m\u001b[0;34m(\u001b[0m\u001b[0mnum_retries\u001b[0m\u001b[0;34m=\u001b[0m\u001b[0mnum_retries\u001b[0m\u001b[0;34m)\u001b[0m\u001b[0;34m\u001b[0m\u001b[0;34m\u001b[0m\u001b[0m\n\u001b[1;32m    403\u001b[0m   \u001b[0;32mexcept\u001b[0m \u001b[0mgoogleapiclient\u001b[0m\u001b[0;34m.\u001b[0m\u001b[0merrors\u001b[0m\u001b[0;34m.\u001b[0m\u001b[0mHttpError\u001b[0m \u001b[0;32mas\u001b[0m \u001b[0me\u001b[0m\u001b[0;34m:\u001b[0m\u001b[0;34m\u001b[0m\u001b[0;34m\u001b[0m\u001b[0m\n\u001b[0;32m--> 404\u001b[0;31m     \u001b[0;32mraise\u001b[0m \u001b[0m_translate_cloud_exception\u001b[0m\u001b[0;34m(\u001b[0m\u001b[0me\u001b[0m\u001b[0;34m)\u001b[0m  \u001b[0;31m# pylint: disable=raise-missing-from\u001b[0m\u001b[0;34m\u001b[0m\u001b[0;34m\u001b[0m\u001b[0m\n\u001b[0m\u001b[1;32m    405\u001b[0m \u001b[0;34m\u001b[0m\u001b[0m\n\u001b[1;32m    406\u001b[0m \u001b[0;34m\u001b[0m\u001b[0m\n",
            "\u001b[0;31mEEException\u001b[0m: No valid training data were found."
          ]
        }
      ]
    },
    {
      "cell_type": "code",
      "source": [
        "%%time\n",
        "\n",
        "# Calculate AUC-ROC and AUC-PR\n",
        "eeSDM.calculate_and_print_auc_metrics(images, TestingDatasets, GrainSize, numiter)"
      ],
      "metadata": {
        "id": "dxEEd-wmQLcL"
      },
      "execution_count": null,
      "outputs": []
    },
    {
      "cell_type": "code",
      "source": [
        "%%time\n",
        "\n",
        "# Calculate Sensitivity and Specificity\n",
        "eeSDM.calculate_and_print_ss_metrics(images, TestingDatasets, GrainSize, numiter)"
      ],
      "metadata": {
        "id": "zPt5eZRuQNpL"
      },
      "execution_count": null,
      "outputs": []
    },
    {
      "cell_type": "code",
      "source": [
        "%%time\n",
        "\n",
        "# Plot ROC and PR curves\n",
        "eeSDM.plot_roc_pr_curves(images, TestingDatasets, GrainSize, numiter)"
      ],
      "metadata": {
        "id": "yOiD-msWQPBw"
      },
      "execution_count": null,
      "outputs": []
    },
    {
      "cell_type": "code",
      "source": [
        "%%time\n",
        "\n",
        "# Potential Distribution Map using the optimal threshold\n",
        "DistributionMap2 = eeSDM.create_DistributionMap2(images, TestingDatasets, GrainSize, numiter, ModelAverage)"
      ],
      "metadata": {
        "id": "8eMdtlJGQQbC"
      },
      "execution_count": null,
      "outputs": []
    },
    {
      "cell_type": "code",
      "source": [
        "out_dir = 'D:/GEODATA'\n",
        "\n",
        "# Save Habitat Suitability Map as GeoTIFF\n",
        "out_file = os.path.join(out_dir, 'habitat_suitability.tif')\n",
        "geemap.ee_export_image(ModelAverage, filename=out_file, region=AOI, scale=1000)\n",
        "\n",
        "# Save Potential Distribution Map as GeoTIFF\n",
        "out_file = os.path.join(out_dir, 'distribution_map.tif')\n",
        "geemap.ee_export_image(DistributionMap, filename=out_file, region=AOI, scale=1000)\n",
        "\n",
        "# Save Potential Distribution Map with Optimal Threshold as GeoTIFF\n",
        "out_file = os.path.join(out_dir, 'distribution_map2.tif')\n",
        "geemap.ee_export_image(DistributionMap2, filename=out_file, region=AOI, scale=1000)"
      ],
      "metadata": {
        "id": "pdvz5dOMQR0F"
      },
      "execution_count": null,
      "outputs": []
    }
  ],
  "metadata": {
    "colab": {
      "name": "Colaboratory에 오신 것을 환영합니다",
      "toc_visible": true,
      "provenance": [],
      "include_colab_link": true
    },
    "kernelspec": {
      "display_name": "Python 3",
      "name": "python3"
    },
    "widgets": {
      "application/vnd.jupyter.widget-state+json": {
        "f39d4a088e154fc6ac9da0b48d1f289d": {
          "model_module": "jupyter-leaflet",
          "model_name": "LeafletMapModel",
          "model_module_version": "^0.18",
          "state": {
            "_dom_classes": [],
            "_model_module": "jupyter-leaflet",
            "_model_module_version": "^0.18",
            "_model_name": "LeafletMapModel",
            "_view_count": null,
            "_view_module": "jupyter-leaflet",
            "_view_module_version": "^0.18",
            "_view_name": "LeafletMapView",
            "bottom": 12998,
            "bounce_at_zoom_limits": true,
            "box_zoom": true,
            "center": [
              36.61552763134925,
              128.83666992187503
            ],
            "close_popup_on_click": true,
            "controls": [
              "IPY_MODEL_800a92eb10134296976e5c968db4cce5",
              "IPY_MODEL_7d4f53fa7ed145348eb182ec29cc7dce",
              "IPY_MODEL_ede347ff787f4f7da98992695c825e43",
              "IPY_MODEL_942e1468579d44fea89cd953e8570d3e",
              "IPY_MODEL_4f960013ad75493180a3149487090854",
              "IPY_MODEL_686c7fa60b244555ac4c8898160b2899",
              "IPY_MODEL_ee957ea736104afb93266415b930b00b",
              "IPY_MODEL_3bf6053a25cc46e584225be90f04f5ea"
            ],
            "crs": {
              "name": "EPSG3857",
              "custom": false
            },
            "default_style": "IPY_MODEL_f992d20e63414f20a810f252bd57efa4",
            "double_click_zoom": true,
            "dragging": true,
            "dragging_style": "IPY_MODEL_dd5ef3ebad8341f9a7c8d6c456a95c81",
            "east": 133.23120117187503,
            "fullscreen": false,
            "inertia": true,
            "inertia_deceleration": 3000,
            "inertia_max_speed": 1500,
            "interpolation": "bilinear",
            "keyboard": true,
            "keyboard_pan_offset": 80,
            "keyboard_zoom_offset": 1,
            "layers": [
              "IPY_MODEL_8f08789471a94c6a9bb2187ad4bdfe41",
              "IPY_MODEL_5c92e37cbeeb4c21aa8c7cd8fc069823"
            ],
            "layout": "IPY_MODEL_a944fd2cfcdf4e1bb7ed9c8428a6b2ed",
            "left": 27711,
            "max_zoom": 24,
            "min_zoom": null,
            "modisdate": "2024-04-02",
            "north": 38.35888785866677,
            "options": [
              "bounce_at_zoom_limits",
              "box_zoom",
              "center",
              "close_popup_on_click",
              "double_click_zoom",
              "dragging",
              "fullscreen",
              "inertia",
              "inertia_deceleration",
              "inertia_max_speed",
              "interpolation",
              "keyboard",
              "keyboard_pan_offset",
              "keyboard_zoom_offset",
              "max_zoom",
              "min_zoom",
              "prefer_canvas",
              "scroll_wheel_zoom",
              "tap",
              "tap_tolerance",
              "touch_zoom",
              "world_copy_jump",
              "zoom",
              "zoom_animation_threshold",
              "zoom_delta",
              "zoom_snap"
            ],
            "panes": {},
            "prefer_canvas": false,
            "right": 28511,
            "scroll_wheel_zoom": true,
            "south": 34.831841149828676,
            "style": "IPY_MODEL_f992d20e63414f20a810f252bd57efa4",
            "tap": true,
            "tap_tolerance": 15,
            "top": 12598,
            "touch_zoom": true,
            "west": 124.44213867187501,
            "window_url": "https://lhn0zl5mavq-496ff2e9c6d22116-0-colab.googleusercontent.com/outputframe.html?vrz=colab_20240402-060125_RC00_621130841",
            "world_copy_jump": false,
            "zoom": 7,
            "zoom_animation_threshold": 4,
            "zoom_delta": 1,
            "zoom_snap": 1
          }
        },
        "800a92eb10134296976e5c968db4cce5": {
          "model_module": "jupyter-leaflet",
          "model_name": "LeafletWidgetControlModel",
          "model_module_version": "^0.18",
          "state": {
            "_model_module": "jupyter-leaflet",
            "_model_module_version": "^0.18",
            "_model_name": "LeafletWidgetControlModel",
            "_view_count": null,
            "_view_module": "jupyter-leaflet",
            "_view_module_version": "^0.18",
            "_view_name": "LeafletWidgetControlView",
            "max_height": null,
            "max_width": null,
            "min_height": null,
            "min_width": null,
            "options": [
              "position",
              "transparent_bg"
            ],
            "position": "topleft",
            "transparent_bg": false,
            "widget": "IPY_MODEL_eefceb1e53a64c5b9dd5a5e5bfb7fbcf"
          }
        },
        "7d4f53fa7ed145348eb182ec29cc7dce": {
          "model_module": "jupyter-leaflet",
          "model_name": "LeafletZoomControlModel",
          "model_module_version": "^0.18",
          "state": {
            "_model_module": "jupyter-leaflet",
            "_model_module_version": "^0.18",
            "_model_name": "LeafletZoomControlModel",
            "_view_count": null,
            "_view_module": "jupyter-leaflet",
            "_view_module_version": "^0.18",
            "_view_name": "LeafletZoomControlView",
            "options": [
              "position",
              "zoom_in_text",
              "zoom_in_title",
              "zoom_out_text",
              "zoom_out_title"
            ],
            "position": "topleft",
            "zoom_in_text": "+",
            "zoom_in_title": "Zoom in",
            "zoom_out_text": "-",
            "zoom_out_title": "Zoom out"
          }
        },
        "ede347ff787f4f7da98992695c825e43": {
          "model_module": "jupyter-leaflet",
          "model_name": "LeafletFullScreenControlModel",
          "model_module_version": "^0.18",
          "state": {
            "_model_module": "jupyter-leaflet",
            "_model_module_version": "^0.18",
            "_model_name": "LeafletFullScreenControlModel",
            "_view_count": null,
            "_view_module": "jupyter-leaflet",
            "_view_module_version": "^0.18",
            "_view_name": "LeafletFullScreenControlView",
            "options": [
              "position"
            ],
            "position": "topleft"
          }
        },
        "942e1468579d44fea89cd953e8570d3e": {
          "model_module": "jupyter-leaflet",
          "model_name": "LeafletDrawControlModel",
          "model_module_version": "^0.18",
          "state": {
            "_model_module": "jupyter-leaflet",
            "_model_module_version": "^0.18",
            "_model_name": "LeafletDrawControlModel",
            "_view_count": null,
            "_view_module": "jupyter-leaflet",
            "_view_module_version": "^0.18",
            "_view_name": "LeafletDrawControlView",
            "circle": {},
            "circlemarker": {},
            "data": [],
            "edit": true,
            "marker": {
              "shapeOptions": {
                "color": "#3388ff"
              }
            },
            "options": [
              "position"
            ],
            "polygon": {
              "shapeOptions": {}
            },
            "polyline": {
              "shapeOptions": {}
            },
            "position": "topleft",
            "rectangle": {
              "shapeOptions": {
                "color": "#3388ff"
              }
            },
            "remove": true
          }
        },
        "4f960013ad75493180a3149487090854": {
          "model_module": "jupyter-leaflet",
          "model_name": "LeafletScaleControlModel",
          "model_module_version": "^0.18",
          "state": {
            "_model_module": "jupyter-leaflet",
            "_model_module_version": "^0.18",
            "_model_name": "LeafletScaleControlModel",
            "_view_count": null,
            "_view_module": "jupyter-leaflet",
            "_view_module_version": "^0.18",
            "_view_name": "LeafletScaleControlView",
            "imperial": true,
            "max_width": 100,
            "metric": true,
            "options": [
              "imperial",
              "max_width",
              "metric",
              "position",
              "update_when_idle"
            ],
            "position": "bottomleft",
            "update_when_idle": false
          }
        },
        "686c7fa60b244555ac4c8898160b2899": {
          "model_module": "jupyter-leaflet",
          "model_name": "LeafletMeasureControlModel",
          "model_module_version": "^0.18",
          "state": {
            "_custom_units": {},
            "_model_module": "jupyter-leaflet",
            "_model_module_version": "^0.18",
            "_model_name": "LeafletMeasureControlModel",
            "_view_count": null,
            "_view_module": "jupyter-leaflet",
            "_view_module_version": "^0.18",
            "_view_name": "LeafletMeasureControlView",
            "active_color": "orange",
            "capture_z_index": 10000,
            "completed_color": "#C8F2BE",
            "options": [
              "active_color",
              "capture_z_index",
              "completed_color",
              "popup_options",
              "position",
              "primary_area_unit",
              "primary_length_unit",
              "secondary_area_unit",
              "secondary_length_unit"
            ],
            "popup_options": {
              "className": "leaflet-measure-resultpopup",
              "autoPanPadding": [
                10,
                10
              ]
            },
            "position": "bottomleft",
            "primary_area_unit": "acres",
            "primary_length_unit": "kilometers",
            "secondary_area_unit": null,
            "secondary_length_unit": null
          }
        },
        "ee957ea736104afb93266415b930b00b": {
          "model_module": "jupyter-leaflet",
          "model_name": "LeafletWidgetControlModel",
          "model_module_version": "^0.18",
          "state": {
            "_model_module": "jupyter-leaflet",
            "_model_module_version": "^0.18",
            "_model_name": "LeafletWidgetControlModel",
            "_view_count": null,
            "_view_module": "jupyter-leaflet",
            "_view_module_version": "^0.18",
            "_view_name": "LeafletWidgetControlView",
            "max_height": null,
            "max_width": null,
            "min_height": null,
            "min_width": null,
            "options": [
              "position",
              "transparent_bg"
            ],
            "position": "topright",
            "transparent_bg": false,
            "widget": "IPY_MODEL_bf69f30998d6468c86db1ac49f24b5cb"
          }
        },
        "3bf6053a25cc46e584225be90f04f5ea": {
          "model_module": "jupyter-leaflet",
          "model_name": "LeafletAttributionControlModel",
          "model_module_version": "^0.18",
          "state": {
            "_model_module": "jupyter-leaflet",
            "_model_module_version": "^0.18",
            "_model_name": "LeafletAttributionControlModel",
            "_view_count": null,
            "_view_module": "jupyter-leaflet",
            "_view_module_version": "^0.18",
            "_view_name": "LeafletAttributionControlView",
            "options": [
              "position",
              "prefix"
            ],
            "position": "bottomright",
            "prefix": "ipyleaflet"
          }
        },
        "f992d20e63414f20a810f252bd57efa4": {
          "model_module": "jupyter-leaflet",
          "model_name": "LeafletMapStyleModel",
          "model_module_version": "^0.18",
          "state": {
            "_model_module": "jupyter-leaflet",
            "_model_module_version": "^0.18",
            "_model_name": "LeafletMapStyleModel",
            "_view_count": null,
            "_view_module": "@jupyter-widgets/base",
            "_view_module_version": "1.2.0",
            "_view_name": "StyleView",
            "cursor": "grab"
          }
        },
        "dd5ef3ebad8341f9a7c8d6c456a95c81": {
          "model_module": "jupyter-leaflet",
          "model_name": "LeafletMapStyleModel",
          "model_module_version": "^0.18",
          "state": {
            "_model_module": "jupyter-leaflet",
            "_model_module_version": "^0.18",
            "_model_name": "LeafletMapStyleModel",
            "_view_count": null,
            "_view_module": "@jupyter-widgets/base",
            "_view_module_version": "1.2.0",
            "_view_name": "StyleView",
            "cursor": "move"
          }
        },
        "8f08789471a94c6a9bb2187ad4bdfe41": {
          "model_module": "jupyter-leaflet",
          "model_name": "LeafletTileLayerModel",
          "model_module_version": "^0.18",
          "state": {
            "_model_module": "jupyter-leaflet",
            "_model_module_version": "^0.18",
            "_model_name": "LeafletTileLayerModel",
            "_view_count": null,
            "_view_module": "jupyter-leaflet",
            "_view_module_version": "^0.18",
            "_view_name": "LeafletTileLayerView",
            "attribution": "&copy; <a href=\"https://www.openstreetmap.org/copyright\">OpenStreetMap</a> contributors",
            "base": true,
            "bottom": true,
            "bounds": null,
            "detect_retina": false,
            "loading": false,
            "max_native_zoom": null,
            "max_zoom": 19,
            "min_native_zoom": null,
            "min_zoom": 1,
            "name": "OpenStreetMap.Mapnik",
            "no_wrap": false,
            "opacity": 1,
            "options": [
              "attribution",
              "bounds",
              "detect_retina",
              "max_native_zoom",
              "max_zoom",
              "min_native_zoom",
              "min_zoom",
              "no_wrap",
              "tile_size",
              "tms",
              "zoom_offset"
            ],
            "pane": "",
            "popup": null,
            "popup_max_height": null,
            "popup_max_width": 300,
            "popup_min_width": 50,
            "show_loading": false,
            "subitems": [],
            "tile_size": 256,
            "tms": false,
            "url": "https://tile.openstreetmap.org/{z}/{x}/{y}.png",
            "visible": true,
            "zoom_offset": 0
          }
        },
        "5c92e37cbeeb4c21aa8c7cd8fc069823": {
          "model_module": "jupyter-leaflet",
          "model_name": "LeafletTileLayerModel",
          "model_module_version": "^0.18",
          "state": {
            "_model_module": "jupyter-leaflet",
            "_model_module_version": "^0.18",
            "_model_name": "LeafletTileLayerModel",
            "_view_count": null,
            "_view_module": "jupyter-leaflet",
            "_view_module_version": "^0.18",
            "_view_name": "LeafletTileLayerView",
            "attribution": "Google Earth Engine",
            "base": false,
            "bottom": true,
            "bounds": null,
            "detect_retina": false,
            "loading": false,
            "max_native_zoom": null,
            "max_zoom": 24,
            "min_native_zoom": null,
            "min_zoom": 0,
            "name": "AreaForPA",
            "no_wrap": false,
            "opacity": 1,
            "options": [
              "attribution",
              "bounds",
              "detect_retina",
              "max_native_zoom",
              "max_zoom",
              "min_native_zoom",
              "min_zoom",
              "no_wrap",
              "tile_size",
              "tms",
              "zoom_offset"
            ],
            "pane": "",
            "popup": null,
            "popup_max_height": null,
            "popup_max_width": 300,
            "popup_min_width": 50,
            "show_loading": false,
            "subitems": [],
            "tile_size": 256,
            "tms": false,
            "url": "https://earthengine.googleapis.com/v1/projects/ee-jjangmo91/maps/f09e61bbe91f1ddeb79432b6e8414e38-27e69f9662d5e840438269a4c0148e37/tiles/{z}/{x}/{y}",
            "visible": true,
            "zoom_offset": 0
          }
        },
        "a944fd2cfcdf4e1bb7ed9c8428a6b2ed": {
          "model_module": "@jupyter-widgets/base",
          "model_name": "LayoutModel",
          "model_module_version": "1.2.0",
          "state": {
            "_model_module": "@jupyter-widgets/base",
            "_model_module_version": "1.2.0",
            "_model_name": "LayoutModel",
            "_view_count": null,
            "_view_module": "@jupyter-widgets/base",
            "_view_module_version": "1.2.0",
            "_view_name": "LayoutView",
            "align_content": null,
            "align_items": null,
            "align_self": null,
            "border": null,
            "bottom": null,
            "display": null,
            "flex": null,
            "flex_flow": null,
            "grid_area": null,
            "grid_auto_columns": null,
            "grid_auto_flow": null,
            "grid_auto_rows": null,
            "grid_column": null,
            "grid_gap": null,
            "grid_row": null,
            "grid_template_areas": null,
            "grid_template_columns": null,
            "grid_template_rows": null,
            "height": "400px",
            "justify_content": null,
            "justify_items": null,
            "left": null,
            "margin": null,
            "max_height": null,
            "max_width": null,
            "min_height": null,
            "min_width": null,
            "object_fit": null,
            "object_position": null,
            "order": null,
            "overflow": null,
            "overflow_x": null,
            "overflow_y": null,
            "padding": null,
            "right": null,
            "top": null,
            "visibility": null,
            "width": "800px"
          }
        },
        "6473edaac67b4019993e1f4afb09ef42": {
          "model_module": "jupyter-leaflet",
          "model_name": "LeafletMapStyleModel",
          "model_module_version": "^0.18",
          "state": {
            "_model_module": "jupyter-leaflet",
            "_model_module_version": "^0.18",
            "_model_name": "LeafletMapStyleModel",
            "_view_count": null,
            "_view_module": "@jupyter-widgets/base",
            "_view_module_version": "1.2.0",
            "_view_name": "StyleView",
            "cursor": "grab"
          }
        },
        "eefceb1e53a64c5b9dd5a5e5bfb7fbcf": {
          "model_module": "@jupyter-widgets/controls",
          "model_name": "HBoxModel",
          "model_module_version": "1.5.0",
          "state": {
            "_dom_classes": [
              "geemap-colab"
            ],
            "_model_module": "@jupyter-widgets/controls",
            "_model_module_version": "1.5.0",
            "_model_name": "HBoxModel",
            "_view_count": null,
            "_view_module": "@jupyter-widgets/controls",
            "_view_module_version": "1.5.0",
            "_view_name": "HBoxView",
            "box_style": "",
            "children": [
              "IPY_MODEL_9c8114afaa114f199dbbeb39bf669241"
            ],
            "layout": "IPY_MODEL_1c63b0f46a9e435a86d411bc969b776c"
          }
        },
        "bf69f30998d6468c86db1ac49f24b5cb": {
          "model_module": "@jupyter-widgets/controls",
          "model_name": "VBoxModel",
          "model_module_version": "1.5.0",
          "state": {
            "_dom_classes": [
              "geemap-colab"
            ],
            "_model_module": "@jupyter-widgets/controls",
            "_model_module_version": "1.5.0",
            "_model_name": "VBoxModel",
            "_view_count": null,
            "_view_module": "@jupyter-widgets/controls",
            "_view_module_version": "1.5.0",
            "_view_name": "VBoxView",
            "box_style": "",
            "children": [
              "IPY_MODEL_fa61ddddd00343c99c66ce4f6e5aaca7"
            ],
            "layout": "IPY_MODEL_0bd11cbb08774194920e18915fe67678"
          }
        },
        "9c8114afaa114f199dbbeb39bf669241": {
          "model_module": "@jupyter-widgets/controls",
          "model_name": "ToggleButtonModel",
          "model_module_version": "1.5.0",
          "state": {
            "_dom_classes": [],
            "_model_module": "@jupyter-widgets/controls",
            "_model_module_version": "1.5.0",
            "_model_name": "ToggleButtonModel",
            "_view_count": null,
            "_view_module": "@jupyter-widgets/controls",
            "_view_module_version": "1.5.0",
            "_view_name": "ToggleButtonView",
            "button_style": "",
            "description": "",
            "description_tooltip": null,
            "disabled": false,
            "icon": "globe",
            "layout": "IPY_MODEL_06058ef4f13a4c7baf0a4d9a64d24008",
            "style": "IPY_MODEL_2c9206c17a1b42a58e70c3692349354e",
            "tooltip": "Search location/data",
            "value": false
          }
        },
        "1c63b0f46a9e435a86d411bc969b776c": {
          "model_module": "@jupyter-widgets/base",
          "model_name": "LayoutModel",
          "model_module_version": "1.2.0",
          "state": {
            "_model_module": "@jupyter-widgets/base",
            "_model_module_version": "1.2.0",
            "_model_name": "LayoutModel",
            "_view_count": null,
            "_view_module": "@jupyter-widgets/base",
            "_view_module_version": "1.2.0",
            "_view_name": "LayoutView",
            "align_content": null,
            "align_items": null,
            "align_self": null,
            "border": null,
            "bottom": null,
            "display": null,
            "flex": null,
            "flex_flow": null,
            "grid_area": null,
            "grid_auto_columns": null,
            "grid_auto_flow": null,
            "grid_auto_rows": null,
            "grid_column": null,
            "grid_gap": null,
            "grid_row": null,
            "grid_template_areas": null,
            "grid_template_columns": null,
            "grid_template_rows": null,
            "height": null,
            "justify_content": null,
            "justify_items": null,
            "left": null,
            "margin": null,
            "max_height": null,
            "max_width": null,
            "min_height": null,
            "min_width": null,
            "object_fit": null,
            "object_position": null,
            "order": null,
            "overflow": null,
            "overflow_x": null,
            "overflow_y": null,
            "padding": null,
            "right": null,
            "top": null,
            "visibility": null,
            "width": null
          }
        },
        "fa61ddddd00343c99c66ce4f6e5aaca7": {
          "model_module": "@jupyter-widgets/controls",
          "model_name": "ToggleButtonModel",
          "model_module_version": "1.5.0",
          "state": {
            "_dom_classes": [],
            "_model_module": "@jupyter-widgets/controls",
            "_model_module_version": "1.5.0",
            "_model_name": "ToggleButtonModel",
            "_view_count": null,
            "_view_module": "@jupyter-widgets/controls",
            "_view_module_version": "1.5.0",
            "_view_name": "ToggleButtonView",
            "button_style": "",
            "description": "",
            "description_tooltip": null,
            "disabled": false,
            "icon": "wrench",
            "layout": "IPY_MODEL_a45efb26bc2b4055be4dececd58c8228",
            "style": "IPY_MODEL_b35c67a052a1454697255b249c53e797",
            "tooltip": "Toolbar",
            "value": false
          }
        },
        "0bd11cbb08774194920e18915fe67678": {
          "model_module": "@jupyter-widgets/base",
          "model_name": "LayoutModel",
          "model_module_version": "1.2.0",
          "state": {
            "_model_module": "@jupyter-widgets/base",
            "_model_module_version": "1.2.0",
            "_model_name": "LayoutModel",
            "_view_count": null,
            "_view_module": "@jupyter-widgets/base",
            "_view_module_version": "1.2.0",
            "_view_name": "LayoutView",
            "align_content": null,
            "align_items": null,
            "align_self": null,
            "border": null,
            "bottom": null,
            "display": null,
            "flex": null,
            "flex_flow": null,
            "grid_area": null,
            "grid_auto_columns": null,
            "grid_auto_flow": null,
            "grid_auto_rows": null,
            "grid_column": null,
            "grid_gap": null,
            "grid_row": null,
            "grid_template_areas": null,
            "grid_template_columns": null,
            "grid_template_rows": null,
            "height": null,
            "justify_content": null,
            "justify_items": null,
            "left": null,
            "margin": null,
            "max_height": null,
            "max_width": null,
            "min_height": null,
            "min_width": null,
            "object_fit": null,
            "object_position": null,
            "order": null,
            "overflow": null,
            "overflow_x": null,
            "overflow_y": null,
            "padding": null,
            "right": null,
            "top": null,
            "visibility": null,
            "width": null
          }
        },
        "06058ef4f13a4c7baf0a4d9a64d24008": {
          "model_module": "@jupyter-widgets/base",
          "model_name": "LayoutModel",
          "model_module_version": "1.2.0",
          "state": {
            "_model_module": "@jupyter-widgets/base",
            "_model_module_version": "1.2.0",
            "_model_name": "LayoutModel",
            "_view_count": null,
            "_view_module": "@jupyter-widgets/base",
            "_view_module_version": "1.2.0",
            "_view_name": "LayoutView",
            "align_content": null,
            "align_items": null,
            "align_self": null,
            "border": null,
            "bottom": null,
            "display": null,
            "flex": null,
            "flex_flow": null,
            "grid_area": null,
            "grid_auto_columns": null,
            "grid_auto_flow": null,
            "grid_auto_rows": null,
            "grid_column": null,
            "grid_gap": null,
            "grid_row": null,
            "grid_template_areas": null,
            "grid_template_columns": null,
            "grid_template_rows": null,
            "height": "28px",
            "justify_content": null,
            "justify_items": null,
            "left": null,
            "margin": null,
            "max_height": null,
            "max_width": null,
            "min_height": null,
            "min_width": null,
            "object_fit": null,
            "object_position": null,
            "order": null,
            "overflow": null,
            "overflow_x": null,
            "overflow_y": null,
            "padding": "0px 0px 0px 4px",
            "right": null,
            "top": null,
            "visibility": null,
            "width": "28px"
          }
        },
        "2c9206c17a1b42a58e70c3692349354e": {
          "model_module": "@jupyter-widgets/controls",
          "model_name": "DescriptionStyleModel",
          "model_module_version": "1.5.0",
          "state": {
            "_model_module": "@jupyter-widgets/controls",
            "_model_module_version": "1.5.0",
            "_model_name": "DescriptionStyleModel",
            "_view_count": null,
            "_view_module": "@jupyter-widgets/base",
            "_view_module_version": "1.2.0",
            "_view_name": "StyleView",
            "description_width": ""
          }
        },
        "a45efb26bc2b4055be4dececd58c8228": {
          "model_module": "@jupyter-widgets/base",
          "model_name": "LayoutModel",
          "model_module_version": "1.2.0",
          "state": {
            "_model_module": "@jupyter-widgets/base",
            "_model_module_version": "1.2.0",
            "_model_name": "LayoutModel",
            "_view_count": null,
            "_view_module": "@jupyter-widgets/base",
            "_view_module_version": "1.2.0",
            "_view_name": "LayoutView",
            "align_content": null,
            "align_items": null,
            "align_self": null,
            "border": null,
            "bottom": null,
            "display": null,
            "flex": null,
            "flex_flow": null,
            "grid_area": null,
            "grid_auto_columns": null,
            "grid_auto_flow": null,
            "grid_auto_rows": null,
            "grid_column": null,
            "grid_gap": null,
            "grid_row": null,
            "grid_template_areas": null,
            "grid_template_columns": null,
            "grid_template_rows": null,
            "height": "28px",
            "justify_content": null,
            "justify_items": null,
            "left": null,
            "margin": null,
            "max_height": null,
            "max_width": null,
            "min_height": null,
            "min_width": null,
            "object_fit": null,
            "object_position": null,
            "order": null,
            "overflow": null,
            "overflow_x": null,
            "overflow_y": null,
            "padding": "0px 0px 0px 4px",
            "right": null,
            "top": null,
            "visibility": null,
            "width": "28px"
          }
        },
        "b35c67a052a1454697255b249c53e797": {
          "model_module": "@jupyter-widgets/controls",
          "model_name": "DescriptionStyleModel",
          "model_module_version": "1.5.0",
          "state": {
            "_model_module": "@jupyter-widgets/controls",
            "_model_module_version": "1.5.0",
            "_model_name": "DescriptionStyleModel",
            "_view_count": null,
            "_view_module": "@jupyter-widgets/base",
            "_view_module_version": "1.2.0",
            "_view_name": "StyleView",
            "description_width": ""
          }
        },
        "58bd38cb449f4120b01888d546f5023d": {
          "model_module": "jupyter-leaflet",
          "model_name": "LeafletMapModel",
          "model_module_version": "^0.18",
          "state": {
            "_dom_classes": [],
            "_model_module": "jupyter-leaflet",
            "_model_module_version": "^0.18",
            "_model_name": "LeafletMapModel",
            "_view_count": null,
            "_view_module": "jupyter-leaflet",
            "_view_module_version": "^0.18",
            "_view_name": "LeafletMapView",
            "bottom": 51473,
            "bounce_at_zoom_limits": true,
            "box_zoom": true,
            "center": [
              36.436751611390264,
              125.41168212890626
            ],
            "close_popup_on_click": true,
            "controls": [
              "IPY_MODEL_d7d8b0e09fb34d8d9ff8ca6e8de8edd8",
              "IPY_MODEL_40e31ddb809a4fafb1623d272743a2a9",
              "IPY_MODEL_a705af7e24d544339770e07c60ae5e1e",
              "IPY_MODEL_8cdfc98bcbe24cabaa99ae8a3e427880",
              "IPY_MODEL_d0f7b90953ca48c69b7631b8a9dca410",
              "IPY_MODEL_c3b6dd79184642f9ba689d433b55b0c0",
              "IPY_MODEL_9cef18e74b5a45eba732e68ddad35202",
              "IPY_MODEL_548e7c59105e49eda6cd6e9ae5e3b18e"
            ],
            "crs": {
              "name": "EPSG3857",
              "custom": false
            },
            "default_style": "IPY_MODEL_792a54c8e83a40ab87525012a6e5d58d",
            "double_click_zoom": true,
            "dragging": true,
            "dragging_style": "IPY_MODEL_c213e57351614762bffc2932f063a513",
            "east": 126.51031494140626,
            "fullscreen": false,
            "inertia": true,
            "inertia_deceleration": 3000,
            "inertia_max_speed": 1500,
            "interpolation": "bilinear",
            "keyboard": true,
            "keyboard_pan_offset": 80,
            "keyboard_zoom_offset": 1,
            "layers": [
              "IPY_MODEL_1cbb778443f3479fb17edcb82301a8d2",
              "IPY_MODEL_c59dfa1bcdf74010b2ee343bd2b74ed2",
              "IPY_MODEL_027fb5f35c8141eabfa9238af5a34260",
              "IPY_MODEL_e09d352dc4b5454899ff8986c7f837b7"
            ],
            "layout": "IPY_MODEL_59cae9d20f4f472ca6433dd9352c307b",
            "left": 110797,
            "max_zoom": 24,
            "min_zoom": null,
            "modisdate": "2024-07-01",
            "north": 36.87742358748459,
            "options": [
              "bounce_at_zoom_limits",
              "box_zoom",
              "center",
              "close_popup_on_click",
              "double_click_zoom",
              "dragging",
              "fullscreen",
              "inertia",
              "inertia_deceleration",
              "inertia_max_speed",
              "interpolation",
              "keyboard",
              "keyboard_pan_offset",
              "keyboard_zoom_offset",
              "max_zoom",
              "min_zoom",
              "prefer_canvas",
              "scroll_wheel_zoom",
              "tap",
              "tap_tolerance",
              "touch_zoom",
              "world_copy_jump",
              "zoom",
              "zoom_animation_threshold",
              "zoom_delta",
              "zoom_snap"
            ],
            "panes": {},
            "prefer_canvas": false,
            "right": 111597,
            "scroll_wheel_zoom": true,
            "south": 35.99356320483023,
            "style": "IPY_MODEL_792a54c8e83a40ab87525012a6e5d58d",
            "tap": true,
            "tap_tolerance": 15,
            "top": 51073,
            "touch_zoom": true,
            "west": 124.31304931640626,
            "window_url": "https://iafdptzweir-496ff2e9c6d22116-0-colab.googleusercontent.com/outputframe.html?vrz=colab_20240627-060121_RC00_647236509",
            "world_copy_jump": false,
            "zoom": 9,
            "zoom_animation_threshold": 4,
            "zoom_delta": 1,
            "zoom_snap": 1
          }
        },
        "d7d8b0e09fb34d8d9ff8ca6e8de8edd8": {
          "model_module": "jupyter-leaflet",
          "model_name": "LeafletWidgetControlModel",
          "model_module_version": "^0.18",
          "state": {
            "_model_module": "jupyter-leaflet",
            "_model_module_version": "^0.18",
            "_model_name": "LeafletWidgetControlModel",
            "_view_count": null,
            "_view_module": "jupyter-leaflet",
            "_view_module_version": "^0.18",
            "_view_name": "LeafletWidgetControlView",
            "max_height": null,
            "max_width": null,
            "min_height": null,
            "min_width": null,
            "options": [
              "position",
              "transparent_bg"
            ],
            "position": "topleft",
            "transparent_bg": false,
            "widget": "IPY_MODEL_601df6121736458aa5ff2d4770823094"
          }
        },
        "40e31ddb809a4fafb1623d272743a2a9": {
          "model_module": "jupyter-leaflet",
          "model_name": "LeafletZoomControlModel",
          "model_module_version": "^0.18",
          "state": {
            "_model_module": "jupyter-leaflet",
            "_model_module_version": "^0.18",
            "_model_name": "LeafletZoomControlModel",
            "_view_count": null,
            "_view_module": "jupyter-leaflet",
            "_view_module_version": "^0.18",
            "_view_name": "LeafletZoomControlView",
            "options": [
              "position",
              "zoom_in_text",
              "zoom_in_title",
              "zoom_out_text",
              "zoom_out_title"
            ],
            "position": "topleft",
            "zoom_in_text": "+",
            "zoom_in_title": "Zoom in",
            "zoom_out_text": "-",
            "zoom_out_title": "Zoom out"
          }
        },
        "a705af7e24d544339770e07c60ae5e1e": {
          "model_module": "jupyter-leaflet",
          "model_name": "LeafletFullScreenControlModel",
          "model_module_version": "^0.18",
          "state": {
            "_model_module": "jupyter-leaflet",
            "_model_module_version": "^0.18",
            "_model_name": "LeafletFullScreenControlModel",
            "_view_count": null,
            "_view_module": "jupyter-leaflet",
            "_view_module_version": "^0.18",
            "_view_name": "LeafletFullScreenControlView",
            "options": [
              "position"
            ],
            "position": "topleft"
          }
        },
        "8cdfc98bcbe24cabaa99ae8a3e427880": {
          "model_module": "jupyter-leaflet",
          "model_name": "LeafletDrawControlModel",
          "model_module_version": "^0.18",
          "state": {
            "_model_module": "jupyter-leaflet",
            "_model_module_version": "^0.18",
            "_model_name": "LeafletDrawControlModel",
            "_view_count": null,
            "_view_module": "jupyter-leaflet",
            "_view_module_version": "^0.18",
            "_view_name": "LeafletDrawControlView",
            "circle": {},
            "circlemarker": {},
            "data": [],
            "edit": true,
            "marker": {
              "shapeOptions": {
                "color": "#3388ff"
              }
            },
            "options": [
              "position"
            ],
            "polygon": {
              "shapeOptions": {}
            },
            "polyline": {
              "shapeOptions": {}
            },
            "position": "topleft",
            "rectangle": {
              "shapeOptions": {
                "color": "#3388ff"
              }
            },
            "remove": true
          }
        },
        "d0f7b90953ca48c69b7631b8a9dca410": {
          "model_module": "jupyter-leaflet",
          "model_name": "LeafletScaleControlModel",
          "model_module_version": "^0.18",
          "state": {
            "_model_module": "jupyter-leaflet",
            "_model_module_version": "^0.18",
            "_model_name": "LeafletScaleControlModel",
            "_view_count": null,
            "_view_module": "jupyter-leaflet",
            "_view_module_version": "^0.18",
            "_view_name": "LeafletScaleControlView",
            "imperial": true,
            "max_width": 100,
            "metric": true,
            "options": [
              "imperial",
              "max_width",
              "metric",
              "position",
              "update_when_idle"
            ],
            "position": "bottomleft",
            "update_when_idle": false
          }
        },
        "c3b6dd79184642f9ba689d433b55b0c0": {
          "model_module": "jupyter-leaflet",
          "model_name": "LeafletMeasureControlModel",
          "model_module_version": "^0.18",
          "state": {
            "_custom_units": {},
            "_model_module": "jupyter-leaflet",
            "_model_module_version": "^0.18",
            "_model_name": "LeafletMeasureControlModel",
            "_view_count": null,
            "_view_module": "jupyter-leaflet",
            "_view_module_version": "^0.18",
            "_view_name": "LeafletMeasureControlView",
            "active_color": "orange",
            "capture_z_index": 10000,
            "completed_color": "#C8F2BE",
            "options": [
              "active_color",
              "capture_z_index",
              "completed_color",
              "popup_options",
              "position",
              "primary_area_unit",
              "primary_length_unit",
              "secondary_area_unit",
              "secondary_length_unit"
            ],
            "popup_options": {
              "className": "leaflet-measure-resultpopup",
              "autoPanPadding": [
                10,
                10
              ]
            },
            "position": "bottomleft",
            "primary_area_unit": "acres",
            "primary_length_unit": "kilometers",
            "secondary_area_unit": null,
            "secondary_length_unit": null
          }
        },
        "9cef18e74b5a45eba732e68ddad35202": {
          "model_module": "jupyter-leaflet",
          "model_name": "LeafletWidgetControlModel",
          "model_module_version": "^0.18",
          "state": {
            "_model_module": "jupyter-leaflet",
            "_model_module_version": "^0.18",
            "_model_name": "LeafletWidgetControlModel",
            "_view_count": null,
            "_view_module": "jupyter-leaflet",
            "_view_module_version": "^0.18",
            "_view_name": "LeafletWidgetControlView",
            "max_height": null,
            "max_width": null,
            "min_height": null,
            "min_width": null,
            "options": [
              "position",
              "transparent_bg"
            ],
            "position": "topright",
            "transparent_bg": false,
            "widget": "IPY_MODEL_f34c6de75fa04b7d971fd8aa86d7e260"
          }
        },
        "548e7c59105e49eda6cd6e9ae5e3b18e": {
          "model_module": "jupyter-leaflet",
          "model_name": "LeafletAttributionControlModel",
          "model_module_version": "^0.18",
          "state": {
            "_model_module": "jupyter-leaflet",
            "_model_module_version": "^0.18",
            "_model_name": "LeafletAttributionControlModel",
            "_view_count": null,
            "_view_module": "jupyter-leaflet",
            "_view_module_version": "^0.18",
            "_view_name": "LeafletAttributionControlView",
            "options": [
              "position",
              "prefix"
            ],
            "position": "bottomright",
            "prefix": "ipyleaflet"
          }
        },
        "792a54c8e83a40ab87525012a6e5d58d": {
          "model_module": "jupyter-leaflet",
          "model_name": "LeafletMapStyleModel",
          "model_module_version": "^0.18",
          "state": {
            "_model_module": "jupyter-leaflet",
            "_model_module_version": "^0.18",
            "_model_name": "LeafletMapStyleModel",
            "_view_count": null,
            "_view_module": "@jupyter-widgets/base",
            "_view_module_version": "1.2.0",
            "_view_name": "StyleView",
            "cursor": "grab"
          }
        },
        "c213e57351614762bffc2932f063a513": {
          "model_module": "jupyter-leaflet",
          "model_name": "LeafletMapStyleModel",
          "model_module_version": "^0.18",
          "state": {
            "_model_module": "jupyter-leaflet",
            "_model_module_version": "^0.18",
            "_model_name": "LeafletMapStyleModel",
            "_view_count": null,
            "_view_module": "@jupyter-widgets/base",
            "_view_module_version": "1.2.0",
            "_view_name": "StyleView",
            "cursor": "move"
          }
        },
        "1cbb778443f3479fb17edcb82301a8d2": {
          "model_module": "jupyter-leaflet",
          "model_name": "LeafletTileLayerModel",
          "model_module_version": "^0.18",
          "state": {
            "_model_module": "jupyter-leaflet",
            "_model_module_version": "^0.18",
            "_model_name": "LeafletTileLayerModel",
            "_view_count": null,
            "_view_module": "jupyter-leaflet",
            "_view_module_version": "^0.18",
            "_view_name": "LeafletTileLayerView",
            "attribution": "&copy; <a href=\"https://www.openstreetmap.org/copyright\">OpenStreetMap</a> contributors",
            "base": true,
            "bottom": true,
            "bounds": null,
            "detect_retina": false,
            "loading": false,
            "max_native_zoom": null,
            "max_zoom": 19,
            "min_native_zoom": null,
            "min_zoom": 1,
            "name": "OpenStreetMap.Mapnik",
            "no_wrap": false,
            "opacity": 1,
            "options": [
              "attribution",
              "bounds",
              "detect_retina",
              "max_native_zoom",
              "max_zoom",
              "min_native_zoom",
              "min_zoom",
              "no_wrap",
              "tile_size",
              "tms",
              "zoom_offset"
            ],
            "pane": "",
            "popup": null,
            "popup_max_height": null,
            "popup_max_width": 300,
            "popup_min_width": 50,
            "show_loading": false,
            "subitems": [],
            "tile_size": 256,
            "tms": false,
            "url": "https://tile.openstreetmap.org/{z}/{x}/{y}.png",
            "visible": true,
            "zoom_offset": 0
          }
        },
        "367d043d1b684923b25a42c9bbd5a2f3": {
          "model_module": "jupyter-leaflet",
          "model_name": "LeafletTileLayerModel",
          "model_module_version": "^0.18",
          "state": {
            "_model_module": "jupyter-leaflet",
            "_model_module_version": "^0.18",
            "_model_name": "LeafletTileLayerModel",
            "_view_count": null,
            "_view_module": "jupyter-leaflet",
            "_view_module_version": "^0.18",
            "_view_name": "LeafletTileLayerView",
            "attribution": "Google Earth Engine",
            "base": false,
            "bottom": true,
            "bounds": null,
            "detect_retina": false,
            "loading": false,
            "max_native_zoom": null,
            "max_zoom": 24,
            "min_native_zoom": null,
            "min_zoom": 0,
            "name": "Random Raster",
            "no_wrap": false,
            "opacity": 1,
            "options": [
              "attribution",
              "bounds",
              "detect_retina",
              "max_native_zoom",
              "max_zoom",
              "min_native_zoom",
              "min_zoom",
              "no_wrap",
              "tile_size",
              "tms",
              "zoom_offset"
            ],
            "pane": "",
            "popup": null,
            "popup_max_height": null,
            "popup_max_width": 300,
            "popup_min_width": 50,
            "show_loading": false,
            "subitems": [],
            "tile_size": 256,
            "tms": false,
            "url": "https://earthengine.googleapis.com/v1/projects/ee-jjangmo91/maps/e1135b55729176425df1a12668f27611-0e49fe31e3e19bf4e88072ca05f28c73/tiles/{z}/{x}/{y}",
            "visible": true,
            "zoom_offset": 0
          }
        },
        "c59dfa1bcdf74010b2ee343bd2b74ed2": {
          "model_module": "jupyter-leaflet",
          "model_name": "LeafletTileLayerModel",
          "model_module_version": "^0.18",
          "state": {
            "_model_module": "jupyter-leaflet",
            "_model_module_version": "^0.18",
            "_model_name": "LeafletTileLayerModel",
            "_view_count": null,
            "_view_module": "jupyter-leaflet",
            "_view_module_version": "^0.18",
            "_view_name": "LeafletTileLayerView",
            "attribution": "Google Earth Engine",
            "base": false,
            "bottom": true,
            "bounds": null,
            "detect_retina": false,
            "loading": false,
            "max_native_zoom": null,
            "max_zoom": 24,
            "min_native_zoom": null,
            "min_zoom": 0,
            "name": "Original data",
            "no_wrap": false,
            "opacity": 1,
            "options": [
              "attribution",
              "bounds",
              "detect_retina",
              "max_native_zoom",
              "max_zoom",
              "min_native_zoom",
              "min_zoom",
              "no_wrap",
              "tile_size",
              "tms",
              "zoom_offset"
            ],
            "pane": "",
            "popup": null,
            "popup_max_height": null,
            "popup_max_width": 300,
            "popup_min_width": 50,
            "show_loading": false,
            "subitems": [],
            "tile_size": 256,
            "tms": false,
            "url": "https://earthengine.googleapis.com/v1/projects/ee-jjangmo91/maps/bc3ea885d9eefacd22a787a442bd41bc-87b74bc9547121c47fff9d25e25a340d/tiles/{z}/{x}/{y}",
            "visible": true,
            "zoom_offset": 0
          }
        },
        "027fb5f35c8141eabfa9238af5a34260": {
          "model_module": "jupyter-leaflet",
          "model_name": "LeafletTileLayerModel",
          "model_module_version": "^0.18",
          "state": {
            "_model_module": "jupyter-leaflet",
            "_model_module_version": "^0.18",
            "_model_name": "LeafletTileLayerModel",
            "_view_count": null,
            "_view_module": "jupyter-leaflet",
            "_view_module_version": "^0.18",
            "_view_name": "LeafletTileLayerView",
            "attribution": "Google Earth Engine",
            "base": false,
            "bottom": true,
            "bounds": null,
            "detect_retina": false,
            "loading": false,
            "max_native_zoom": null,
            "max_zoom": 24,
            "min_native_zoom": null,
            "min_zoom": 0,
            "name": "Final data",
            "no_wrap": false,
            "opacity": 1,
            "options": [
              "attribution",
              "bounds",
              "detect_retina",
              "max_native_zoom",
              "max_zoom",
              "min_native_zoom",
              "min_zoom",
              "no_wrap",
              "tile_size",
              "tms",
              "zoom_offset"
            ],
            "pane": "",
            "popup": null,
            "popup_max_height": null,
            "popup_max_width": 300,
            "popup_min_width": 50,
            "show_loading": false,
            "subitems": [],
            "tile_size": 256,
            "tms": false,
            "url": "https://earthengine.googleapis.com/v1/projects/ee-jjangmo91/maps/35e63d6ebfcf0b26c9d895ac55400795-c961b7ea08aa5a7a955c4babf1455301/tiles/{z}/{x}/{y}",
            "visible": true,
            "zoom_offset": 0
          }
        },
        "59cae9d20f4f472ca6433dd9352c307b": {
          "model_module": "@jupyter-widgets/base",
          "model_name": "LayoutModel",
          "model_module_version": "1.2.0",
          "state": {
            "_model_module": "@jupyter-widgets/base",
            "_model_module_version": "1.2.0",
            "_model_name": "LayoutModel",
            "_view_count": null,
            "_view_module": "@jupyter-widgets/base",
            "_view_module_version": "1.2.0",
            "_view_name": "LayoutView",
            "align_content": null,
            "align_items": null,
            "align_self": null,
            "border": null,
            "bottom": null,
            "display": null,
            "flex": null,
            "flex_flow": null,
            "grid_area": null,
            "grid_auto_columns": null,
            "grid_auto_flow": null,
            "grid_auto_rows": null,
            "grid_column": null,
            "grid_gap": null,
            "grid_row": null,
            "grid_template_areas": null,
            "grid_template_columns": null,
            "grid_template_rows": null,
            "height": "400px",
            "justify_content": null,
            "justify_items": null,
            "left": null,
            "margin": null,
            "max_height": null,
            "max_width": null,
            "min_height": null,
            "min_width": null,
            "object_fit": null,
            "object_position": null,
            "order": null,
            "overflow": null,
            "overflow_x": null,
            "overflow_y": null,
            "padding": null,
            "right": null,
            "top": null,
            "visibility": null,
            "width": "800px"
          }
        },
        "b4808f4aba184d3bbb62968e3e444e63": {
          "model_module": "jupyter-leaflet",
          "model_name": "LeafletMapStyleModel",
          "model_module_version": "^0.18",
          "state": {
            "_model_module": "jupyter-leaflet",
            "_model_module_version": "^0.18",
            "_model_name": "LeafletMapStyleModel",
            "_view_count": null,
            "_view_module": "@jupyter-widgets/base",
            "_view_module_version": "1.2.0",
            "_view_name": "StyleView",
            "cursor": "grab"
          }
        },
        "601df6121736458aa5ff2d4770823094": {
          "model_module": "@jupyter-widgets/controls",
          "model_name": "HBoxModel",
          "model_module_version": "1.5.0",
          "state": {
            "_dom_classes": [
              "geemap-colab"
            ],
            "_model_module": "@jupyter-widgets/controls",
            "_model_module_version": "1.5.0",
            "_model_name": "HBoxModel",
            "_view_count": null,
            "_view_module": "@jupyter-widgets/controls",
            "_view_module_version": "1.5.0",
            "_view_name": "HBoxView",
            "box_style": "",
            "children": [
              "IPY_MODEL_5d104d39fa2e41c2ac13aa619c0ee6d6"
            ],
            "layout": "IPY_MODEL_0badd45b4d2f409fa8fb9a4fea49e882"
          }
        },
        "f34c6de75fa04b7d971fd8aa86d7e260": {
          "model_module": "@jupyter-widgets/controls",
          "model_name": "VBoxModel",
          "model_module_version": "1.5.0",
          "state": {
            "_dom_classes": [
              "geemap-colab"
            ],
            "_model_module": "@jupyter-widgets/controls",
            "_model_module_version": "1.5.0",
            "_model_name": "VBoxModel",
            "_view_count": null,
            "_view_module": "@jupyter-widgets/controls",
            "_view_module_version": "1.5.0",
            "_view_name": "VBoxView",
            "box_style": "",
            "children": [
              "IPY_MODEL_663fe455227344e088b31f6b29f6e81b"
            ],
            "layout": "IPY_MODEL_d9ea2e8159544976aa3c937698585955"
          }
        },
        "5d104d39fa2e41c2ac13aa619c0ee6d6": {
          "model_module": "@jupyter-widgets/controls",
          "model_name": "ToggleButtonModel",
          "model_module_version": "1.5.0",
          "state": {
            "_dom_classes": [],
            "_model_module": "@jupyter-widgets/controls",
            "_model_module_version": "1.5.0",
            "_model_name": "ToggleButtonModel",
            "_view_count": null,
            "_view_module": "@jupyter-widgets/controls",
            "_view_module_version": "1.5.0",
            "_view_name": "ToggleButtonView",
            "button_style": "",
            "description": "",
            "description_tooltip": null,
            "disabled": false,
            "icon": "globe",
            "layout": "IPY_MODEL_2d5a030c4b6a40df830b40052bf3733b",
            "style": "IPY_MODEL_73d881389c3042e9ba45a1682027d3b0",
            "tooltip": "Search location/data",
            "value": false
          }
        },
        "0badd45b4d2f409fa8fb9a4fea49e882": {
          "model_module": "@jupyter-widgets/base",
          "model_name": "LayoutModel",
          "model_module_version": "1.2.0",
          "state": {
            "_model_module": "@jupyter-widgets/base",
            "_model_module_version": "1.2.0",
            "_model_name": "LayoutModel",
            "_view_count": null,
            "_view_module": "@jupyter-widgets/base",
            "_view_module_version": "1.2.0",
            "_view_name": "LayoutView",
            "align_content": null,
            "align_items": null,
            "align_self": null,
            "border": null,
            "bottom": null,
            "display": null,
            "flex": null,
            "flex_flow": null,
            "grid_area": null,
            "grid_auto_columns": null,
            "grid_auto_flow": null,
            "grid_auto_rows": null,
            "grid_column": null,
            "grid_gap": null,
            "grid_row": null,
            "grid_template_areas": null,
            "grid_template_columns": null,
            "grid_template_rows": null,
            "height": null,
            "justify_content": null,
            "justify_items": null,
            "left": null,
            "margin": null,
            "max_height": null,
            "max_width": null,
            "min_height": null,
            "min_width": null,
            "object_fit": null,
            "object_position": null,
            "order": null,
            "overflow": null,
            "overflow_x": null,
            "overflow_y": null,
            "padding": null,
            "right": null,
            "top": null,
            "visibility": null,
            "width": null
          }
        },
        "663fe455227344e088b31f6b29f6e81b": {
          "model_module": "@jupyter-widgets/controls",
          "model_name": "ToggleButtonModel",
          "model_module_version": "1.5.0",
          "state": {
            "_dom_classes": [],
            "_model_module": "@jupyter-widgets/controls",
            "_model_module_version": "1.5.0",
            "_model_name": "ToggleButtonModel",
            "_view_count": null,
            "_view_module": "@jupyter-widgets/controls",
            "_view_module_version": "1.5.0",
            "_view_name": "ToggleButtonView",
            "button_style": "",
            "description": "",
            "description_tooltip": null,
            "disabled": false,
            "icon": "wrench",
            "layout": "IPY_MODEL_3be1302bc27242c4bcaf60c561780d29",
            "style": "IPY_MODEL_f4c25db7aaad4781bf431c8fc43cb3bf",
            "tooltip": "Toolbar",
            "value": false
          }
        },
        "d9ea2e8159544976aa3c937698585955": {
          "model_module": "@jupyter-widgets/base",
          "model_name": "LayoutModel",
          "model_module_version": "1.2.0",
          "state": {
            "_model_module": "@jupyter-widgets/base",
            "_model_module_version": "1.2.0",
            "_model_name": "LayoutModel",
            "_view_count": null,
            "_view_module": "@jupyter-widgets/base",
            "_view_module_version": "1.2.0",
            "_view_name": "LayoutView",
            "align_content": null,
            "align_items": null,
            "align_self": null,
            "border": null,
            "bottom": null,
            "display": null,
            "flex": null,
            "flex_flow": null,
            "grid_area": null,
            "grid_auto_columns": null,
            "grid_auto_flow": null,
            "grid_auto_rows": null,
            "grid_column": null,
            "grid_gap": null,
            "grid_row": null,
            "grid_template_areas": null,
            "grid_template_columns": null,
            "grid_template_rows": null,
            "height": null,
            "justify_content": null,
            "justify_items": null,
            "left": null,
            "margin": null,
            "max_height": null,
            "max_width": null,
            "min_height": null,
            "min_width": null,
            "object_fit": null,
            "object_position": null,
            "order": null,
            "overflow": null,
            "overflow_x": null,
            "overflow_y": null,
            "padding": null,
            "right": null,
            "top": null,
            "visibility": null,
            "width": null
          }
        },
        "2d5a030c4b6a40df830b40052bf3733b": {
          "model_module": "@jupyter-widgets/base",
          "model_name": "LayoutModel",
          "model_module_version": "1.2.0",
          "state": {
            "_model_module": "@jupyter-widgets/base",
            "_model_module_version": "1.2.0",
            "_model_name": "LayoutModel",
            "_view_count": null,
            "_view_module": "@jupyter-widgets/base",
            "_view_module_version": "1.2.0",
            "_view_name": "LayoutView",
            "align_content": null,
            "align_items": null,
            "align_self": null,
            "border": null,
            "bottom": null,
            "display": null,
            "flex": null,
            "flex_flow": null,
            "grid_area": null,
            "grid_auto_columns": null,
            "grid_auto_flow": null,
            "grid_auto_rows": null,
            "grid_column": null,
            "grid_gap": null,
            "grid_row": null,
            "grid_template_areas": null,
            "grid_template_columns": null,
            "grid_template_rows": null,
            "height": "28px",
            "justify_content": null,
            "justify_items": null,
            "left": null,
            "margin": null,
            "max_height": null,
            "max_width": null,
            "min_height": null,
            "min_width": null,
            "object_fit": null,
            "object_position": null,
            "order": null,
            "overflow": null,
            "overflow_x": null,
            "overflow_y": null,
            "padding": "0px 0px 0px 4px",
            "right": null,
            "top": null,
            "visibility": null,
            "width": "28px"
          }
        },
        "73d881389c3042e9ba45a1682027d3b0": {
          "model_module": "@jupyter-widgets/controls",
          "model_name": "DescriptionStyleModel",
          "model_module_version": "1.5.0",
          "state": {
            "_model_module": "@jupyter-widgets/controls",
            "_model_module_version": "1.5.0",
            "_model_name": "DescriptionStyleModel",
            "_view_count": null,
            "_view_module": "@jupyter-widgets/base",
            "_view_module_version": "1.2.0",
            "_view_name": "StyleView",
            "description_width": ""
          }
        },
        "3be1302bc27242c4bcaf60c561780d29": {
          "model_module": "@jupyter-widgets/base",
          "model_name": "LayoutModel",
          "model_module_version": "1.2.0",
          "state": {
            "_model_module": "@jupyter-widgets/base",
            "_model_module_version": "1.2.0",
            "_model_name": "LayoutModel",
            "_view_count": null,
            "_view_module": "@jupyter-widgets/base",
            "_view_module_version": "1.2.0",
            "_view_name": "LayoutView",
            "align_content": null,
            "align_items": null,
            "align_self": null,
            "border": null,
            "bottom": null,
            "display": null,
            "flex": null,
            "flex_flow": null,
            "grid_area": null,
            "grid_auto_columns": null,
            "grid_auto_flow": null,
            "grid_auto_rows": null,
            "grid_column": null,
            "grid_gap": null,
            "grid_row": null,
            "grid_template_areas": null,
            "grid_template_columns": null,
            "grid_template_rows": null,
            "height": "28px",
            "justify_content": null,
            "justify_items": null,
            "left": null,
            "margin": null,
            "max_height": null,
            "max_width": null,
            "min_height": null,
            "min_width": null,
            "object_fit": null,
            "object_position": null,
            "order": null,
            "overflow": null,
            "overflow_x": null,
            "overflow_y": null,
            "padding": "0px 0px 0px 4px",
            "right": null,
            "top": null,
            "visibility": null,
            "width": "28px"
          }
        },
        "f4c25db7aaad4781bf431c8fc43cb3bf": {
          "model_module": "@jupyter-widgets/controls",
          "model_name": "DescriptionStyleModel",
          "model_module_version": "1.5.0",
          "state": {
            "_model_module": "@jupyter-widgets/controls",
            "_model_module_version": "1.5.0",
            "_model_name": "DescriptionStyleModel",
            "_view_count": null,
            "_view_module": "@jupyter-widgets/base",
            "_view_module_version": "1.2.0",
            "_view_name": "StyleView",
            "description_width": ""
          }
        },
        "e09d352dc4b5454899ff8986c7f837b7": {
          "model_module": "jupyter-leaflet",
          "model_name": "LeafletTileLayerModel",
          "model_module_version": "^0.18",
          "state": {
            "_model_module": "jupyter-leaflet",
            "_model_module_version": "^0.18",
            "_model_name": "LeafletTileLayerModel",
            "_view_count": null,
            "_view_module": "jupyter-leaflet",
            "_view_module_version": "^0.18",
            "_view_name": "LeafletTileLayerView",
            "attribution": "Google Earth Engine",
            "base": false,
            "bottom": true,
            "bounds": null,
            "detect_retina": false,
            "loading": false,
            "max_native_zoom": null,
            "max_zoom": 24,
            "min_native_zoom": null,
            "min_zoom": 0,
            "name": "AOI",
            "no_wrap": false,
            "opacity": 1,
            "options": [
              "attribution",
              "bounds",
              "detect_retina",
              "max_native_zoom",
              "max_zoom",
              "min_native_zoom",
              "min_zoom",
              "no_wrap",
              "tile_size",
              "tms",
              "zoom_offset"
            ],
            "pane": "",
            "popup": null,
            "popup_max_height": null,
            "popup_max_width": 300,
            "popup_min_width": 50,
            "show_loading": false,
            "subitems": [],
            "tile_size": 256,
            "tms": false,
            "url": "https://earthengine.googleapis.com/v1/projects/ee-jjangmo91/maps/d62d7bdb52287a4ee64fbc540ae5191d-9b80f92bc6f3995686003a7e1ce87a63/tiles/{z}/{x}/{y}",
            "visible": true,
            "zoom_offset": 0
          }
        },
        "c35c123bae12436ba13c53b5a2332bff": {
          "model_module": "jupyter-leaflet",
          "model_name": "LeafletMapModel",
          "model_module_version": "^0.18",
          "state": {
            "_dom_classes": [],
            "_model_module": "jupyter-leaflet",
            "_model_module_version": "^0.18",
            "_model_name": "LeafletMapModel",
            "_view_count": null,
            "_view_module": "jupyter-leaflet",
            "_view_module_version": "^0.18",
            "_view_name": "LeafletMapView",
            "bottom": 25815,
            "bounce_at_zoom_limits": true,
            "box_zoom": true,
            "center": [
              36.52971161769407,
              127.85645081415713
            ],
            "close_popup_on_click": true,
            "controls": [
              "IPY_MODEL_51cea21f31be40b9b631b3faf54b74ca",
              "IPY_MODEL_9ddf3039333f45f0931c4c99e71c6d41",
              "IPY_MODEL_a985a0bf8124450d9fc301dc886403c2",
              "IPY_MODEL_19911dfdfd3947b9b979c51fff088d42",
              "IPY_MODEL_4007416805a64eb88f28e23c35b08f99",
              "IPY_MODEL_a65191bf2c8542e19740cb430c664622",
              "IPY_MODEL_c9f7c824bea34ec7aa36575dc5b4894c",
              "IPY_MODEL_234b0d84ed1f4494ae60e3acf2ca1df6",
              "IPY_MODEL_af7c0b37b2004a7a96848cd29eee7c09"
            ],
            "crs": {
              "name": "EPSG3857",
              "custom": false
            },
            "default_style": "IPY_MODEL_05436b5fb9464098b5372033d4094bb3",
            "double_click_zoom": true,
            "dragging": true,
            "dragging_style": "IPY_MODEL_95e8e9f7898f4314ad635d25776b2a38",
            "east": 130.05615234375003,
            "fullscreen": false,
            "inertia": true,
            "inertia_deceleration": 3000,
            "inertia_max_speed": 1500,
            "interpolation": "bilinear",
            "keyboard": true,
            "keyboard_pan_offset": 80,
            "keyboard_zoom_offset": 1,
            "layers": [
              "IPY_MODEL_f21f1c4bf4ce42d19381c8bda084d4a5",
              "IPY_MODEL_9d42d6a97d9645e887c32cf8df2a0878"
            ],
            "layout": "IPY_MODEL_2ac102566f094e80a8ed748f30f39db1",
            "left": 55644,
            "max_zoom": 24,
            "min_zoom": null,
            "modisdate": "2024-07-01",
            "north": 37.40943717748788,
            "options": [
              "bounce_at_zoom_limits",
              "box_zoom",
              "center",
              "close_popup_on_click",
              "double_click_zoom",
              "dragging",
              "fullscreen",
              "inertia",
              "inertia_deceleration",
              "inertia_max_speed",
              "interpolation",
              "keyboard",
              "keyboard_pan_offset",
              "keyboard_zoom_offset",
              "max_zoom",
              "min_zoom",
              "prefer_canvas",
              "scroll_wheel_zoom",
              "tap",
              "tap_tolerance",
              "touch_zoom",
              "world_copy_jump",
              "zoom",
              "zoom_animation_threshold",
              "zoom_delta",
              "zoom_snap"
            ],
            "panes": {},
            "prefer_canvas": false,
            "right": 56444,
            "scroll_wheel_zoom": true,
            "south": 35.64390523787731,
            "style": "IPY_MODEL_c621733bf8154f93afc67fff66dff104",
            "tap": true,
            "tap_tolerance": 15,
            "top": 25415,
            "touch_zoom": true,
            "west": 125.66162109375001,
            "window_url": "https://iafdptzweir-496ff2e9c6d22116-0-colab.googleusercontent.com/outputframe.html?vrz=colab_20240627-060121_RC00_647236509",
            "world_copy_jump": false,
            "zoom": 8,
            "zoom_animation_threshold": 4,
            "zoom_delta": 1,
            "zoom_snap": 1
          }
        },
        "51cea21f31be40b9b631b3faf54b74ca": {
          "model_module": "jupyter-leaflet",
          "model_name": "LeafletWidgetControlModel",
          "model_module_version": "^0.18",
          "state": {
            "_model_module": "jupyter-leaflet",
            "_model_module_version": "^0.18",
            "_model_name": "LeafletWidgetControlModel",
            "_view_count": null,
            "_view_module": "jupyter-leaflet",
            "_view_module_version": "^0.18",
            "_view_name": "LeafletWidgetControlView",
            "max_height": null,
            "max_width": null,
            "min_height": null,
            "min_width": null,
            "options": [
              "position",
              "transparent_bg"
            ],
            "position": "topleft",
            "transparent_bg": false,
            "widget": "IPY_MODEL_7c860599eb9f46b3a23029e902cd65e4"
          }
        },
        "9ddf3039333f45f0931c4c99e71c6d41": {
          "model_module": "jupyter-leaflet",
          "model_name": "LeafletZoomControlModel",
          "model_module_version": "^0.18",
          "state": {
            "_model_module": "jupyter-leaflet",
            "_model_module_version": "^0.18",
            "_model_name": "LeafletZoomControlModel",
            "_view_count": null,
            "_view_module": "jupyter-leaflet",
            "_view_module_version": "^0.18",
            "_view_name": "LeafletZoomControlView",
            "options": [
              "position",
              "zoom_in_text",
              "zoom_in_title",
              "zoom_out_text",
              "zoom_out_title"
            ],
            "position": "topleft",
            "zoom_in_text": "+",
            "zoom_in_title": "Zoom in",
            "zoom_out_text": "-",
            "zoom_out_title": "Zoom out"
          }
        },
        "a985a0bf8124450d9fc301dc886403c2": {
          "model_module": "jupyter-leaflet",
          "model_name": "LeafletFullScreenControlModel",
          "model_module_version": "^0.18",
          "state": {
            "_model_module": "jupyter-leaflet",
            "_model_module_version": "^0.18",
            "_model_name": "LeafletFullScreenControlModel",
            "_view_count": null,
            "_view_module": "jupyter-leaflet",
            "_view_module_version": "^0.18",
            "_view_name": "LeafletFullScreenControlView",
            "options": [
              "position"
            ],
            "position": "topleft"
          }
        },
        "19911dfdfd3947b9b979c51fff088d42": {
          "model_module": "jupyter-leaflet",
          "model_name": "LeafletDrawControlModel",
          "model_module_version": "^0.18",
          "state": {
            "_model_module": "jupyter-leaflet",
            "_model_module_version": "^0.18",
            "_model_name": "LeafletDrawControlModel",
            "_view_count": null,
            "_view_module": "jupyter-leaflet",
            "_view_module_version": "^0.18",
            "_view_name": "LeafletDrawControlView",
            "circle": {},
            "circlemarker": {},
            "data": [],
            "edit": true,
            "marker": {
              "shapeOptions": {
                "color": "#3388ff"
              }
            },
            "options": [
              "position"
            ],
            "polygon": {
              "shapeOptions": {}
            },
            "polyline": {
              "shapeOptions": {}
            },
            "position": "topleft",
            "rectangle": {
              "shapeOptions": {
                "color": "#3388ff"
              }
            },
            "remove": true
          }
        },
        "4007416805a64eb88f28e23c35b08f99": {
          "model_module": "jupyter-leaflet",
          "model_name": "LeafletScaleControlModel",
          "model_module_version": "^0.18",
          "state": {
            "_model_module": "jupyter-leaflet",
            "_model_module_version": "^0.18",
            "_model_name": "LeafletScaleControlModel",
            "_view_count": null,
            "_view_module": "jupyter-leaflet",
            "_view_module_version": "^0.18",
            "_view_name": "LeafletScaleControlView",
            "imperial": true,
            "max_width": 100,
            "metric": true,
            "options": [
              "imperial",
              "max_width",
              "metric",
              "position",
              "update_when_idle"
            ],
            "position": "bottomleft",
            "update_when_idle": false
          }
        },
        "a65191bf2c8542e19740cb430c664622": {
          "model_module": "jupyter-leaflet",
          "model_name": "LeafletMeasureControlModel",
          "model_module_version": "^0.18",
          "state": {
            "_custom_units": {},
            "_model_module": "jupyter-leaflet",
            "_model_module_version": "^0.18",
            "_model_name": "LeafletMeasureControlModel",
            "_view_count": null,
            "_view_module": "jupyter-leaflet",
            "_view_module_version": "^0.18",
            "_view_name": "LeafletMeasureControlView",
            "active_color": "orange",
            "capture_z_index": 10000,
            "completed_color": "#C8F2BE",
            "options": [
              "active_color",
              "capture_z_index",
              "completed_color",
              "popup_options",
              "position",
              "primary_area_unit",
              "primary_length_unit",
              "secondary_area_unit",
              "secondary_length_unit"
            ],
            "popup_options": {
              "className": "leaflet-measure-resultpopup",
              "autoPanPadding": [
                10,
                10
              ]
            },
            "position": "bottomleft",
            "primary_area_unit": "acres",
            "primary_length_unit": "kilometers",
            "secondary_area_unit": null,
            "secondary_length_unit": null
          }
        },
        "c9f7c824bea34ec7aa36575dc5b4894c": {
          "model_module": "jupyter-leaflet",
          "model_name": "LeafletWidgetControlModel",
          "model_module_version": "^0.18",
          "state": {
            "_model_module": "jupyter-leaflet",
            "_model_module_version": "^0.18",
            "_model_name": "LeafletWidgetControlModel",
            "_view_count": null,
            "_view_module": "jupyter-leaflet",
            "_view_module_version": "^0.18",
            "_view_name": "LeafletWidgetControlView",
            "max_height": null,
            "max_width": null,
            "min_height": null,
            "min_width": null,
            "options": [
              "position",
              "transparent_bg"
            ],
            "position": "topright",
            "transparent_bg": false,
            "widget": "IPY_MODEL_fc582cddd2e74840bedb06819bdbdff6"
          }
        },
        "234b0d84ed1f4494ae60e3acf2ca1df6": {
          "model_module": "jupyter-leaflet",
          "model_name": "LeafletAttributionControlModel",
          "model_module_version": "^0.18",
          "state": {
            "_model_module": "jupyter-leaflet",
            "_model_module_version": "^0.18",
            "_model_name": "LeafletAttributionControlModel",
            "_view_count": null,
            "_view_module": "jupyter-leaflet",
            "_view_module_version": "^0.18",
            "_view_name": "LeafletAttributionControlView",
            "options": [
              "position",
              "prefix"
            ],
            "position": "bottomright",
            "prefix": "ipyleaflet"
          }
        },
        "af7c0b37b2004a7a96848cd29eee7c09": {
          "model_module": "jupyter-leaflet",
          "model_name": "LeafletWidgetControlModel",
          "model_module_version": "^0.18",
          "state": {
            "_model_module": "jupyter-leaflet",
            "_model_module_version": "^0.18",
            "_model_name": "LeafletWidgetControlModel",
            "_view_count": null,
            "_view_module": "jupyter-leaflet",
            "_view_module_version": "^0.18",
            "_view_name": "LeafletWidgetControlView",
            "max_height": null,
            "max_width": null,
            "min_height": null,
            "min_width": null,
            "options": [
              "position",
              "transparent_bg"
            ],
            "position": "bottomright",
            "transparent_bg": false,
            "widget": "IPY_MODEL_5ce510fe58974385963f743f278c6476"
          }
        },
        "05436b5fb9464098b5372033d4094bb3": {
          "model_module": "jupyter-leaflet",
          "model_name": "LeafletMapStyleModel",
          "model_module_version": "^0.18",
          "state": {
            "_model_module": "jupyter-leaflet",
            "_model_module_version": "^0.18",
            "_model_name": "LeafletMapStyleModel",
            "_view_count": null,
            "_view_module": "@jupyter-widgets/base",
            "_view_module_version": "1.2.0",
            "_view_name": "StyleView",
            "cursor": "grab"
          }
        },
        "95e8e9f7898f4314ad635d25776b2a38": {
          "model_module": "jupyter-leaflet",
          "model_name": "LeafletMapStyleModel",
          "model_module_version": "^0.18",
          "state": {
            "_model_module": "jupyter-leaflet",
            "_model_module_version": "^0.18",
            "_model_name": "LeafletMapStyleModel",
            "_view_count": null,
            "_view_module": "@jupyter-widgets/base",
            "_view_module_version": "1.2.0",
            "_view_name": "StyleView",
            "cursor": "move"
          }
        },
        "f21f1c4bf4ce42d19381c8bda084d4a5": {
          "model_module": "jupyter-leaflet",
          "model_name": "LeafletTileLayerModel",
          "model_module_version": "^0.18",
          "state": {
            "_model_module": "jupyter-leaflet",
            "_model_module_version": "^0.18",
            "_model_name": "LeafletTileLayerModel",
            "_view_count": null,
            "_view_module": "jupyter-leaflet",
            "_view_module_version": "^0.18",
            "_view_name": "LeafletTileLayerView",
            "attribution": "&copy; <a href=\"https://www.openstreetmap.org/copyright\">OpenStreetMap</a> contributors",
            "base": true,
            "bottom": true,
            "bounds": null,
            "detect_retina": false,
            "loading": false,
            "max_native_zoom": null,
            "max_zoom": 19,
            "min_native_zoom": null,
            "min_zoom": 1,
            "name": "OpenStreetMap.Mapnik",
            "no_wrap": false,
            "opacity": 1,
            "options": [
              "attribution",
              "bounds",
              "detect_retina",
              "max_native_zoom",
              "max_zoom",
              "min_native_zoom",
              "min_zoom",
              "no_wrap",
              "tile_size",
              "tms",
              "zoom_offset"
            ],
            "pane": "",
            "popup": null,
            "popup_max_height": null,
            "popup_max_width": 300,
            "popup_min_width": 50,
            "show_loading": false,
            "subitems": [],
            "tile_size": 256,
            "tms": false,
            "url": "https://tile.openstreetmap.org/{z}/{x}/{y}.png",
            "visible": true,
            "zoom_offset": 0
          }
        },
        "9d42d6a97d9645e887c32cf8df2a0878": {
          "model_module": "jupyter-leaflet",
          "model_name": "LeafletTileLayerModel",
          "model_module_version": "^0.18",
          "state": {
            "_model_module": "jupyter-leaflet",
            "_model_module_version": "^0.18",
            "_model_name": "LeafletTileLayerModel",
            "_view_count": null,
            "_view_module": "jupyter-leaflet",
            "_view_module_version": "^0.18",
            "_view_name": "LeafletTileLayerView",
            "attribution": "Google Earth Engine",
            "base": false,
            "bottom": true,
            "bounds": null,
            "detect_retina": false,
            "loading": false,
            "max_native_zoom": null,
            "max_zoom": 24,
            "min_native_zoom": null,
            "min_zoom": 0,
            "name": "bio01",
            "no_wrap": false,
            "opacity": 1,
            "options": [
              "attribution",
              "bounds",
              "detect_retina",
              "max_native_zoom",
              "max_zoom",
              "min_native_zoom",
              "min_zoom",
              "no_wrap",
              "tile_size",
              "tms",
              "zoom_offset"
            ],
            "pane": "",
            "popup": null,
            "popup_max_height": null,
            "popup_max_width": 300,
            "popup_min_width": 50,
            "show_loading": false,
            "subitems": [],
            "tile_size": 256,
            "tms": false,
            "url": "https://earthengine.googleapis.com/v1/projects/ee-jjangmo91/maps/e32f9d7299b2f4903d0771d3637c1690-71be4e878c49868e582fecd44ee1393e/tiles/{z}/{x}/{y}",
            "visible": true,
            "zoom_offset": 0
          }
        },
        "2ac102566f094e80a8ed748f30f39db1": {
          "model_module": "@jupyter-widgets/base",
          "model_name": "LayoutModel",
          "model_module_version": "1.2.0",
          "state": {
            "_model_module": "@jupyter-widgets/base",
            "_model_module_version": "1.2.0",
            "_model_name": "LayoutModel",
            "_view_count": null,
            "_view_module": "@jupyter-widgets/base",
            "_view_module_version": "1.2.0",
            "_view_name": "LayoutView",
            "align_content": null,
            "align_items": null,
            "align_self": null,
            "border": null,
            "bottom": null,
            "display": null,
            "flex": null,
            "flex_flow": null,
            "grid_area": null,
            "grid_auto_columns": null,
            "grid_auto_flow": null,
            "grid_auto_rows": null,
            "grid_column": null,
            "grid_gap": null,
            "grid_row": null,
            "grid_template_areas": null,
            "grid_template_columns": null,
            "grid_template_rows": null,
            "height": "400px",
            "justify_content": null,
            "justify_items": null,
            "left": null,
            "margin": null,
            "max_height": null,
            "max_width": null,
            "min_height": null,
            "min_width": null,
            "object_fit": null,
            "object_position": null,
            "order": null,
            "overflow": null,
            "overflow_x": null,
            "overflow_y": null,
            "padding": null,
            "right": null,
            "top": null,
            "visibility": null,
            "width": "800px"
          }
        },
        "c621733bf8154f93afc67fff66dff104": {
          "model_module": "jupyter-leaflet",
          "model_name": "LeafletMapStyleModel",
          "model_module_version": "^0.18",
          "state": {
            "_model_module": "jupyter-leaflet",
            "_model_module_version": "^0.18",
            "_model_name": "LeafletMapStyleModel",
            "_view_count": null,
            "_view_module": "@jupyter-widgets/base",
            "_view_module_version": "1.2.0",
            "_view_name": "StyleView",
            "cursor": "grab"
          }
        },
        "7c860599eb9f46b3a23029e902cd65e4": {
          "model_module": "@jupyter-widgets/controls",
          "model_name": "HBoxModel",
          "model_module_version": "1.5.0",
          "state": {
            "_dom_classes": [
              "geemap-colab"
            ],
            "_model_module": "@jupyter-widgets/controls",
            "_model_module_version": "1.5.0",
            "_model_name": "HBoxModel",
            "_view_count": null,
            "_view_module": "@jupyter-widgets/controls",
            "_view_module_version": "1.5.0",
            "_view_name": "HBoxView",
            "box_style": "",
            "children": [
              "IPY_MODEL_08d7194af6634803bbb1b9c43e6cd111"
            ],
            "layout": "IPY_MODEL_100adffb2080454fb876449bba1ae345"
          }
        },
        "fc582cddd2e74840bedb06819bdbdff6": {
          "model_module": "@jupyter-widgets/controls",
          "model_name": "VBoxModel",
          "model_module_version": "1.5.0",
          "state": {
            "_dom_classes": [
              "geemap-colab"
            ],
            "_model_module": "@jupyter-widgets/controls",
            "_model_module_version": "1.5.0",
            "_model_name": "VBoxModel",
            "_view_count": null,
            "_view_module": "@jupyter-widgets/controls",
            "_view_module_version": "1.5.0",
            "_view_name": "VBoxView",
            "box_style": "",
            "children": [
              "IPY_MODEL_b176729026b8426fbe7e2611fc38482e"
            ],
            "layout": "IPY_MODEL_66ec9105d1af44e1a2081e624f06b4ea"
          }
        },
        "5ce510fe58974385963f743f278c6476": {
          "model_module": "@jupyter-widgets/output",
          "model_name": "OutputModel",
          "model_module_version": "1.0.0",
          "state": {
            "_dom_classes": [
              "geemap-colab"
            ],
            "_model_module": "@jupyter-widgets/output",
            "_model_module_version": "1.0.0",
            "_model_name": "OutputModel",
            "_view_count": null,
            "_view_module": "@jupyter-widgets/output",
            "_view_module_version": "1.0.0",
            "_view_name": "OutputView",
            "layout": "IPY_MODEL_f60c9e6c92304991a0707adeda8d453c",
            "msg_id": "",
            "outputs": [
              {
                "output_type": "display_data",
                "data": {
                  "text/plain": "<Figure size 30x300 with 1 Axes>",
                  "image/png": "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\n"
                },
                "metadata": {}
              }
            ]
          }
        },
        "08d7194af6634803bbb1b9c43e6cd111": {
          "model_module": "@jupyter-widgets/controls",
          "model_name": "ToggleButtonModel",
          "model_module_version": "1.5.0",
          "state": {
            "_dom_classes": [],
            "_model_module": "@jupyter-widgets/controls",
            "_model_module_version": "1.5.0",
            "_model_name": "ToggleButtonModel",
            "_view_count": null,
            "_view_module": "@jupyter-widgets/controls",
            "_view_module_version": "1.5.0",
            "_view_name": "ToggleButtonView",
            "button_style": "",
            "description": "",
            "description_tooltip": null,
            "disabled": false,
            "icon": "globe",
            "layout": "IPY_MODEL_d51662e8b10e4524b919d096bea184fd",
            "style": "IPY_MODEL_4103a342f22a46de838d3fa23baaaae6",
            "tooltip": "Search location/data",
            "value": false
          }
        },
        "100adffb2080454fb876449bba1ae345": {
          "model_module": "@jupyter-widgets/base",
          "model_name": "LayoutModel",
          "model_module_version": "1.2.0",
          "state": {
            "_model_module": "@jupyter-widgets/base",
            "_model_module_version": "1.2.0",
            "_model_name": "LayoutModel",
            "_view_count": null,
            "_view_module": "@jupyter-widgets/base",
            "_view_module_version": "1.2.0",
            "_view_name": "LayoutView",
            "align_content": null,
            "align_items": null,
            "align_self": null,
            "border": null,
            "bottom": null,
            "display": null,
            "flex": null,
            "flex_flow": null,
            "grid_area": null,
            "grid_auto_columns": null,
            "grid_auto_flow": null,
            "grid_auto_rows": null,
            "grid_column": null,
            "grid_gap": null,
            "grid_row": null,
            "grid_template_areas": null,
            "grid_template_columns": null,
            "grid_template_rows": null,
            "height": null,
            "justify_content": null,
            "justify_items": null,
            "left": null,
            "margin": null,
            "max_height": null,
            "max_width": null,
            "min_height": null,
            "min_width": null,
            "object_fit": null,
            "object_position": null,
            "order": null,
            "overflow": null,
            "overflow_x": null,
            "overflow_y": null,
            "padding": null,
            "right": null,
            "top": null,
            "visibility": null,
            "width": null
          }
        },
        "b176729026b8426fbe7e2611fc38482e": {
          "model_module": "@jupyter-widgets/controls",
          "model_name": "ToggleButtonModel",
          "model_module_version": "1.5.0",
          "state": {
            "_dom_classes": [],
            "_model_module": "@jupyter-widgets/controls",
            "_model_module_version": "1.5.0",
            "_model_name": "ToggleButtonModel",
            "_view_count": null,
            "_view_module": "@jupyter-widgets/controls",
            "_view_module_version": "1.5.0",
            "_view_name": "ToggleButtonView",
            "button_style": "",
            "description": "",
            "description_tooltip": null,
            "disabled": false,
            "icon": "wrench",
            "layout": "IPY_MODEL_64131708b95b414bb440ef530adef1e7",
            "style": "IPY_MODEL_78dac60a3fcd41eba1dcb0968f84a25b",
            "tooltip": "Toolbar",
            "value": false
          }
        },
        "66ec9105d1af44e1a2081e624f06b4ea": {
          "model_module": "@jupyter-widgets/base",
          "model_name": "LayoutModel",
          "model_module_version": "1.2.0",
          "state": {
            "_model_module": "@jupyter-widgets/base",
            "_model_module_version": "1.2.0",
            "_model_name": "LayoutModel",
            "_view_count": null,
            "_view_module": "@jupyter-widgets/base",
            "_view_module_version": "1.2.0",
            "_view_name": "LayoutView",
            "align_content": null,
            "align_items": null,
            "align_self": null,
            "border": null,
            "bottom": null,
            "display": null,
            "flex": null,
            "flex_flow": null,
            "grid_area": null,
            "grid_auto_columns": null,
            "grid_auto_flow": null,
            "grid_auto_rows": null,
            "grid_column": null,
            "grid_gap": null,
            "grid_row": null,
            "grid_template_areas": null,
            "grid_template_columns": null,
            "grid_template_rows": null,
            "height": null,
            "justify_content": null,
            "justify_items": null,
            "left": null,
            "margin": null,
            "max_height": null,
            "max_width": null,
            "min_height": null,
            "min_width": null,
            "object_fit": null,
            "object_position": null,
            "order": null,
            "overflow": null,
            "overflow_x": null,
            "overflow_y": null,
            "padding": null,
            "right": null,
            "top": null,
            "visibility": null,
            "width": null
          }
        },
        "f60c9e6c92304991a0707adeda8d453c": {
          "model_module": "@jupyter-widgets/base",
          "model_name": "LayoutModel",
          "model_module_version": "1.2.0",
          "state": {
            "_model_module": "@jupyter-widgets/base",
            "_model_module_version": "1.2.0",
            "_model_name": "LayoutModel",
            "_view_count": null,
            "_view_module": "@jupyter-widgets/base",
            "_view_module_version": "1.2.0",
            "_view_name": "LayoutView",
            "align_content": null,
            "align_items": null,
            "align_self": null,
            "border": null,
            "bottom": null,
            "display": null,
            "flex": null,
            "flex_flow": null,
            "grid_area": null,
            "grid_auto_columns": null,
            "grid_auto_flow": null,
            "grid_auto_rows": null,
            "grid_column": null,
            "grid_gap": null,
            "grid_row": null,
            "grid_template_areas": null,
            "grid_template_columns": null,
            "grid_template_rows": null,
            "height": null,
            "justify_content": null,
            "justify_items": null,
            "left": null,
            "margin": null,
            "max_height": null,
            "max_width": null,
            "min_height": null,
            "min_width": null,
            "object_fit": null,
            "object_position": null,
            "order": null,
            "overflow": null,
            "overflow_x": null,
            "overflow_y": null,
            "padding": null,
            "right": null,
            "top": null,
            "visibility": null,
            "width": "100px"
          }
        },
        "d51662e8b10e4524b919d096bea184fd": {
          "model_module": "@jupyter-widgets/base",
          "model_name": "LayoutModel",
          "model_module_version": "1.2.0",
          "state": {
            "_model_module": "@jupyter-widgets/base",
            "_model_module_version": "1.2.0",
            "_model_name": "LayoutModel",
            "_view_count": null,
            "_view_module": "@jupyter-widgets/base",
            "_view_module_version": "1.2.0",
            "_view_name": "LayoutView",
            "align_content": null,
            "align_items": null,
            "align_self": null,
            "border": null,
            "bottom": null,
            "display": null,
            "flex": null,
            "flex_flow": null,
            "grid_area": null,
            "grid_auto_columns": null,
            "grid_auto_flow": null,
            "grid_auto_rows": null,
            "grid_column": null,
            "grid_gap": null,
            "grid_row": null,
            "grid_template_areas": null,
            "grid_template_columns": null,
            "grid_template_rows": null,
            "height": "28px",
            "justify_content": null,
            "justify_items": null,
            "left": null,
            "margin": null,
            "max_height": null,
            "max_width": null,
            "min_height": null,
            "min_width": null,
            "object_fit": null,
            "object_position": null,
            "order": null,
            "overflow": null,
            "overflow_x": null,
            "overflow_y": null,
            "padding": "0px 0px 0px 4px",
            "right": null,
            "top": null,
            "visibility": null,
            "width": "28px"
          }
        },
        "4103a342f22a46de838d3fa23baaaae6": {
          "model_module": "@jupyter-widgets/controls",
          "model_name": "DescriptionStyleModel",
          "model_module_version": "1.5.0",
          "state": {
            "_model_module": "@jupyter-widgets/controls",
            "_model_module_version": "1.5.0",
            "_model_name": "DescriptionStyleModel",
            "_view_count": null,
            "_view_module": "@jupyter-widgets/base",
            "_view_module_version": "1.2.0",
            "_view_name": "StyleView",
            "description_width": ""
          }
        },
        "64131708b95b414bb440ef530adef1e7": {
          "model_module": "@jupyter-widgets/base",
          "model_name": "LayoutModel",
          "model_module_version": "1.2.0",
          "state": {
            "_model_module": "@jupyter-widgets/base",
            "_model_module_version": "1.2.0",
            "_model_name": "LayoutModel",
            "_view_count": null,
            "_view_module": "@jupyter-widgets/base",
            "_view_module_version": "1.2.0",
            "_view_name": "LayoutView",
            "align_content": null,
            "align_items": null,
            "align_self": null,
            "border": null,
            "bottom": null,
            "display": null,
            "flex": null,
            "flex_flow": null,
            "grid_area": null,
            "grid_auto_columns": null,
            "grid_auto_flow": null,
            "grid_auto_rows": null,
            "grid_column": null,
            "grid_gap": null,
            "grid_row": null,
            "grid_template_areas": null,
            "grid_template_columns": null,
            "grid_template_rows": null,
            "height": "28px",
            "justify_content": null,
            "justify_items": null,
            "left": null,
            "margin": null,
            "max_height": null,
            "max_width": null,
            "min_height": null,
            "min_width": null,
            "object_fit": null,
            "object_position": null,
            "order": null,
            "overflow": null,
            "overflow_x": null,
            "overflow_y": null,
            "padding": "0px 0px 0px 4px",
            "right": null,
            "top": null,
            "visibility": null,
            "width": "28px"
          }
        },
        "78dac60a3fcd41eba1dcb0968f84a25b": {
          "model_module": "@jupyter-widgets/controls",
          "model_name": "DescriptionStyleModel",
          "model_module_version": "1.5.0",
          "state": {
            "_model_module": "@jupyter-widgets/controls",
            "_model_module_version": "1.5.0",
            "_model_name": "DescriptionStyleModel",
            "_view_count": null,
            "_view_module": "@jupyter-widgets/base",
            "_view_module_version": "1.2.0",
            "_view_name": "StyleView",
            "description_width": ""
          }
        },
        "3c1580cb521640a4815b364bfe7dfb7d": {
          "model_module": "jupyter-leaflet",
          "model_name": "LeafletMapModel",
          "model_module_version": "^0.18",
          "state": {
            "_dom_classes": [],
            "_model_module": "jupyter-leaflet",
            "_model_module_version": "^0.18",
            "_model_name": "LeafletMapModel",
            "_view_count": null,
            "_view_module": "jupyter-leaflet",
            "_view_module_version": "^0.18",
            "_view_name": "LeafletMapView",
            "bottom": 204819,
            "bounce_at_zoom_limits": true,
            "box_zoom": true,
            "center": [
              36.697603754877754,
              127.01293945312501
            ],
            "close_popup_on_click": true,
            "controls": [
              "IPY_MODEL_6c151dd7653846439b2634e0dd9cf9df",
              "IPY_MODEL_f483a21297724f69877448408f3addbb",
              "IPY_MODEL_29abd4e9c062470baaf9eaa72e6665e6",
              "IPY_MODEL_a0ec2ebf0654440697a18193d39bdee2",
              "IPY_MODEL_57cb6bd3bc83497a85900d0158309ce4",
              "IPY_MODEL_a8b8d96676ae401fb4a656e62370363e",
              "IPY_MODEL_5f075e14b6504b298bbfd74f0b2d2d27",
              "IPY_MODEL_f54b7f66d1e94d66ae06cfd8e2b8a4b3",
              "IPY_MODEL_8fe675fae9f14afd8aed0cc38ee71356"
            ],
            "crs": {
              "name": "EPSG3857",
              "custom": false
            },
            "default_style": "IPY_MODEL_de085fbe1896462893cc8f13544c06db",
            "double_click_zoom": true,
            "dragging": true,
            "dragging_style": "IPY_MODEL_5e5229bce3ef44659532304deb0351cb",
            "east": 127.28759765625001,
            "fullscreen": false,
            "inertia": true,
            "inertia_deceleration": 3000,
            "inertia_max_speed": 1500,
            "interpolation": "bilinear",
            "keyboard": true,
            "keyboard_pan_offset": 80,
            "keyboard_zoom_offset": 1,
            "layers": [
              "IPY_MODEL_332c0afa42de411e8e690343d3ec473f",
              "IPY_MODEL_f687d093c44f4411884ef4531302e448"
            ],
            "layout": "IPY_MODEL_4eb3f646a15344638de6b3e4e878d057",
            "left": 446720,
            "max_zoom": 24,
            "min_zoom": null,
            "modisdate": "2024-07-01",
            "north": 36.80763542848121,
            "options": [
              "bounce_at_zoom_limits",
              "box_zoom",
              "center",
              "close_popup_on_click",
              "double_click_zoom",
              "dragging",
              "fullscreen",
              "inertia",
              "inertia_deceleration",
              "inertia_max_speed",
              "interpolation",
              "keyboard",
              "keyboard_pan_offset",
              "keyboard_zoom_offset",
              "max_zoom",
              "min_zoom",
              "prefer_canvas",
              "scroll_wheel_zoom",
              "tap",
              "tap_tolerance",
              "touch_zoom",
              "world_copy_jump",
              "zoom",
              "zoom_animation_threshold",
              "zoom_delta",
              "zoom_snap"
            ],
            "panes": {},
            "prefer_canvas": false,
            "right": 447520,
            "scroll_wheel_zoom": true,
            "south": 36.58741436633867,
            "style": "IPY_MODEL_de085fbe1896462893cc8f13544c06db",
            "tap": true,
            "tap_tolerance": 15,
            "top": 204419,
            "touch_zoom": true,
            "west": 126.73828125000001,
            "window_url": "https://iafdptzweir-496ff2e9c6d22116-0-colab.googleusercontent.com/outputframe.html?vrz=colab_20240627-060121_RC00_647236509",
            "world_copy_jump": false,
            "zoom": 11,
            "zoom_animation_threshold": 4,
            "zoom_delta": 1,
            "zoom_snap": 1
          }
        },
        "6c151dd7653846439b2634e0dd9cf9df": {
          "model_module": "jupyter-leaflet",
          "model_name": "LeafletWidgetControlModel",
          "model_module_version": "^0.18",
          "state": {
            "_model_module": "jupyter-leaflet",
            "_model_module_version": "^0.18",
            "_model_name": "LeafletWidgetControlModel",
            "_view_count": null,
            "_view_module": "jupyter-leaflet",
            "_view_module_version": "^0.18",
            "_view_name": "LeafletWidgetControlView",
            "max_height": null,
            "max_width": null,
            "min_height": null,
            "min_width": null,
            "options": [
              "position",
              "transparent_bg"
            ],
            "position": "topleft",
            "transparent_bg": false,
            "widget": "IPY_MODEL_49e3b5cd9b504736ac509972f9fe8e45"
          }
        },
        "f483a21297724f69877448408f3addbb": {
          "model_module": "jupyter-leaflet",
          "model_name": "LeafletZoomControlModel",
          "model_module_version": "^0.18",
          "state": {
            "_model_module": "jupyter-leaflet",
            "_model_module_version": "^0.18",
            "_model_name": "LeafletZoomControlModel",
            "_view_count": null,
            "_view_module": "jupyter-leaflet",
            "_view_module_version": "^0.18",
            "_view_name": "LeafletZoomControlView",
            "options": [
              "position",
              "zoom_in_text",
              "zoom_in_title",
              "zoom_out_text",
              "zoom_out_title"
            ],
            "position": "topleft",
            "zoom_in_text": "+",
            "zoom_in_title": "Zoom in",
            "zoom_out_text": "-",
            "zoom_out_title": "Zoom out"
          }
        },
        "29abd4e9c062470baaf9eaa72e6665e6": {
          "model_module": "jupyter-leaflet",
          "model_name": "LeafletFullScreenControlModel",
          "model_module_version": "^0.18",
          "state": {
            "_model_module": "jupyter-leaflet",
            "_model_module_version": "^0.18",
            "_model_name": "LeafletFullScreenControlModel",
            "_view_count": null,
            "_view_module": "jupyter-leaflet",
            "_view_module_version": "^0.18",
            "_view_name": "LeafletFullScreenControlView",
            "options": [
              "position"
            ],
            "position": "topleft"
          }
        },
        "a0ec2ebf0654440697a18193d39bdee2": {
          "model_module": "jupyter-leaflet",
          "model_name": "LeafletDrawControlModel",
          "model_module_version": "^0.18",
          "state": {
            "_model_module": "jupyter-leaflet",
            "_model_module_version": "^0.18",
            "_model_name": "LeafletDrawControlModel",
            "_view_count": null,
            "_view_module": "jupyter-leaflet",
            "_view_module_version": "^0.18",
            "_view_name": "LeafletDrawControlView",
            "circle": {},
            "circlemarker": {},
            "data": [],
            "edit": true,
            "marker": {
              "shapeOptions": {
                "color": "#3388ff"
              }
            },
            "options": [
              "position"
            ],
            "polygon": {
              "shapeOptions": {}
            },
            "polyline": {
              "shapeOptions": {}
            },
            "position": "topleft",
            "rectangle": {
              "shapeOptions": {
                "color": "#3388ff"
              }
            },
            "remove": true
          }
        },
        "57cb6bd3bc83497a85900d0158309ce4": {
          "model_module": "jupyter-leaflet",
          "model_name": "LeafletScaleControlModel",
          "model_module_version": "^0.18",
          "state": {
            "_model_module": "jupyter-leaflet",
            "_model_module_version": "^0.18",
            "_model_name": "LeafletScaleControlModel",
            "_view_count": null,
            "_view_module": "jupyter-leaflet",
            "_view_module_version": "^0.18",
            "_view_name": "LeafletScaleControlView",
            "imperial": true,
            "max_width": 100,
            "metric": true,
            "options": [
              "imperial",
              "max_width",
              "metric",
              "position",
              "update_when_idle"
            ],
            "position": "bottomleft",
            "update_when_idle": false
          }
        },
        "a8b8d96676ae401fb4a656e62370363e": {
          "model_module": "jupyter-leaflet",
          "model_name": "LeafletMeasureControlModel",
          "model_module_version": "^0.18",
          "state": {
            "_custom_units": {},
            "_model_module": "jupyter-leaflet",
            "_model_module_version": "^0.18",
            "_model_name": "LeafletMeasureControlModel",
            "_view_count": null,
            "_view_module": "jupyter-leaflet",
            "_view_module_version": "^0.18",
            "_view_name": "LeafletMeasureControlView",
            "active_color": "orange",
            "capture_z_index": 10000,
            "completed_color": "#C8F2BE",
            "options": [
              "active_color",
              "capture_z_index",
              "completed_color",
              "popup_options",
              "position",
              "primary_area_unit",
              "primary_length_unit",
              "secondary_area_unit",
              "secondary_length_unit"
            ],
            "popup_options": {
              "className": "leaflet-measure-resultpopup",
              "autoPanPadding": [
                10,
                10
              ]
            },
            "position": "bottomleft",
            "primary_area_unit": "acres",
            "primary_length_unit": "kilometers",
            "secondary_area_unit": null,
            "secondary_length_unit": null
          }
        },
        "5f075e14b6504b298bbfd74f0b2d2d27": {
          "model_module": "jupyter-leaflet",
          "model_name": "LeafletWidgetControlModel",
          "model_module_version": "^0.18",
          "state": {
            "_model_module": "jupyter-leaflet",
            "_model_module_version": "^0.18",
            "_model_name": "LeafletWidgetControlModel",
            "_view_count": null,
            "_view_module": "jupyter-leaflet",
            "_view_module_version": "^0.18",
            "_view_name": "LeafletWidgetControlView",
            "max_height": null,
            "max_width": null,
            "min_height": null,
            "min_width": null,
            "options": [
              "position",
              "transparent_bg"
            ],
            "position": "topright",
            "transparent_bg": false,
            "widget": "IPY_MODEL_66159b06e86145bab7647781dcee0ec0"
          }
        },
        "f54b7f66d1e94d66ae06cfd8e2b8a4b3": {
          "model_module": "jupyter-leaflet",
          "model_name": "LeafletAttributionControlModel",
          "model_module_version": "^0.18",
          "state": {
            "_model_module": "jupyter-leaflet",
            "_model_module_version": "^0.18",
            "_model_name": "LeafletAttributionControlModel",
            "_view_count": null,
            "_view_module": "jupyter-leaflet",
            "_view_module_version": "^0.18",
            "_view_name": "LeafletAttributionControlView",
            "options": [
              "position",
              "prefix"
            ],
            "position": "bottomright",
            "prefix": "ipyleaflet"
          }
        },
        "8fe675fae9f14afd8aed0cc38ee71356": {
          "model_module": "jupyter-leaflet",
          "model_name": "LeafletWidgetControlModel",
          "model_module_version": "^0.18",
          "state": {
            "_model_module": "jupyter-leaflet",
            "_model_module_version": "^0.18",
            "_model_name": "LeafletWidgetControlModel",
            "_view_count": null,
            "_view_module": "jupyter-leaflet",
            "_view_module_version": "^0.18",
            "_view_name": "LeafletWidgetControlView",
            "max_height": null,
            "max_width": null,
            "min_height": null,
            "min_width": null,
            "options": [
              "position",
              "transparent_bg"
            ],
            "position": "bottomright",
            "transparent_bg": false,
            "widget": "IPY_MODEL_5fbfe9dbcf4e4369a0634bbca4f1bdc1"
          }
        },
        "de085fbe1896462893cc8f13544c06db": {
          "model_module": "jupyter-leaflet",
          "model_name": "LeafletMapStyleModel",
          "model_module_version": "^0.18",
          "state": {
            "_model_module": "jupyter-leaflet",
            "_model_module_version": "^0.18",
            "_model_name": "LeafletMapStyleModel",
            "_view_count": null,
            "_view_module": "@jupyter-widgets/base",
            "_view_module_version": "1.2.0",
            "_view_name": "StyleView",
            "cursor": "grab"
          }
        },
        "5e5229bce3ef44659532304deb0351cb": {
          "model_module": "jupyter-leaflet",
          "model_name": "LeafletMapStyleModel",
          "model_module_version": "^0.18",
          "state": {
            "_model_module": "jupyter-leaflet",
            "_model_module_version": "^0.18",
            "_model_name": "LeafletMapStyleModel",
            "_view_count": null,
            "_view_module": "@jupyter-widgets/base",
            "_view_module_version": "1.2.0",
            "_view_name": "StyleView",
            "cursor": "move"
          }
        },
        "332c0afa42de411e8e690343d3ec473f": {
          "model_module": "jupyter-leaflet",
          "model_name": "LeafletTileLayerModel",
          "model_module_version": "^0.18",
          "state": {
            "_model_module": "jupyter-leaflet",
            "_model_module_version": "^0.18",
            "_model_name": "LeafletTileLayerModel",
            "_view_count": null,
            "_view_module": "jupyter-leaflet",
            "_view_module_version": "^0.18",
            "_view_name": "LeafletTileLayerView",
            "attribution": "&copy; <a href=\"https://www.openstreetmap.org/copyright\">OpenStreetMap</a> contributors",
            "base": true,
            "bottom": true,
            "bounds": null,
            "detect_retina": false,
            "loading": false,
            "max_native_zoom": null,
            "max_zoom": 19,
            "min_native_zoom": null,
            "min_zoom": 1,
            "name": "OpenStreetMap.Mapnik",
            "no_wrap": false,
            "opacity": 1,
            "options": [
              "attribution",
              "bounds",
              "detect_retina",
              "max_native_zoom",
              "max_zoom",
              "min_native_zoom",
              "min_zoom",
              "no_wrap",
              "tile_size",
              "tms",
              "zoom_offset"
            ],
            "pane": "",
            "popup": null,
            "popup_max_height": null,
            "popup_max_width": 300,
            "popup_min_width": 50,
            "show_loading": false,
            "subitems": [],
            "tile_size": 256,
            "tms": false,
            "url": "https://tile.openstreetmap.org/{z}/{x}/{y}.png",
            "visible": true,
            "zoom_offset": 0
          }
        },
        "f687d093c44f4411884ef4531302e448": {
          "model_module": "jupyter-leaflet",
          "model_name": "LeafletTileLayerModel",
          "model_module_version": "^0.18",
          "state": {
            "_model_module": "jupyter-leaflet",
            "_model_module_version": "^0.18",
            "_model_name": "LeafletTileLayerModel",
            "_view_count": null,
            "_view_module": "jupyter-leaflet",
            "_view_module_version": "^0.18",
            "_view_name": "LeafletTileLayerView",
            "attribution": "Google Earth Engine",
            "base": false,
            "bottom": true,
            "bounds": null,
            "detect_retina": false,
            "loading": false,
            "max_native_zoom": null,
            "max_zoom": 24,
            "min_native_zoom": null,
            "min_zoom": 0,
            "name": "slope",
            "no_wrap": false,
            "opacity": 1,
            "options": [
              "attribution",
              "bounds",
              "detect_retina",
              "max_native_zoom",
              "max_zoom",
              "min_native_zoom",
              "min_zoom",
              "no_wrap",
              "tile_size",
              "tms",
              "zoom_offset"
            ],
            "pane": "",
            "popup": null,
            "popup_max_height": null,
            "popup_max_width": 300,
            "popup_min_width": 50,
            "show_loading": false,
            "subitems": [],
            "tile_size": 256,
            "tms": false,
            "url": "https://earthengine.googleapis.com/v1/projects/ee-jjangmo91/maps/7261901d417ae6b26ec78043616f54bd-4770c4e4846e77888216e858e19bebdc/tiles/{z}/{x}/{y}",
            "visible": true,
            "zoom_offset": 0
          }
        },
        "4eb3f646a15344638de6b3e4e878d057": {
          "model_module": "@jupyter-widgets/base",
          "model_name": "LayoutModel",
          "model_module_version": "1.2.0",
          "state": {
            "_model_module": "@jupyter-widgets/base",
            "_model_module_version": "1.2.0",
            "_model_name": "LayoutModel",
            "_view_count": null,
            "_view_module": "@jupyter-widgets/base",
            "_view_module_version": "1.2.0",
            "_view_name": "LayoutView",
            "align_content": null,
            "align_items": null,
            "align_self": null,
            "border": null,
            "bottom": null,
            "display": null,
            "flex": null,
            "flex_flow": null,
            "grid_area": null,
            "grid_auto_columns": null,
            "grid_auto_flow": null,
            "grid_auto_rows": null,
            "grid_column": null,
            "grid_gap": null,
            "grid_row": null,
            "grid_template_areas": null,
            "grid_template_columns": null,
            "grid_template_rows": null,
            "height": "400px",
            "justify_content": null,
            "justify_items": null,
            "left": null,
            "margin": null,
            "max_height": null,
            "max_width": null,
            "min_height": null,
            "min_width": null,
            "object_fit": null,
            "object_position": null,
            "order": null,
            "overflow": null,
            "overflow_x": null,
            "overflow_y": null,
            "padding": null,
            "right": null,
            "top": null,
            "visibility": null,
            "width": "800px"
          }
        },
        "5e5bb64b25434dc6a15af6d435c8efd7": {
          "model_module": "jupyter-leaflet",
          "model_name": "LeafletMapStyleModel",
          "model_module_version": "^0.18",
          "state": {
            "_model_module": "jupyter-leaflet",
            "_model_module_version": "^0.18",
            "_model_name": "LeafletMapStyleModel",
            "_view_count": null,
            "_view_module": "@jupyter-widgets/base",
            "_view_module_version": "1.2.0",
            "_view_name": "StyleView",
            "cursor": "grab"
          }
        },
        "49e3b5cd9b504736ac509972f9fe8e45": {
          "model_module": "@jupyter-widgets/controls",
          "model_name": "HBoxModel",
          "model_module_version": "1.5.0",
          "state": {
            "_dom_classes": [
              "geemap-colab"
            ],
            "_model_module": "@jupyter-widgets/controls",
            "_model_module_version": "1.5.0",
            "_model_name": "HBoxModel",
            "_view_count": null,
            "_view_module": "@jupyter-widgets/controls",
            "_view_module_version": "1.5.0",
            "_view_name": "HBoxView",
            "box_style": "",
            "children": [
              "IPY_MODEL_13b245ce117a45c28cc3921c26fa7098"
            ],
            "layout": "IPY_MODEL_b76071d0f1954058a58a55ce324cd237"
          }
        },
        "66159b06e86145bab7647781dcee0ec0": {
          "model_module": "@jupyter-widgets/controls",
          "model_name": "VBoxModel",
          "model_module_version": "1.5.0",
          "state": {
            "_dom_classes": [
              "geemap-colab"
            ],
            "_model_module": "@jupyter-widgets/controls",
            "_model_module_version": "1.5.0",
            "_model_name": "VBoxModel",
            "_view_count": null,
            "_view_module": "@jupyter-widgets/controls",
            "_view_module_version": "1.5.0",
            "_view_name": "VBoxView",
            "box_style": "",
            "children": [
              "IPY_MODEL_83330960c10f492693a6117e503949d5"
            ],
            "layout": "IPY_MODEL_66e6862aca5c415cb4c8a135c168bea9"
          }
        },
        "5fbfe9dbcf4e4369a0634bbca4f1bdc1": {
          "model_module": "@jupyter-widgets/output",
          "model_name": "OutputModel",
          "model_module_version": "1.0.0",
          "state": {
            "_dom_classes": [
              "geemap-colab"
            ],
            "_model_module": "@jupyter-widgets/output",
            "_model_module_version": "1.0.0",
            "_model_name": "OutputModel",
            "_view_count": null,
            "_view_module": "@jupyter-widgets/output",
            "_view_module_version": "1.0.0",
            "_view_name": "OutputView",
            "layout": "IPY_MODEL_02d1dbe6035742bc9cb6f62c10bfcaaa",
            "msg_id": "",
            "outputs": [
              {
                "output_type": "display_data",
                "data": {
                  "text/plain": "<Figure size 30x300 with 1 Axes>",
                  "image/png": "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\n"
                },
                "metadata": {}
              }
            ]
          }
        },
        "13b245ce117a45c28cc3921c26fa7098": {
          "model_module": "@jupyter-widgets/controls",
          "model_name": "ToggleButtonModel",
          "model_module_version": "1.5.0",
          "state": {
            "_dom_classes": [],
            "_model_module": "@jupyter-widgets/controls",
            "_model_module_version": "1.5.0",
            "_model_name": "ToggleButtonModel",
            "_view_count": null,
            "_view_module": "@jupyter-widgets/controls",
            "_view_module_version": "1.5.0",
            "_view_name": "ToggleButtonView",
            "button_style": "",
            "description": "",
            "description_tooltip": null,
            "disabled": false,
            "icon": "globe",
            "layout": "IPY_MODEL_1c9694a07dac4b3492a640273b86abfa",
            "style": "IPY_MODEL_b2d489ff02ba4228bdc3b75ab5373b71",
            "tooltip": "Search location/data",
            "value": false
          }
        },
        "b76071d0f1954058a58a55ce324cd237": {
          "model_module": "@jupyter-widgets/base",
          "model_name": "LayoutModel",
          "model_module_version": "1.2.0",
          "state": {
            "_model_module": "@jupyter-widgets/base",
            "_model_module_version": "1.2.0",
            "_model_name": "LayoutModel",
            "_view_count": null,
            "_view_module": "@jupyter-widgets/base",
            "_view_module_version": "1.2.0",
            "_view_name": "LayoutView",
            "align_content": null,
            "align_items": null,
            "align_self": null,
            "border": null,
            "bottom": null,
            "display": null,
            "flex": null,
            "flex_flow": null,
            "grid_area": null,
            "grid_auto_columns": null,
            "grid_auto_flow": null,
            "grid_auto_rows": null,
            "grid_column": null,
            "grid_gap": null,
            "grid_row": null,
            "grid_template_areas": null,
            "grid_template_columns": null,
            "grid_template_rows": null,
            "height": null,
            "justify_content": null,
            "justify_items": null,
            "left": null,
            "margin": null,
            "max_height": null,
            "max_width": null,
            "min_height": null,
            "min_width": null,
            "object_fit": null,
            "object_position": null,
            "order": null,
            "overflow": null,
            "overflow_x": null,
            "overflow_y": null,
            "padding": null,
            "right": null,
            "top": null,
            "visibility": null,
            "width": null
          }
        },
        "83330960c10f492693a6117e503949d5": {
          "model_module": "@jupyter-widgets/controls",
          "model_name": "ToggleButtonModel",
          "model_module_version": "1.5.0",
          "state": {
            "_dom_classes": [],
            "_model_module": "@jupyter-widgets/controls",
            "_model_module_version": "1.5.0",
            "_model_name": "ToggleButtonModel",
            "_view_count": null,
            "_view_module": "@jupyter-widgets/controls",
            "_view_module_version": "1.5.0",
            "_view_name": "ToggleButtonView",
            "button_style": "",
            "description": "",
            "description_tooltip": null,
            "disabled": false,
            "icon": "wrench",
            "layout": "IPY_MODEL_99a32c4d8b4041169e8d2c54827d8f31",
            "style": "IPY_MODEL_d75e2f8137514fd0be0fdbe80737f72b",
            "tooltip": "Toolbar",
            "value": false
          }
        },
        "66e6862aca5c415cb4c8a135c168bea9": {
          "model_module": "@jupyter-widgets/base",
          "model_name": "LayoutModel",
          "model_module_version": "1.2.0",
          "state": {
            "_model_module": "@jupyter-widgets/base",
            "_model_module_version": "1.2.0",
            "_model_name": "LayoutModel",
            "_view_count": null,
            "_view_module": "@jupyter-widgets/base",
            "_view_module_version": "1.2.0",
            "_view_name": "LayoutView",
            "align_content": null,
            "align_items": null,
            "align_self": null,
            "border": null,
            "bottom": null,
            "display": null,
            "flex": null,
            "flex_flow": null,
            "grid_area": null,
            "grid_auto_columns": null,
            "grid_auto_flow": null,
            "grid_auto_rows": null,
            "grid_column": null,
            "grid_gap": null,
            "grid_row": null,
            "grid_template_areas": null,
            "grid_template_columns": null,
            "grid_template_rows": null,
            "height": null,
            "justify_content": null,
            "justify_items": null,
            "left": null,
            "margin": null,
            "max_height": null,
            "max_width": null,
            "min_height": null,
            "min_width": null,
            "object_fit": null,
            "object_position": null,
            "order": null,
            "overflow": null,
            "overflow_x": null,
            "overflow_y": null,
            "padding": null,
            "right": null,
            "top": null,
            "visibility": null,
            "width": null
          }
        },
        "02d1dbe6035742bc9cb6f62c10bfcaaa": {
          "model_module": "@jupyter-widgets/base",
          "model_name": "LayoutModel",
          "model_module_version": "1.2.0",
          "state": {
            "_model_module": "@jupyter-widgets/base",
            "_model_module_version": "1.2.0",
            "_model_name": "LayoutModel",
            "_view_count": null,
            "_view_module": "@jupyter-widgets/base",
            "_view_module_version": "1.2.0",
            "_view_name": "LayoutView",
            "align_content": null,
            "align_items": null,
            "align_self": null,
            "border": null,
            "bottom": null,
            "display": null,
            "flex": null,
            "flex_flow": null,
            "grid_area": null,
            "grid_auto_columns": null,
            "grid_auto_flow": null,
            "grid_auto_rows": null,
            "grid_column": null,
            "grid_gap": null,
            "grid_row": null,
            "grid_template_areas": null,
            "grid_template_columns": null,
            "grid_template_rows": null,
            "height": null,
            "justify_content": null,
            "justify_items": null,
            "left": null,
            "margin": null,
            "max_height": null,
            "max_width": null,
            "min_height": null,
            "min_width": null,
            "object_fit": null,
            "object_position": null,
            "order": null,
            "overflow": null,
            "overflow_x": null,
            "overflow_y": null,
            "padding": null,
            "right": null,
            "top": null,
            "visibility": null,
            "width": "100px"
          }
        },
        "1c9694a07dac4b3492a640273b86abfa": {
          "model_module": "@jupyter-widgets/base",
          "model_name": "LayoutModel",
          "model_module_version": "1.2.0",
          "state": {
            "_model_module": "@jupyter-widgets/base",
            "_model_module_version": "1.2.0",
            "_model_name": "LayoutModel",
            "_view_count": null,
            "_view_module": "@jupyter-widgets/base",
            "_view_module_version": "1.2.0",
            "_view_name": "LayoutView",
            "align_content": null,
            "align_items": null,
            "align_self": null,
            "border": null,
            "bottom": null,
            "display": null,
            "flex": null,
            "flex_flow": null,
            "grid_area": null,
            "grid_auto_columns": null,
            "grid_auto_flow": null,
            "grid_auto_rows": null,
            "grid_column": null,
            "grid_gap": null,
            "grid_row": null,
            "grid_template_areas": null,
            "grid_template_columns": null,
            "grid_template_rows": null,
            "height": "28px",
            "justify_content": null,
            "justify_items": null,
            "left": null,
            "margin": null,
            "max_height": null,
            "max_width": null,
            "min_height": null,
            "min_width": null,
            "object_fit": null,
            "object_position": null,
            "order": null,
            "overflow": null,
            "overflow_x": null,
            "overflow_y": null,
            "padding": "0px 0px 0px 4px",
            "right": null,
            "top": null,
            "visibility": null,
            "width": "28px"
          }
        },
        "b2d489ff02ba4228bdc3b75ab5373b71": {
          "model_module": "@jupyter-widgets/controls",
          "model_name": "DescriptionStyleModel",
          "model_module_version": "1.5.0",
          "state": {
            "_model_module": "@jupyter-widgets/controls",
            "_model_module_version": "1.5.0",
            "_model_name": "DescriptionStyleModel",
            "_view_count": null,
            "_view_module": "@jupyter-widgets/base",
            "_view_module_version": "1.2.0",
            "_view_name": "StyleView",
            "description_width": ""
          }
        },
        "99a32c4d8b4041169e8d2c54827d8f31": {
          "model_module": "@jupyter-widgets/base",
          "model_name": "LayoutModel",
          "model_module_version": "1.2.0",
          "state": {
            "_model_module": "@jupyter-widgets/base",
            "_model_module_version": "1.2.0",
            "_model_name": "LayoutModel",
            "_view_count": null,
            "_view_module": "@jupyter-widgets/base",
            "_view_module_version": "1.2.0",
            "_view_name": "LayoutView",
            "align_content": null,
            "align_items": null,
            "align_self": null,
            "border": null,
            "bottom": null,
            "display": null,
            "flex": null,
            "flex_flow": null,
            "grid_area": null,
            "grid_auto_columns": null,
            "grid_auto_flow": null,
            "grid_auto_rows": null,
            "grid_column": null,
            "grid_gap": null,
            "grid_row": null,
            "grid_template_areas": null,
            "grid_template_columns": null,
            "grid_template_rows": null,
            "height": "28px",
            "justify_content": null,
            "justify_items": null,
            "left": null,
            "margin": null,
            "max_height": null,
            "max_width": null,
            "min_height": null,
            "min_width": null,
            "object_fit": null,
            "object_position": null,
            "order": null,
            "overflow": null,
            "overflow_x": null,
            "overflow_y": null,
            "padding": "0px 0px 0px 4px",
            "right": null,
            "top": null,
            "visibility": null,
            "width": "28px"
          }
        },
        "d75e2f8137514fd0be0fdbe80737f72b": {
          "model_module": "@jupyter-widgets/controls",
          "model_name": "DescriptionStyleModel",
          "model_module_version": "1.5.0",
          "state": {
            "_model_module": "@jupyter-widgets/controls",
            "_model_module_version": "1.5.0",
            "_model_name": "DescriptionStyleModel",
            "_view_count": null,
            "_view_module": "@jupyter-widgets/base",
            "_view_module_version": "1.2.0",
            "_view_name": "StyleView",
            "description_width": ""
          }
        },
        "a3721c4597f9467d8435ad2b2c312394": {
          "model_module": "jupyter-leaflet",
          "model_name": "LeafletMapModel",
          "model_module_version": "^0.18",
          "state": {
            "_dom_classes": [],
            "_model_module": "jupyter-leaflet",
            "_model_module_version": "^0.18",
            "_model_name": "LeafletMapModel",
            "_view_count": null,
            "_view_module": "jupyter-leaflet",
            "_view_module_version": "^0.18",
            "_view_name": "LeafletMapView",
            "bottom": 25815,
            "bounce_at_zoom_limits": true,
            "box_zoom": true,
            "center": [
              36.52971161769407,
              127.85645081415713
            ],
            "close_popup_on_click": true,
            "controls": [
              "IPY_MODEL_10669a1f70f04af4a4f62b088fc431d9",
              "IPY_MODEL_944d7823c01742a9aebdc928cb723c39",
              "IPY_MODEL_2a6b348ac48541ab8de7b054ad52a3fa",
              "IPY_MODEL_29a0f60bb16b4e18be7ec30c8102dbca",
              "IPY_MODEL_64eb985642554c58bd145abeffdd76a1",
              "IPY_MODEL_97c82366a836420bae2a405cd9f0676c",
              "IPY_MODEL_0c05a67500c14c1c8b9a60e5ad12ee57",
              "IPY_MODEL_1a5191b4093a445db3d2f1ad712d8122",
              "IPY_MODEL_1568c9f8e67f4823a06328304c3690c9"
            ],
            "crs": {
              "name": "EPSG3857",
              "custom": false
            },
            "default_style": "IPY_MODEL_30f59b737b9c4ed7b441aa48e11a8179",
            "double_click_zoom": true,
            "dragging": true,
            "dragging_style": "IPY_MODEL_37d26ad58dc04c699fcad0b53eaff927",
            "east": 130.05615234375003,
            "fullscreen": false,
            "inertia": true,
            "inertia_deceleration": 3000,
            "inertia_max_speed": 1500,
            "interpolation": "bilinear",
            "keyboard": true,
            "keyboard_pan_offset": 80,
            "keyboard_zoom_offset": 1,
            "layers": [
              "IPY_MODEL_bbce7e76cef94070a49069d3c8f3b417",
              "IPY_MODEL_89496f54f45941479096b42d38ac36a4"
            ],
            "layout": "IPY_MODEL_45a29b6fcd7144a4b1feae5afe632a4f",
            "left": 55644,
            "max_zoom": 24,
            "min_zoom": null,
            "modisdate": "2024-07-01",
            "north": 37.40943717748788,
            "options": [
              "bounce_at_zoom_limits",
              "box_zoom",
              "center",
              "close_popup_on_click",
              "double_click_zoom",
              "dragging",
              "fullscreen",
              "inertia",
              "inertia_deceleration",
              "inertia_max_speed",
              "interpolation",
              "keyboard",
              "keyboard_pan_offset",
              "keyboard_zoom_offset",
              "max_zoom",
              "min_zoom",
              "prefer_canvas",
              "scroll_wheel_zoom",
              "tap",
              "tap_tolerance",
              "touch_zoom",
              "world_copy_jump",
              "zoom",
              "zoom_animation_threshold",
              "zoom_delta",
              "zoom_snap"
            ],
            "panes": {},
            "prefer_canvas": false,
            "right": 56444,
            "scroll_wheel_zoom": true,
            "south": 35.64390523787731,
            "style": "IPY_MODEL_b7e33fea874342ac991ee492e98e7e7e",
            "tap": true,
            "tap_tolerance": 15,
            "top": 25415,
            "touch_zoom": true,
            "west": 125.66162109375001,
            "window_url": "https://iafdptzweir-496ff2e9c6d22116-0-colab.googleusercontent.com/outputframe.html?vrz=colab_20240627-060121_RC00_647236509",
            "world_copy_jump": false,
            "zoom": 8,
            "zoom_animation_threshold": 4,
            "zoom_delta": 1,
            "zoom_snap": 1
          }
        },
        "10669a1f70f04af4a4f62b088fc431d9": {
          "model_module": "jupyter-leaflet",
          "model_name": "LeafletWidgetControlModel",
          "model_module_version": "^0.18",
          "state": {
            "_model_module": "jupyter-leaflet",
            "_model_module_version": "^0.18",
            "_model_name": "LeafletWidgetControlModel",
            "_view_count": null,
            "_view_module": "jupyter-leaflet",
            "_view_module_version": "^0.18",
            "_view_name": "LeafletWidgetControlView",
            "max_height": null,
            "max_width": null,
            "min_height": null,
            "min_width": null,
            "options": [
              "position",
              "transparent_bg"
            ],
            "position": "topleft",
            "transparent_bg": false,
            "widget": "IPY_MODEL_15db9b965e8e42968b1a05d24d8d8f37"
          }
        },
        "944d7823c01742a9aebdc928cb723c39": {
          "model_module": "jupyter-leaflet",
          "model_name": "LeafletZoomControlModel",
          "model_module_version": "^0.18",
          "state": {
            "_model_module": "jupyter-leaflet",
            "_model_module_version": "^0.18",
            "_model_name": "LeafletZoomControlModel",
            "_view_count": null,
            "_view_module": "jupyter-leaflet",
            "_view_module_version": "^0.18",
            "_view_name": "LeafletZoomControlView",
            "options": [
              "position",
              "zoom_in_text",
              "zoom_in_title",
              "zoom_out_text",
              "zoom_out_title"
            ],
            "position": "topleft",
            "zoom_in_text": "+",
            "zoom_in_title": "Zoom in",
            "zoom_out_text": "-",
            "zoom_out_title": "Zoom out"
          }
        },
        "2a6b348ac48541ab8de7b054ad52a3fa": {
          "model_module": "jupyter-leaflet",
          "model_name": "LeafletFullScreenControlModel",
          "model_module_version": "^0.18",
          "state": {
            "_model_module": "jupyter-leaflet",
            "_model_module_version": "^0.18",
            "_model_name": "LeafletFullScreenControlModel",
            "_view_count": null,
            "_view_module": "jupyter-leaflet",
            "_view_module_version": "^0.18",
            "_view_name": "LeafletFullScreenControlView",
            "options": [
              "position"
            ],
            "position": "topleft"
          }
        },
        "29a0f60bb16b4e18be7ec30c8102dbca": {
          "model_module": "jupyter-leaflet",
          "model_name": "LeafletDrawControlModel",
          "model_module_version": "^0.18",
          "state": {
            "_model_module": "jupyter-leaflet",
            "_model_module_version": "^0.18",
            "_model_name": "LeafletDrawControlModel",
            "_view_count": null,
            "_view_module": "jupyter-leaflet",
            "_view_module_version": "^0.18",
            "_view_name": "LeafletDrawControlView",
            "circle": {},
            "circlemarker": {},
            "data": [],
            "edit": true,
            "marker": {
              "shapeOptions": {
                "color": "#3388ff"
              }
            },
            "options": [
              "position"
            ],
            "polygon": {
              "shapeOptions": {}
            },
            "polyline": {
              "shapeOptions": {}
            },
            "position": "topleft",
            "rectangle": {
              "shapeOptions": {
                "color": "#3388ff"
              }
            },
            "remove": true
          }
        },
        "64eb985642554c58bd145abeffdd76a1": {
          "model_module": "jupyter-leaflet",
          "model_name": "LeafletScaleControlModel",
          "model_module_version": "^0.18",
          "state": {
            "_model_module": "jupyter-leaflet",
            "_model_module_version": "^0.18",
            "_model_name": "LeafletScaleControlModel",
            "_view_count": null,
            "_view_module": "jupyter-leaflet",
            "_view_module_version": "^0.18",
            "_view_name": "LeafletScaleControlView",
            "imperial": true,
            "max_width": 100,
            "metric": true,
            "options": [
              "imperial",
              "max_width",
              "metric",
              "position",
              "update_when_idle"
            ],
            "position": "bottomleft",
            "update_when_idle": false
          }
        },
        "97c82366a836420bae2a405cd9f0676c": {
          "model_module": "jupyter-leaflet",
          "model_name": "LeafletMeasureControlModel",
          "model_module_version": "^0.18",
          "state": {
            "_custom_units": {},
            "_model_module": "jupyter-leaflet",
            "_model_module_version": "^0.18",
            "_model_name": "LeafletMeasureControlModel",
            "_view_count": null,
            "_view_module": "jupyter-leaflet",
            "_view_module_version": "^0.18",
            "_view_name": "LeafletMeasureControlView",
            "active_color": "orange",
            "capture_z_index": 10000,
            "completed_color": "#C8F2BE",
            "options": [
              "active_color",
              "capture_z_index",
              "completed_color",
              "popup_options",
              "position",
              "primary_area_unit",
              "primary_length_unit",
              "secondary_area_unit",
              "secondary_length_unit"
            ],
            "popup_options": {
              "className": "leaflet-measure-resultpopup",
              "autoPanPadding": [
                10,
                10
              ]
            },
            "position": "bottomleft",
            "primary_area_unit": "acres",
            "primary_length_unit": "kilometers",
            "secondary_area_unit": null,
            "secondary_length_unit": null
          }
        },
        "0c05a67500c14c1c8b9a60e5ad12ee57": {
          "model_module": "jupyter-leaflet",
          "model_name": "LeafletWidgetControlModel",
          "model_module_version": "^0.18",
          "state": {
            "_model_module": "jupyter-leaflet",
            "_model_module_version": "^0.18",
            "_model_name": "LeafletWidgetControlModel",
            "_view_count": null,
            "_view_module": "jupyter-leaflet",
            "_view_module_version": "^0.18",
            "_view_name": "LeafletWidgetControlView",
            "max_height": null,
            "max_width": null,
            "min_height": null,
            "min_width": null,
            "options": [
              "position",
              "transparent_bg"
            ],
            "position": "topright",
            "transparent_bg": false,
            "widget": "IPY_MODEL_3155fa7105314c99b3dca6d48345d237"
          }
        },
        "1a5191b4093a445db3d2f1ad712d8122": {
          "model_module": "jupyter-leaflet",
          "model_name": "LeafletAttributionControlModel",
          "model_module_version": "^0.18",
          "state": {
            "_model_module": "jupyter-leaflet",
            "_model_module_version": "^0.18",
            "_model_name": "LeafletAttributionControlModel",
            "_view_count": null,
            "_view_module": "jupyter-leaflet",
            "_view_module_version": "^0.18",
            "_view_name": "LeafletAttributionControlView",
            "options": [
              "position",
              "prefix"
            ],
            "position": "bottomright",
            "prefix": "ipyleaflet"
          }
        },
        "1568c9f8e67f4823a06328304c3690c9": {
          "model_module": "jupyter-leaflet",
          "model_name": "LeafletWidgetControlModel",
          "model_module_version": "^0.18",
          "state": {
            "_model_module": "jupyter-leaflet",
            "_model_module_version": "^0.18",
            "_model_name": "LeafletWidgetControlModel",
            "_view_count": null,
            "_view_module": "jupyter-leaflet",
            "_view_module_version": "^0.18",
            "_view_name": "LeafletWidgetControlView",
            "max_height": null,
            "max_width": null,
            "min_height": null,
            "min_width": null,
            "options": [
              "position",
              "transparent_bg"
            ],
            "position": "bottomright",
            "transparent_bg": false,
            "widget": "IPY_MODEL_fe2572f44999490cb0d206145bc2eda2"
          }
        },
        "30f59b737b9c4ed7b441aa48e11a8179": {
          "model_module": "jupyter-leaflet",
          "model_name": "LeafletMapStyleModel",
          "model_module_version": "^0.18",
          "state": {
            "_model_module": "jupyter-leaflet",
            "_model_module_version": "^0.18",
            "_model_name": "LeafletMapStyleModel",
            "_view_count": null,
            "_view_module": "@jupyter-widgets/base",
            "_view_module_version": "1.2.0",
            "_view_name": "StyleView",
            "cursor": "grab"
          }
        },
        "37d26ad58dc04c699fcad0b53eaff927": {
          "model_module": "jupyter-leaflet",
          "model_name": "LeafletMapStyleModel",
          "model_module_version": "^0.18",
          "state": {
            "_model_module": "jupyter-leaflet",
            "_model_module_version": "^0.18",
            "_model_name": "LeafletMapStyleModel",
            "_view_count": null,
            "_view_module": "@jupyter-widgets/base",
            "_view_module_version": "1.2.0",
            "_view_name": "StyleView",
            "cursor": "move"
          }
        },
        "bbce7e76cef94070a49069d3c8f3b417": {
          "model_module": "jupyter-leaflet",
          "model_name": "LeafletTileLayerModel",
          "model_module_version": "^0.18",
          "state": {
            "_model_module": "jupyter-leaflet",
            "_model_module_version": "^0.18",
            "_model_name": "LeafletTileLayerModel",
            "_view_count": null,
            "_view_module": "jupyter-leaflet",
            "_view_module_version": "^0.18",
            "_view_name": "LeafletTileLayerView",
            "attribution": "&copy; <a href=\"https://www.openstreetmap.org/copyright\">OpenStreetMap</a> contributors",
            "base": true,
            "bottom": true,
            "bounds": null,
            "detect_retina": false,
            "loading": false,
            "max_native_zoom": null,
            "max_zoom": 19,
            "min_native_zoom": null,
            "min_zoom": 1,
            "name": "OpenStreetMap.Mapnik",
            "no_wrap": false,
            "opacity": 1,
            "options": [
              "attribution",
              "bounds",
              "detect_retina",
              "max_native_zoom",
              "max_zoom",
              "min_native_zoom",
              "min_zoom",
              "no_wrap",
              "tile_size",
              "tms",
              "zoom_offset"
            ],
            "pane": "",
            "popup": null,
            "popup_max_height": null,
            "popup_max_width": 300,
            "popup_min_width": 50,
            "show_loading": false,
            "subitems": [],
            "tile_size": 256,
            "tms": false,
            "url": "https://tile.openstreetmap.org/{z}/{x}/{y}.png",
            "visible": true,
            "zoom_offset": 0
          }
        },
        "89496f54f45941479096b42d38ac36a4": {
          "model_module": "jupyter-leaflet",
          "model_name": "LeafletTileLayerModel",
          "model_module_version": "^0.18",
          "state": {
            "_model_module": "jupyter-leaflet",
            "_model_module_version": "^0.18",
            "_model_name": "LeafletTileLayerModel",
            "_view_count": null,
            "_view_module": "jupyter-leaflet",
            "_view_module_version": "^0.18",
            "_view_name": "LeafletTileLayerView",
            "attribution": "Google Earth Engine",
            "base": false,
            "bottom": true,
            "bounds": null,
            "detect_retina": false,
            "loading": false,
            "max_native_zoom": null,
            "max_zoom": 24,
            "min_native_zoom": null,
            "min_zoom": 0,
            "name": "aspect",
            "no_wrap": false,
            "opacity": 1,
            "options": [
              "attribution",
              "bounds",
              "detect_retina",
              "max_native_zoom",
              "max_zoom",
              "min_native_zoom",
              "min_zoom",
              "no_wrap",
              "tile_size",
              "tms",
              "zoom_offset"
            ],
            "pane": "",
            "popup": null,
            "popup_max_height": null,
            "popup_max_width": 300,
            "popup_min_width": 50,
            "show_loading": false,
            "subitems": [],
            "tile_size": 256,
            "tms": false,
            "url": "https://earthengine.googleapis.com/v1/projects/ee-jjangmo91/maps/84d018df4430a3761be1a1f5b5342e5d-f87bdb0c7f984de51e8644b5a4788e97/tiles/{z}/{x}/{y}",
            "visible": true,
            "zoom_offset": 0
          }
        },
        "45a29b6fcd7144a4b1feae5afe632a4f": {
          "model_module": "@jupyter-widgets/base",
          "model_name": "LayoutModel",
          "model_module_version": "1.2.0",
          "state": {
            "_model_module": "@jupyter-widgets/base",
            "_model_module_version": "1.2.0",
            "_model_name": "LayoutModel",
            "_view_count": null,
            "_view_module": "@jupyter-widgets/base",
            "_view_module_version": "1.2.0",
            "_view_name": "LayoutView",
            "align_content": null,
            "align_items": null,
            "align_self": null,
            "border": null,
            "bottom": null,
            "display": null,
            "flex": null,
            "flex_flow": null,
            "grid_area": null,
            "grid_auto_columns": null,
            "grid_auto_flow": null,
            "grid_auto_rows": null,
            "grid_column": null,
            "grid_gap": null,
            "grid_row": null,
            "grid_template_areas": null,
            "grid_template_columns": null,
            "grid_template_rows": null,
            "height": "400px",
            "justify_content": null,
            "justify_items": null,
            "left": null,
            "margin": null,
            "max_height": null,
            "max_width": null,
            "min_height": null,
            "min_width": null,
            "object_fit": null,
            "object_position": null,
            "order": null,
            "overflow": null,
            "overflow_x": null,
            "overflow_y": null,
            "padding": null,
            "right": null,
            "top": null,
            "visibility": null,
            "width": "800px"
          }
        },
        "b7e33fea874342ac991ee492e98e7e7e": {
          "model_module": "jupyter-leaflet",
          "model_name": "LeafletMapStyleModel",
          "model_module_version": "^0.18",
          "state": {
            "_model_module": "jupyter-leaflet",
            "_model_module_version": "^0.18",
            "_model_name": "LeafletMapStyleModel",
            "_view_count": null,
            "_view_module": "@jupyter-widgets/base",
            "_view_module_version": "1.2.0",
            "_view_name": "StyleView",
            "cursor": "grab"
          }
        },
        "15db9b965e8e42968b1a05d24d8d8f37": {
          "model_module": "@jupyter-widgets/controls",
          "model_name": "HBoxModel",
          "model_module_version": "1.5.0",
          "state": {
            "_dom_classes": [
              "geemap-colab"
            ],
            "_model_module": "@jupyter-widgets/controls",
            "_model_module_version": "1.5.0",
            "_model_name": "HBoxModel",
            "_view_count": null,
            "_view_module": "@jupyter-widgets/controls",
            "_view_module_version": "1.5.0",
            "_view_name": "HBoxView",
            "box_style": "",
            "children": [
              "IPY_MODEL_5098333a8b764a86bc0d0fa82410ee0d"
            ],
            "layout": "IPY_MODEL_630f3a5a6ca14d2ea9593644493cc15e"
          }
        },
        "3155fa7105314c99b3dca6d48345d237": {
          "model_module": "@jupyter-widgets/controls",
          "model_name": "VBoxModel",
          "model_module_version": "1.5.0",
          "state": {
            "_dom_classes": [
              "geemap-colab"
            ],
            "_model_module": "@jupyter-widgets/controls",
            "_model_module_version": "1.5.0",
            "_model_name": "VBoxModel",
            "_view_count": null,
            "_view_module": "@jupyter-widgets/controls",
            "_view_module_version": "1.5.0",
            "_view_name": "VBoxView",
            "box_style": "",
            "children": [
              "IPY_MODEL_209a1a6426ca4b8b8d2937aae027245e"
            ],
            "layout": "IPY_MODEL_d7c38118b6954168a005d5c6ac12675c"
          }
        },
        "fe2572f44999490cb0d206145bc2eda2": {
          "model_module": "@jupyter-widgets/output",
          "model_name": "OutputModel",
          "model_module_version": "1.0.0",
          "state": {
            "_dom_classes": [
              "geemap-colab"
            ],
            "_model_module": "@jupyter-widgets/output",
            "_model_module_version": "1.0.0",
            "_model_name": "OutputModel",
            "_view_count": null,
            "_view_module": "@jupyter-widgets/output",
            "_view_module_version": "1.0.0",
            "_view_name": "OutputView",
            "layout": "IPY_MODEL_d3cb5a3ced424f4f956360a7f972e99a",
            "msg_id": "",
            "outputs": [
              {
                "output_type": "display_data",
                "data": {
                  "text/plain": "<Figure size 30x300 with 1 Axes>",
                  "image/png": "iVBORw0KGgoAAAANSUhEUgAAAF8AAAEDCAYAAABTd9jNAAAAOXRFWHRTb2Z0d2FyZQBNYXRwbG90bGliIHZlcnNpb24zLjcuMSwgaHR0cHM6Ly9tYXRwbG90bGliLm9yZy/bCgiHAAAACXBIWXMAAA9hAAAPYQGoP6dpAAAT/0lEQVR4nO2dfWwU1bvHvzPb0vdtt1CgL0tBQC2IIC8G4o3+kDcRRIGrEN+CCKKlNRANtwqkVAqlGFQC8oOQgmIQlBvhKipXC4nSloD80YpUG1BCi7aUK7JLLcu+nfvHsmNX2t15tmeYHfd8khPKTOfZsw8PzzxzzveckRhjDAJdkPXuQDQjnK8jwvk6IpyvI8L5OiKcryPC+ToinK8jMWp/0eFwwOl0atKJHj16ID4+XhPbkYwq5zscDgxISECLRp3o27cvzp07F3X/AKqc73Q60QKgSZZg5twBOwBrSwucTmfUOZ+U880mCeYYmW8zSeROFxYWwmq1wmw2Izs7G0uWLFFS4r/+9S/ExcUhOTlZab/99ptyrd1ux5NPPgmz2Yw+ffpg9erV5M/nBe2Ga5K1aUTy8/Px008/wW63o66uDnV1dVi/fr1yvry8HG1tbUrLyspSzhUWFuLy5ctobGzE0aNHsX37duzatYvcBx6ovuH6flsCJHqkBiWMMdW8vLy/LmcMsizjzJkzIa9rb2/H3r17UV1djbS0NKSlpaGwsBAVFRV49tln6R3pJrSwizUBPTi3WBMAXzro2K5fvx60K+vWrUNycjJ69+6Nuro6FBYWKudKS0uRnp6Oe+65JyCqGxoa4HQ6MWLECOXYiBEj8P3335PcwA2mApvNxgAwW69ExnoncW22XokMvvgPaMXFxWq6xurr69ny5ctZU1MTY4yxmpoaduXKFeZ0OtmhQ4eY2Wxmn3zyCWOMsW+//ZYlJSUFXH/ixAlmMplUfRZvaGnHJAMy57Qj+fJOU1MTzOa/aqm4uDhVl+fl5WH48OGYN28eKisrMW7cOOXclClTsGjRInz00UeYOXMmkpOT0d7eDrfbjZgY31e32WxISUnh+IXUQ3S+pIHzfX+YzeYA51NwuVxd5nxZ/iuz3nHHHYiNjUVdXR1GjRoFAKitrcWwYcPC+tzuYrhqp62tDTt37sSVK1fAGMOpU6dQWlqKKVOm4MqVK/jiiy/Q3t4Oj8eDw4cPY+vWrZg9ezYAIDExEXPmzMHKlSths9lw5swZbNq0CQsWLCD1gRtqcpOS8/unMXabhWuz9U/z2bbZVOXJtrY2NnHiRJaens6SkpLYgAED2Kuvvsr+/PNP1trayu69916WkpLCUlJS2LBhw1hFRcVN32Xu3LksOTmZZWRksJKSEnKu5oXEWOgJdLvdjtTUVNgGWmAOoy4PatvjRerPf8Bms4WddowKPeeH8UQaHN72jAO92uEc+dEMzfk9TPyd7xGRrw4R+VyhOV/WIOczEfnq0CLyo1isqH+1IyJfJSLyuSIiX0dE5OtIGNUOZ+d7o9f79IesGzNP3IjerBMBOd8bvd7XP+eLtKMSEflcId5wNYh8j4h8dWgR+dznB4yD/jnfJCJfHSLyuSIiX0dozo+V+T9kRfECeP2rHTl6Z8ZEztcRwynWgOCLI0ItfjDw4ghJm0Yk2OKIUIsfjLs4Qpb55+gb9ux2e8DhuLi4LpXKXS2OCLX4wdiLIzSMfKvVitTUVKWVlZUF7UpniyNCLX6ItMUREVPtUPX5RUVFKCoqwo8//ojdu3cry0mTkpIU7T0ApKWl4erVqwB8Cudg5281ERP5fn2+v4WzOKLj4gc/HRc/hDp/q6E535/zebdu4l8c0XHxg5+Oix9Cnb/V0L55D5n/grge/BZHhFr8EGmLI4iRL2nTCEiShA8//BADBw5ESkoKHn30UUybNg3vvPMOAGDz5s1ITU1FTk4O7rvvPjz//PMBlUyo87cS2uKI8ikwx8dy7YDd4ULqf/2vWBwREkmLBXHRO7wQAUPKYmBNHWHkaFU2oxQR+ToiIl9HROTrCHHLFw20mi4vX3sGQqQdHYmY8fxohJjzocEcLl9zRkJEvo6InK8jQjqiIyTnM1kG45wmeNszEiTneyUJXs5pwitGNdXhiTHBE8O3POFtz0jQnG+S4eE8HMDbnpGgpR1Zg7Qjqh11eGUZXs43SN72jISIfB0RztcRYp0vcU8TLIqdT/IkkyQwmXMj1vnXr1/HwoULMWDAAKSkpODOO+/Ejh07lPNGenkBrdSUZHgkzqUm0Z7b7UZmZiYqKytx22234fjx45g6dSpycnIwefJkAL6XFyxZsqTT6zvq81tbWzFx4kTk5ubqIpwiOd8dI8Mdw9f5VHtJSUl44403lL+PHTsW48ePR1VVleL8rjC0Pt9favJuAP3lBX4cDgdOnDiBu+++WzlmlJcXREy1Y7VaA44XFxdj1apVQa9ljGHBggUYPHgwZs2aBQAoKyvDkCFDkJiYiCNHjuCJJ55ASkoKZs6cGXH6/Ih5yKIujmCMIT8/Hw0NDaisrFT2yf/HvrzAK0ncRyH99igvL2CMYfHixTh+/DgOHz6M1NTULn/3H/PyAu5l5o1GpaCgANXV1fj6669hsViU40Z7eQHR+fxvttTJlPPnz2PLli1oaGhAbm6uUsu/+OKLcLlcKCkpQd++fWGxWLB06VK89dZbePzxx5XrI0mfT6vzIcHDOe14iDvc5ebmItiSguPHjwe93mw2Y8+ePaTP1Iowqh3eN9zoHV6ImBtuNEJ7wjWZ4Dbxnfbjbc9IRMxDVjRCG1KW6KOQamxGK+QnXI+YRuSGuOHqiHC+jkTMwFo0IiJfR4TzdYQ4h2uCR+as1ZTEQ5YqvBL/SI3iHdzpT7ge8YTLDWLky/Bylo7wtmckxA1XR2jOhwQv59f78LZnJETk64jI+TpCF8pq0IxAdXV1p8dramrCtkmKfJcsw8V5LIa3Pa2YOnXqTfs9A8D06dNx+fLlsGwSb7gyvMTdINXYNAKdKSYuXboEUzemQclpx8u58dbn894/32KxID09He3t7UhPTw9oWVlZiiArHAxX7YTS54fS31P1+QcOHABjDA8//DD279+vHJdlGX369MHtt98e9ncnbWr67v9tQ4I5IewP64xr9mtY3GtRtzY1nTVrFu666y4UFRXBYrGguroao0ePBgC8+eabOHjwIL755hu0t7cHPR+My5cvIz09Paz+dQVNny9JSrnJr/kin4c+X8v980tKSm6qeKqqqrB06VJV/ewMWs6HpEkD6C8vAG7W54fS33dHn793715F2exn1KhR3ZIeRkzO56HPD6W/744+3+12B8jNAcBkMqn+H9oZpMj3QNKkAbSXF3TU53/11VeKPl/L/fNHjBiBnTt3Bhx77733ApYjUaHJBSUZbs7DAeHY8+vzjxw5EqDP76i/37NnD1pbW7Fp0yalnAx1Phjr16/HhAkTsG/fPgwePBhnz57FiRMncPjwYXL//RDrfN43WxmM6Pxg+nxAu/3zR40ahdOnT2Py5MmQZRmTJk1CfX29UjWFA6nUXHtlF+LNiWF/WGc47O14Pe3ZqNw/n1Zq3hjP592MgMvlQnFxMQYNGqTcYw4dOoR33303bJsRU2pGOsuWLUNVVRW2bt0K6UaFlpeXh23btoVtkygd0WBZkEGGlPft24dTp07BYrEoJWdubi4aGxvDtimmEVXi9XqRmBh4v2tra+vWGl5izpc1aUbgwQcfxMqVKwOOlZeXY9KkSWHbFJGvkrfffhszZsxARkYG7HY7srOzYbVacfDgwbBtEpeCynBzjlSPQSI/IyMDx44dw3fffYfz58/DarVizJgxNw05UKAtC9KgOjFKteMnOztb+bM7jgfIYztajO8Yg+bmZkyYMAE5OTm4//77YbVaMX78+IBdrKiIhyyVzJ8/H1arFS0tLbh27Rqam5vRv39/zJ8/P2yb4oarkpqaGly8eBHx8fEAgN69e2PLli3IzMwM2yYt8pmkSTMCgwYNQlNTU8CxpqYmDBw4MGybIvJVMnv2bDz00EPIz89Hv379cP78eWzbtg3z58/Hp59+qvzejBkzVNskjWq+dOV/EGdOCq/3XXDd/if+nfZoxI9qDhgwIOTvSJKEX375RbVNIZpSyblz57jbpL22g0lgvHO0QXK+w+FATEyMMve7f/9+xMbGYvr06WHbJIWdi8maNCMwadIknDx5EoBPRpKfn4+XXnoJJSUlYdsUdb5K6uvrMWbMGADA+++/j8rKStTU1KCioiJsm7Scr0FpaJRS0+PxQJIknD17Fl6vF0OHDgWAsBXKgCg1VTNmzBgUFBSgubkZ06ZNA+Cr8zuqJ6iIhyyVbN++HTabDampqUqeP3bsGLKyssK2KSJfJf3798fu3bsB+AbZysrKUFFRgebm5rBt0ibQb5SavBuFzZs3Y/To0YiLi8Njjz0WcE7LvfM9Hg8OHDiARx55BP369cOKFSvw1FNPdWsOl5x2PJwbNe1kZWVhxYoVWLhwYafny8vL0dbWprSOaaGjNv/o0aPYvn17wC7jndHQ0IBly5YhOzsbzzzzDCwWC7788ktkZGRg8eLF6NmzJ6n/HSGmHf5pgvoeaP9u4bW1tbhw4YLq68LdOz8vLw89e/ZEeXk55syZg6Qk3/CKxEF1QYp8t1fWpAHh6/P/Du+98+fNmweHw4Hly5dj1apV+OGHH8LqV2cQ0442DQhPn/93ysrK8PPPP+PixYtYt24dCgsLlaU84Wrzd+zYgebmZqxevRrV1dUYPnw4Ro4ciatXr8Jms5H72JGIKTWbmppgs9mU9tprr5G/zLhx45CamorY2NiAvfOBQG2+H7Xa/OTkZCxYsAA1NTU4deoUxo8fj6SkJAwfPrxbO5BHjPMp+nzVX66LvfP9hLN3/pAhQ7Bhwwb8+uuv+OCDD25hqRkBWk232w2HwwG32w2v1wuHwwGn03nL986PiYnB7Nmz8fnnn4d1PUDV7TAJMucnUg/RXmlpacBIYkJCAh544AHs27cPJSUlmDt3LgDfQ1Fne+cvWrQIOTk5SEhIQEFBgW575wPEmayJTVWIMSdz7YDb3oZK639E/EyWFtDqfK8EL+dN0XjbMxJiSFlHaAvimAx4OS+IM8hMlhbQtJoazOFynxM2EMS089cTKS942zMStFLTK0HifIP0iBuuOsQNly8i5+sIuc7nnSZEna8SL5MgibTDDWLkAxJ16kmFzWiFVu14JMDDeUGcR0S+KjxM4i5spY5q/pMg33B51/nihqsSBiD0ADSNKH7ApUc+7/dsiMhXiXA+X8h1Pu8brqjzVcK8vsYT3vaMhEg7OkIeUmbC+dygOd8tgbk5O5+zPSNB23VEA4k49Qk3mD6f9975WkMez+edJqjj+X59fmVl5U0Scd5752uN7qOa1GqnK31+KP19uPp8LaFpNW/ccHk3oPv6fC33ztcKmkr5hmKNdwO6r8/Xcu98rSCWmtqlHer++X9Hy73ztSJiIr+7+nwt987XClrO90iaNApd6fND6e956/N5QNt1xC1p0iiUlpYiISEBa9aswWeffYaEhARMnjwZgHZ752sFSZ+Pfb8AiZxzZPtV4PHbhD4/JBpMI/IeKzISJOebPIDEWW3APDDMxqa8ITlf1qjUFM5XgSzSDldIzpc8vsaVaA17UHO+iHyuRETOj1Zoke+WIbn4ajWZWyyIU4Xs8TWeeEXOV4fslSDzztEi56tDi8gX1Y5KJA2qHd72jAR5eIF35HN/bjAQtLTDfOUmV6JYI07M+RJk3st4xLIgdUgaPGTxtmckSM6PcUowyZzXZDlF5KtCizpfjO2oRItRTVHtqMTklWDifYMUka8OLZ5wmYh8dche/nV+NA8pk8ZzJY+kSaMwb9489OjRI2CP/GPHjinnXS4XCgoKYLFYkJ6ejsLCwoAtfCMJkvNNHm0alfz8/IA98seNG6ecKy0tRVVVFerr63H69GkcPXoUa9eupX/ILYDkfH/O5914smPHDqxYsQKZmZnIzMzE8uXLu/U6JS2hpR2vpAwx8Gr+UU2KPn/Xrl1IT0/H0KFDsWHDBnhv7Bvzxx9/4MKFCzdp8BsbG7u93boWkJwf49KmAer1+S+//DIaGhpw6dIlVFRUYOPGjdi4cSMAnwYf8Onu/fh/1lOH3xW6D6z57anV548cOVL5eezYsSgqKsKuXbuwdOlSJCf79nm22Wzo1auX8jMAXXX4XaF7ne+359flk6/vsEe+xWJBTk4OamtrlZcE19bWKv+rIg3D3XA//vhj2O12MMZw8uRJrFu3TtkjHwCee+45rFmzBi0tLWhpacHatWt11eAHI2LSjlo2b96MF154AW63G9nZ2cjPz8crr7yinF+5ciV+//135OXlAQCefvppvP7661z7zAuSPv/B//wdMbF8NfRulx1H/run0OeHQvYAMmeNE3c1hIEgDynzdr4YUlaJ7JEgc57J4j4nbCCI04hADO8N7lx87RkJ+pAy7zo/ioeU6WmHwwsZ/24zWqFXO5x9JaodlQjn80U4X0fodT5n54s6XyWyV4OxHSEdUYfsIQ6DqrQZrdAfskx8OyDWZKlERD5fhPN1hO58zmM7YnhBJbKH/5ugRbWjEkmDyBcrU1Qi0g5fhPN1RDhfR2gPWS4ghvdK0Cheh0sTTbm1aVSMpMEPhuEUa4CxNPjBMKTzjaTBDwYp5zu9dvB+JHLCDsCniutIXFxcp0rlUBr8SBTEdglTwbVr11jfvn0ZbrwekXdLTk6+6VhxcXGnfWlsbGQA2KVLl5Rjra2tDABrampS83UiBlWRHx8fj3PnzsHpdPL4974Jxhikv6kiutLnG02DHwzVaSc+Ph7x8fFa9kUVRtPgB8OQW/sZSYMfFL3zXjg4nU6Wn5/P0tLSWFpaGisoKGAul0vvbpFRpc8XaIMh084/BeF8HRHO1xHhfB0RztcR4XwdEc7XEeF8HRHO1xHhfB0RztcR4Xwd+X8TPFhvWadF5QAAAABJRU5ErkJggg==\n"
                },
                "metadata": {}
              }
            ]
          }
        },
        "5098333a8b764a86bc0d0fa82410ee0d": {
          "model_module": "@jupyter-widgets/controls",
          "model_name": "ToggleButtonModel",
          "model_module_version": "1.5.0",
          "state": {
            "_dom_classes": [],
            "_model_module": "@jupyter-widgets/controls",
            "_model_module_version": "1.5.0",
            "_model_name": "ToggleButtonModel",
            "_view_count": null,
            "_view_module": "@jupyter-widgets/controls",
            "_view_module_version": "1.5.0",
            "_view_name": "ToggleButtonView",
            "button_style": "",
            "description": "",
            "description_tooltip": null,
            "disabled": false,
            "icon": "globe",
            "layout": "IPY_MODEL_5b16bf8d8bdb48a1a21d72362cb051ec",
            "style": "IPY_MODEL_8b0acf465dda4becb58deef4ee56a5f2",
            "tooltip": "Search location/data",
            "value": false
          }
        },
        "630f3a5a6ca14d2ea9593644493cc15e": {
          "model_module": "@jupyter-widgets/base",
          "model_name": "LayoutModel",
          "model_module_version": "1.2.0",
          "state": {
            "_model_module": "@jupyter-widgets/base",
            "_model_module_version": "1.2.0",
            "_model_name": "LayoutModel",
            "_view_count": null,
            "_view_module": "@jupyter-widgets/base",
            "_view_module_version": "1.2.0",
            "_view_name": "LayoutView",
            "align_content": null,
            "align_items": null,
            "align_self": null,
            "border": null,
            "bottom": null,
            "display": null,
            "flex": null,
            "flex_flow": null,
            "grid_area": null,
            "grid_auto_columns": null,
            "grid_auto_flow": null,
            "grid_auto_rows": null,
            "grid_column": null,
            "grid_gap": null,
            "grid_row": null,
            "grid_template_areas": null,
            "grid_template_columns": null,
            "grid_template_rows": null,
            "height": null,
            "justify_content": null,
            "justify_items": null,
            "left": null,
            "margin": null,
            "max_height": null,
            "max_width": null,
            "min_height": null,
            "min_width": null,
            "object_fit": null,
            "object_position": null,
            "order": null,
            "overflow": null,
            "overflow_x": null,
            "overflow_y": null,
            "padding": null,
            "right": null,
            "top": null,
            "visibility": null,
            "width": null
          }
        },
        "209a1a6426ca4b8b8d2937aae027245e": {
          "model_module": "@jupyter-widgets/controls",
          "model_name": "ToggleButtonModel",
          "model_module_version": "1.5.0",
          "state": {
            "_dom_classes": [],
            "_model_module": "@jupyter-widgets/controls",
            "_model_module_version": "1.5.0",
            "_model_name": "ToggleButtonModel",
            "_view_count": null,
            "_view_module": "@jupyter-widgets/controls",
            "_view_module_version": "1.5.0",
            "_view_name": "ToggleButtonView",
            "button_style": "",
            "description": "",
            "description_tooltip": null,
            "disabled": false,
            "icon": "wrench",
            "layout": "IPY_MODEL_61c2f3afd8474433814e91392c0bc673",
            "style": "IPY_MODEL_846b0a8dcf204f47850f8ef9b46bbe86",
            "tooltip": "Toolbar",
            "value": false
          }
        },
        "d7c38118b6954168a005d5c6ac12675c": {
          "model_module": "@jupyter-widgets/base",
          "model_name": "LayoutModel",
          "model_module_version": "1.2.0",
          "state": {
            "_model_module": "@jupyter-widgets/base",
            "_model_module_version": "1.2.0",
            "_model_name": "LayoutModel",
            "_view_count": null,
            "_view_module": "@jupyter-widgets/base",
            "_view_module_version": "1.2.0",
            "_view_name": "LayoutView",
            "align_content": null,
            "align_items": null,
            "align_self": null,
            "border": null,
            "bottom": null,
            "display": null,
            "flex": null,
            "flex_flow": null,
            "grid_area": null,
            "grid_auto_columns": null,
            "grid_auto_flow": null,
            "grid_auto_rows": null,
            "grid_column": null,
            "grid_gap": null,
            "grid_row": null,
            "grid_template_areas": null,
            "grid_template_columns": null,
            "grid_template_rows": null,
            "height": null,
            "justify_content": null,
            "justify_items": null,
            "left": null,
            "margin": null,
            "max_height": null,
            "max_width": null,
            "min_height": null,
            "min_width": null,
            "object_fit": null,
            "object_position": null,
            "order": null,
            "overflow": null,
            "overflow_x": null,
            "overflow_y": null,
            "padding": null,
            "right": null,
            "top": null,
            "visibility": null,
            "width": null
          }
        },
        "d3cb5a3ced424f4f956360a7f972e99a": {
          "model_module": "@jupyter-widgets/base",
          "model_name": "LayoutModel",
          "model_module_version": "1.2.0",
          "state": {
            "_model_module": "@jupyter-widgets/base",
            "_model_module_version": "1.2.0",
            "_model_name": "LayoutModel",
            "_view_count": null,
            "_view_module": "@jupyter-widgets/base",
            "_view_module_version": "1.2.0",
            "_view_name": "LayoutView",
            "align_content": null,
            "align_items": null,
            "align_self": null,
            "border": null,
            "bottom": null,
            "display": null,
            "flex": null,
            "flex_flow": null,
            "grid_area": null,
            "grid_auto_columns": null,
            "grid_auto_flow": null,
            "grid_auto_rows": null,
            "grid_column": null,
            "grid_gap": null,
            "grid_row": null,
            "grid_template_areas": null,
            "grid_template_columns": null,
            "grid_template_rows": null,
            "height": null,
            "justify_content": null,
            "justify_items": null,
            "left": null,
            "margin": null,
            "max_height": null,
            "max_width": null,
            "min_height": null,
            "min_width": null,
            "object_fit": null,
            "object_position": null,
            "order": null,
            "overflow": null,
            "overflow_x": null,
            "overflow_y": null,
            "padding": null,
            "right": null,
            "top": null,
            "visibility": null,
            "width": "100px"
          }
        },
        "5b16bf8d8bdb48a1a21d72362cb051ec": {
          "model_module": "@jupyter-widgets/base",
          "model_name": "LayoutModel",
          "model_module_version": "1.2.0",
          "state": {
            "_model_module": "@jupyter-widgets/base",
            "_model_module_version": "1.2.0",
            "_model_name": "LayoutModel",
            "_view_count": null,
            "_view_module": "@jupyter-widgets/base",
            "_view_module_version": "1.2.0",
            "_view_name": "LayoutView",
            "align_content": null,
            "align_items": null,
            "align_self": null,
            "border": null,
            "bottom": null,
            "display": null,
            "flex": null,
            "flex_flow": null,
            "grid_area": null,
            "grid_auto_columns": null,
            "grid_auto_flow": null,
            "grid_auto_rows": null,
            "grid_column": null,
            "grid_gap": null,
            "grid_row": null,
            "grid_template_areas": null,
            "grid_template_columns": null,
            "grid_template_rows": null,
            "height": "28px",
            "justify_content": null,
            "justify_items": null,
            "left": null,
            "margin": null,
            "max_height": null,
            "max_width": null,
            "min_height": null,
            "min_width": null,
            "object_fit": null,
            "object_position": null,
            "order": null,
            "overflow": null,
            "overflow_x": null,
            "overflow_y": null,
            "padding": "0px 0px 0px 4px",
            "right": null,
            "top": null,
            "visibility": null,
            "width": "28px"
          }
        },
        "8b0acf465dda4becb58deef4ee56a5f2": {
          "model_module": "@jupyter-widgets/controls",
          "model_name": "DescriptionStyleModel",
          "model_module_version": "1.5.0",
          "state": {
            "_model_module": "@jupyter-widgets/controls",
            "_model_module_version": "1.5.0",
            "_model_name": "DescriptionStyleModel",
            "_view_count": null,
            "_view_module": "@jupyter-widgets/base",
            "_view_module_version": "1.2.0",
            "_view_name": "StyleView",
            "description_width": ""
          }
        },
        "61c2f3afd8474433814e91392c0bc673": {
          "model_module": "@jupyter-widgets/base",
          "model_name": "LayoutModel",
          "model_module_version": "1.2.0",
          "state": {
            "_model_module": "@jupyter-widgets/base",
            "_model_module_version": "1.2.0",
            "_model_name": "LayoutModel",
            "_view_count": null,
            "_view_module": "@jupyter-widgets/base",
            "_view_module_version": "1.2.0",
            "_view_name": "LayoutView",
            "align_content": null,
            "align_items": null,
            "align_self": null,
            "border": null,
            "bottom": null,
            "display": null,
            "flex": null,
            "flex_flow": null,
            "grid_area": null,
            "grid_auto_columns": null,
            "grid_auto_flow": null,
            "grid_auto_rows": null,
            "grid_column": null,
            "grid_gap": null,
            "grid_row": null,
            "grid_template_areas": null,
            "grid_template_columns": null,
            "grid_template_rows": null,
            "height": "28px",
            "justify_content": null,
            "justify_items": null,
            "left": null,
            "margin": null,
            "max_height": null,
            "max_width": null,
            "min_height": null,
            "min_width": null,
            "object_fit": null,
            "object_position": null,
            "order": null,
            "overflow": null,
            "overflow_x": null,
            "overflow_y": null,
            "padding": "0px 0px 0px 4px",
            "right": null,
            "top": null,
            "visibility": null,
            "width": "28px"
          }
        },
        "846b0a8dcf204f47850f8ef9b46bbe86": {
          "model_module": "@jupyter-widgets/controls",
          "model_name": "DescriptionStyleModel",
          "model_module_version": "1.5.0",
          "state": {
            "_model_module": "@jupyter-widgets/controls",
            "_model_module_version": "1.5.0",
            "_model_name": "DescriptionStyleModel",
            "_view_count": null,
            "_view_module": "@jupyter-widgets/base",
            "_view_module_version": "1.2.0",
            "_view_name": "StyleView",
            "description_width": ""
          }
        },
        "3cb70bba009b49a9960e65684608fec5": {
          "model_module": "jupyter-leaflet",
          "model_name": "LeafletMapModel",
          "model_module_version": "^0.18",
          "state": {
            "_dom_classes": [],
            "_model_module": "jupyter-leaflet",
            "_model_module_version": "^0.18",
            "_model_name": "LeafletMapModel",
            "_view_count": null,
            "_view_module": "jupyter-leaflet",
            "_view_module_version": "^0.18",
            "_view_name": "LeafletMapView",
            "bottom": 25815,
            "bounce_at_zoom_limits": true,
            "box_zoom": true,
            "center": [
              36.52971161769407,
              127.85645081415713
            ],
            "close_popup_on_click": true,
            "controls": [
              "IPY_MODEL_1367ed28f52645699360ea178fb9ec37",
              "IPY_MODEL_6431bcac4a9b4102acf8b8c2e5057795",
              "IPY_MODEL_8c314600742e472697b20fdb6fa796c9",
              "IPY_MODEL_52b78d7a80b840e1bf1b83904b5e09d4",
              "IPY_MODEL_e58d9277760843279c58ff6dfe58ab3d",
              "IPY_MODEL_f30c304a158a4a809d3caa467c4d7eda",
              "IPY_MODEL_cf4f710014e84431b9752463f6dfef53",
              "IPY_MODEL_91795374b21e47dabb052e3b0c402715",
              "IPY_MODEL_f49db6cd6ccb4733b83588706447fb2a"
            ],
            "crs": {
              "name": "EPSG3857",
              "custom": false
            },
            "default_style": "IPY_MODEL_915b3def54cf48c0a8068031c8cd9152",
            "double_click_zoom": true,
            "dragging": true,
            "dragging_style": "IPY_MODEL_9228a0ea7ca9488bbc7288b7f9529e5c",
            "east": 130.05615234375003,
            "fullscreen": false,
            "inertia": true,
            "inertia_deceleration": 3000,
            "inertia_max_speed": 1500,
            "interpolation": "bilinear",
            "keyboard": true,
            "keyboard_pan_offset": 80,
            "keyboard_zoom_offset": 1,
            "layers": [
              "IPY_MODEL_634e17e58f6b4b6ba1726f809dcc7ef4",
              "IPY_MODEL_d219d43094e347cfbad8be0a421e0de1"
            ],
            "layout": "IPY_MODEL_a56ffecb0b714c90a2ef5f7e19d7bac9",
            "left": 55644,
            "max_zoom": 24,
            "min_zoom": null,
            "modisdate": "2024-07-01",
            "north": 37.40943717748788,
            "options": [
              "bounce_at_zoom_limits",
              "box_zoom",
              "center",
              "close_popup_on_click",
              "double_click_zoom",
              "dragging",
              "fullscreen",
              "inertia",
              "inertia_deceleration",
              "inertia_max_speed",
              "interpolation",
              "keyboard",
              "keyboard_pan_offset",
              "keyboard_zoom_offset",
              "max_zoom",
              "min_zoom",
              "prefer_canvas",
              "scroll_wheel_zoom",
              "tap",
              "tap_tolerance",
              "touch_zoom",
              "world_copy_jump",
              "zoom",
              "zoom_animation_threshold",
              "zoom_delta",
              "zoom_snap"
            ],
            "panes": {},
            "prefer_canvas": false,
            "right": 56444,
            "scroll_wheel_zoom": true,
            "south": 35.64390523787731,
            "style": "IPY_MODEL_29e2b71c8a7043f9b990cd40972fe806",
            "tap": true,
            "tap_tolerance": 15,
            "top": 25415,
            "touch_zoom": true,
            "west": 125.66162109375001,
            "window_url": "https://iafdptzweir-496ff2e9c6d22116-0-colab.googleusercontent.com/outputframe.html?vrz=colab_20240627-060121_RC00_647236509",
            "world_copy_jump": false,
            "zoom": 8,
            "zoom_animation_threshold": 4,
            "zoom_delta": 1,
            "zoom_snap": 1
          }
        },
        "1367ed28f52645699360ea178fb9ec37": {
          "model_module": "jupyter-leaflet",
          "model_name": "LeafletWidgetControlModel",
          "model_module_version": "^0.18",
          "state": {
            "_model_module": "jupyter-leaflet",
            "_model_module_version": "^0.18",
            "_model_name": "LeafletWidgetControlModel",
            "_view_count": null,
            "_view_module": "jupyter-leaflet",
            "_view_module_version": "^0.18",
            "_view_name": "LeafletWidgetControlView",
            "max_height": null,
            "max_width": null,
            "min_height": null,
            "min_width": null,
            "options": [
              "position",
              "transparent_bg"
            ],
            "position": "topleft",
            "transparent_bg": false,
            "widget": "IPY_MODEL_5a76ffeeb6f24418b16d717ad5880f04"
          }
        },
        "6431bcac4a9b4102acf8b8c2e5057795": {
          "model_module": "jupyter-leaflet",
          "model_name": "LeafletZoomControlModel",
          "model_module_version": "^0.18",
          "state": {
            "_model_module": "jupyter-leaflet",
            "_model_module_version": "^0.18",
            "_model_name": "LeafletZoomControlModel",
            "_view_count": null,
            "_view_module": "jupyter-leaflet",
            "_view_module_version": "^0.18",
            "_view_name": "LeafletZoomControlView",
            "options": [
              "position",
              "zoom_in_text",
              "zoom_in_title",
              "zoom_out_text",
              "zoom_out_title"
            ],
            "position": "topleft",
            "zoom_in_text": "+",
            "zoom_in_title": "Zoom in",
            "zoom_out_text": "-",
            "zoom_out_title": "Zoom out"
          }
        },
        "8c314600742e472697b20fdb6fa796c9": {
          "model_module": "jupyter-leaflet",
          "model_name": "LeafletFullScreenControlModel",
          "model_module_version": "^0.18",
          "state": {
            "_model_module": "jupyter-leaflet",
            "_model_module_version": "^0.18",
            "_model_name": "LeafletFullScreenControlModel",
            "_view_count": null,
            "_view_module": "jupyter-leaflet",
            "_view_module_version": "^0.18",
            "_view_name": "LeafletFullScreenControlView",
            "options": [
              "position"
            ],
            "position": "topleft"
          }
        },
        "52b78d7a80b840e1bf1b83904b5e09d4": {
          "model_module": "jupyter-leaflet",
          "model_name": "LeafletDrawControlModel",
          "model_module_version": "^0.18",
          "state": {
            "_model_module": "jupyter-leaflet",
            "_model_module_version": "^0.18",
            "_model_name": "LeafletDrawControlModel",
            "_view_count": null,
            "_view_module": "jupyter-leaflet",
            "_view_module_version": "^0.18",
            "_view_name": "LeafletDrawControlView",
            "circle": {},
            "circlemarker": {},
            "data": [],
            "edit": true,
            "marker": {
              "shapeOptions": {
                "color": "#3388ff"
              }
            },
            "options": [
              "position"
            ],
            "polygon": {
              "shapeOptions": {}
            },
            "polyline": {
              "shapeOptions": {}
            },
            "position": "topleft",
            "rectangle": {
              "shapeOptions": {
                "color": "#3388ff"
              }
            },
            "remove": true
          }
        },
        "e58d9277760843279c58ff6dfe58ab3d": {
          "model_module": "jupyter-leaflet",
          "model_name": "LeafletScaleControlModel",
          "model_module_version": "^0.18",
          "state": {
            "_model_module": "jupyter-leaflet",
            "_model_module_version": "^0.18",
            "_model_name": "LeafletScaleControlModel",
            "_view_count": null,
            "_view_module": "jupyter-leaflet",
            "_view_module_version": "^0.18",
            "_view_name": "LeafletScaleControlView",
            "imperial": true,
            "max_width": 100,
            "metric": true,
            "options": [
              "imperial",
              "max_width",
              "metric",
              "position",
              "update_when_idle"
            ],
            "position": "bottomleft",
            "update_when_idle": false
          }
        },
        "f30c304a158a4a809d3caa467c4d7eda": {
          "model_module": "jupyter-leaflet",
          "model_name": "LeafletMeasureControlModel",
          "model_module_version": "^0.18",
          "state": {
            "_custom_units": {},
            "_model_module": "jupyter-leaflet",
            "_model_module_version": "^0.18",
            "_model_name": "LeafletMeasureControlModel",
            "_view_count": null,
            "_view_module": "jupyter-leaflet",
            "_view_module_version": "^0.18",
            "_view_name": "LeafletMeasureControlView",
            "active_color": "orange",
            "capture_z_index": 10000,
            "completed_color": "#C8F2BE",
            "options": [
              "active_color",
              "capture_z_index",
              "completed_color",
              "popup_options",
              "position",
              "primary_area_unit",
              "primary_length_unit",
              "secondary_area_unit",
              "secondary_length_unit"
            ],
            "popup_options": {
              "className": "leaflet-measure-resultpopup",
              "autoPanPadding": [
                10,
                10
              ]
            },
            "position": "bottomleft",
            "primary_area_unit": "acres",
            "primary_length_unit": "kilometers",
            "secondary_area_unit": null,
            "secondary_length_unit": null
          }
        },
        "cf4f710014e84431b9752463f6dfef53": {
          "model_module": "jupyter-leaflet",
          "model_name": "LeafletWidgetControlModel",
          "model_module_version": "^0.18",
          "state": {
            "_model_module": "jupyter-leaflet",
            "_model_module_version": "^0.18",
            "_model_name": "LeafletWidgetControlModel",
            "_view_count": null,
            "_view_module": "jupyter-leaflet",
            "_view_module_version": "^0.18",
            "_view_name": "LeafletWidgetControlView",
            "max_height": null,
            "max_width": null,
            "min_height": null,
            "min_width": null,
            "options": [
              "position",
              "transparent_bg"
            ],
            "position": "topright",
            "transparent_bg": false,
            "widget": "IPY_MODEL_e7087e5fc5be41658b174f771fb4aa3b"
          }
        },
        "91795374b21e47dabb052e3b0c402715": {
          "model_module": "jupyter-leaflet",
          "model_name": "LeafletAttributionControlModel",
          "model_module_version": "^0.18",
          "state": {
            "_model_module": "jupyter-leaflet",
            "_model_module_version": "^0.18",
            "_model_name": "LeafletAttributionControlModel",
            "_view_count": null,
            "_view_module": "jupyter-leaflet",
            "_view_module_version": "^0.18",
            "_view_name": "LeafletAttributionControlView",
            "options": [
              "position",
              "prefix"
            ],
            "position": "bottomright",
            "prefix": "ipyleaflet"
          }
        },
        "f49db6cd6ccb4733b83588706447fb2a": {
          "model_module": "jupyter-leaflet",
          "model_name": "LeafletWidgetControlModel",
          "model_module_version": "^0.18",
          "state": {
            "_model_module": "jupyter-leaflet",
            "_model_module_version": "^0.18",
            "_model_name": "LeafletWidgetControlModel",
            "_view_count": null,
            "_view_module": "jupyter-leaflet",
            "_view_module_version": "^0.18",
            "_view_name": "LeafletWidgetControlView",
            "max_height": null,
            "max_width": null,
            "min_height": null,
            "min_width": null,
            "options": [
              "position",
              "transparent_bg"
            ],
            "position": "bottomright",
            "transparent_bg": false,
            "widget": "IPY_MODEL_7cb17392d6564d88b2f17d8c8b61ee64"
          }
        },
        "915b3def54cf48c0a8068031c8cd9152": {
          "model_module": "jupyter-leaflet",
          "model_name": "LeafletMapStyleModel",
          "model_module_version": "^0.18",
          "state": {
            "_model_module": "jupyter-leaflet",
            "_model_module_version": "^0.18",
            "_model_name": "LeafletMapStyleModel",
            "_view_count": null,
            "_view_module": "@jupyter-widgets/base",
            "_view_module_version": "1.2.0",
            "_view_name": "StyleView",
            "cursor": "grab"
          }
        },
        "9228a0ea7ca9488bbc7288b7f9529e5c": {
          "model_module": "jupyter-leaflet",
          "model_name": "LeafletMapStyleModel",
          "model_module_version": "^0.18",
          "state": {
            "_model_module": "jupyter-leaflet",
            "_model_module_version": "^0.18",
            "_model_name": "LeafletMapStyleModel",
            "_view_count": null,
            "_view_module": "@jupyter-widgets/base",
            "_view_module_version": "1.2.0",
            "_view_name": "StyleView",
            "cursor": "move"
          }
        },
        "634e17e58f6b4b6ba1726f809dcc7ef4": {
          "model_module": "jupyter-leaflet",
          "model_name": "LeafletTileLayerModel",
          "model_module_version": "^0.18",
          "state": {
            "_model_module": "jupyter-leaflet",
            "_model_module_version": "^0.18",
            "_model_name": "LeafletTileLayerModel",
            "_view_count": null,
            "_view_module": "jupyter-leaflet",
            "_view_module_version": "^0.18",
            "_view_name": "LeafletTileLayerView",
            "attribution": "&copy; <a href=\"https://www.openstreetmap.org/copyright\">OpenStreetMap</a> contributors",
            "base": true,
            "bottom": true,
            "bounds": null,
            "detect_retina": false,
            "loading": false,
            "max_native_zoom": null,
            "max_zoom": 19,
            "min_native_zoom": null,
            "min_zoom": 1,
            "name": "OpenStreetMap.Mapnik",
            "no_wrap": false,
            "opacity": 1,
            "options": [
              "attribution",
              "bounds",
              "detect_retina",
              "max_native_zoom",
              "max_zoom",
              "min_native_zoom",
              "min_zoom",
              "no_wrap",
              "tile_size",
              "tms",
              "zoom_offset"
            ],
            "pane": "",
            "popup": null,
            "popup_max_height": null,
            "popup_max_width": 300,
            "popup_min_width": 50,
            "show_loading": false,
            "subitems": [],
            "tile_size": 256,
            "tms": false,
            "url": "https://tile.openstreetmap.org/{z}/{x}/{y}.png",
            "visible": true,
            "zoom_offset": 0
          }
        },
        "d219d43094e347cfbad8be0a421e0de1": {
          "model_module": "jupyter-leaflet",
          "model_name": "LeafletTileLayerModel",
          "model_module_version": "^0.18",
          "state": {
            "_model_module": "jupyter-leaflet",
            "_model_module_version": "^0.18",
            "_model_name": "LeafletTileLayerModel",
            "_view_count": null,
            "_view_module": "jupyter-leaflet",
            "_view_module_version": "^0.18",
            "_view_name": "LeafletTileLayerView",
            "attribution": "Google Earth Engine",
            "base": false,
            "bottom": true,
            "bounds": null,
            "detect_retina": false,
            "loading": false,
            "max_native_zoom": null,
            "max_zoom": 24,
            "min_native_zoom": null,
            "min_zoom": 0,
            "name": "TCC",
            "no_wrap": false,
            "opacity": 1,
            "options": [
              "attribution",
              "bounds",
              "detect_retina",
              "max_native_zoom",
              "max_zoom",
              "min_native_zoom",
              "min_zoom",
              "no_wrap",
              "tile_size",
              "tms",
              "zoom_offset"
            ],
            "pane": "",
            "popup": null,
            "popup_max_height": null,
            "popup_max_width": 300,
            "popup_min_width": 50,
            "show_loading": false,
            "subitems": [],
            "tile_size": 256,
            "tms": false,
            "url": "https://earthengine.googleapis.com/v1/projects/ee-jjangmo91/maps/5bb1e6b37abcadf878f5105c3720aeb7-cae866f07b0e17ba185923cfaa222cec/tiles/{z}/{x}/{y}",
            "visible": true,
            "zoom_offset": 0
          }
        },
        "a56ffecb0b714c90a2ef5f7e19d7bac9": {
          "model_module": "@jupyter-widgets/base",
          "model_name": "LayoutModel",
          "model_module_version": "1.2.0",
          "state": {
            "_model_module": "@jupyter-widgets/base",
            "_model_module_version": "1.2.0",
            "_model_name": "LayoutModel",
            "_view_count": null,
            "_view_module": "@jupyter-widgets/base",
            "_view_module_version": "1.2.0",
            "_view_name": "LayoutView",
            "align_content": null,
            "align_items": null,
            "align_self": null,
            "border": null,
            "bottom": null,
            "display": null,
            "flex": null,
            "flex_flow": null,
            "grid_area": null,
            "grid_auto_columns": null,
            "grid_auto_flow": null,
            "grid_auto_rows": null,
            "grid_column": null,
            "grid_gap": null,
            "grid_row": null,
            "grid_template_areas": null,
            "grid_template_columns": null,
            "grid_template_rows": null,
            "height": "400px",
            "justify_content": null,
            "justify_items": null,
            "left": null,
            "margin": null,
            "max_height": null,
            "max_width": null,
            "min_height": null,
            "min_width": null,
            "object_fit": null,
            "object_position": null,
            "order": null,
            "overflow": null,
            "overflow_x": null,
            "overflow_y": null,
            "padding": null,
            "right": null,
            "top": null,
            "visibility": null,
            "width": "800px"
          }
        },
        "29e2b71c8a7043f9b990cd40972fe806": {
          "model_module": "jupyter-leaflet",
          "model_name": "LeafletMapStyleModel",
          "model_module_version": "^0.18",
          "state": {
            "_model_module": "jupyter-leaflet",
            "_model_module_version": "^0.18",
            "_model_name": "LeafletMapStyleModel",
            "_view_count": null,
            "_view_module": "@jupyter-widgets/base",
            "_view_module_version": "1.2.0",
            "_view_name": "StyleView",
            "cursor": "grab"
          }
        },
        "5a76ffeeb6f24418b16d717ad5880f04": {
          "model_module": "@jupyter-widgets/controls",
          "model_name": "HBoxModel",
          "model_module_version": "1.5.0",
          "state": {
            "_dom_classes": [
              "geemap-colab"
            ],
            "_model_module": "@jupyter-widgets/controls",
            "_model_module_version": "1.5.0",
            "_model_name": "HBoxModel",
            "_view_count": null,
            "_view_module": "@jupyter-widgets/controls",
            "_view_module_version": "1.5.0",
            "_view_name": "HBoxView",
            "box_style": "",
            "children": [
              "IPY_MODEL_a63b00ab2c8b47f2b8f31151e1f50332"
            ],
            "layout": "IPY_MODEL_945366021b3f429fba93f80b5327c6ff"
          }
        },
        "e7087e5fc5be41658b174f771fb4aa3b": {
          "model_module": "@jupyter-widgets/controls",
          "model_name": "VBoxModel",
          "model_module_version": "1.5.0",
          "state": {
            "_dom_classes": [
              "geemap-colab"
            ],
            "_model_module": "@jupyter-widgets/controls",
            "_model_module_version": "1.5.0",
            "_model_name": "VBoxModel",
            "_view_count": null,
            "_view_module": "@jupyter-widgets/controls",
            "_view_module_version": "1.5.0",
            "_view_name": "VBoxView",
            "box_style": "",
            "children": [
              "IPY_MODEL_8360d79e2e824402889137683780ce3c"
            ],
            "layout": "IPY_MODEL_814920f10a5e48f088b31d84039a9e3c"
          }
        },
        "7cb17392d6564d88b2f17d8c8b61ee64": {
          "model_module": "@jupyter-widgets/output",
          "model_name": "OutputModel",
          "model_module_version": "1.0.0",
          "state": {
            "_dom_classes": [
              "geemap-colab"
            ],
            "_model_module": "@jupyter-widgets/output",
            "_model_module_version": "1.0.0",
            "_model_name": "OutputModel",
            "_view_count": null,
            "_view_module": "@jupyter-widgets/output",
            "_view_module_version": "1.0.0",
            "_view_name": "OutputView",
            "layout": "IPY_MODEL_2dafab83efc2431e86bb65e7353cf9d2",
            "msg_id": "",
            "outputs": [
              {
                "output_type": "display_data",
                "data": {
                  "text/plain": "<Figure size 30x300 with 1 Axes>",
                  "image/png": "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\n"
                },
                "metadata": {}
              }
            ]
          }
        },
        "a63b00ab2c8b47f2b8f31151e1f50332": {
          "model_module": "@jupyter-widgets/controls",
          "model_name": "ToggleButtonModel",
          "model_module_version": "1.5.0",
          "state": {
            "_dom_classes": [],
            "_model_module": "@jupyter-widgets/controls",
            "_model_module_version": "1.5.0",
            "_model_name": "ToggleButtonModel",
            "_view_count": null,
            "_view_module": "@jupyter-widgets/controls",
            "_view_module_version": "1.5.0",
            "_view_name": "ToggleButtonView",
            "button_style": "",
            "description": "",
            "description_tooltip": null,
            "disabled": false,
            "icon": "globe",
            "layout": "IPY_MODEL_077bf48d95fd48a09b881a8cd725a055",
            "style": "IPY_MODEL_cdc671142f0a4ffcb28632f17dd6f695",
            "tooltip": "Search location/data",
            "value": false
          }
        },
        "945366021b3f429fba93f80b5327c6ff": {
          "model_module": "@jupyter-widgets/base",
          "model_name": "LayoutModel",
          "model_module_version": "1.2.0",
          "state": {
            "_model_module": "@jupyter-widgets/base",
            "_model_module_version": "1.2.0",
            "_model_name": "LayoutModel",
            "_view_count": null,
            "_view_module": "@jupyter-widgets/base",
            "_view_module_version": "1.2.0",
            "_view_name": "LayoutView",
            "align_content": null,
            "align_items": null,
            "align_self": null,
            "border": null,
            "bottom": null,
            "display": null,
            "flex": null,
            "flex_flow": null,
            "grid_area": null,
            "grid_auto_columns": null,
            "grid_auto_flow": null,
            "grid_auto_rows": null,
            "grid_column": null,
            "grid_gap": null,
            "grid_row": null,
            "grid_template_areas": null,
            "grid_template_columns": null,
            "grid_template_rows": null,
            "height": null,
            "justify_content": null,
            "justify_items": null,
            "left": null,
            "margin": null,
            "max_height": null,
            "max_width": null,
            "min_height": null,
            "min_width": null,
            "object_fit": null,
            "object_position": null,
            "order": null,
            "overflow": null,
            "overflow_x": null,
            "overflow_y": null,
            "padding": null,
            "right": null,
            "top": null,
            "visibility": null,
            "width": null
          }
        },
        "8360d79e2e824402889137683780ce3c": {
          "model_module": "@jupyter-widgets/controls",
          "model_name": "ToggleButtonModel",
          "model_module_version": "1.5.0",
          "state": {
            "_dom_classes": [],
            "_model_module": "@jupyter-widgets/controls",
            "_model_module_version": "1.5.0",
            "_model_name": "ToggleButtonModel",
            "_view_count": null,
            "_view_module": "@jupyter-widgets/controls",
            "_view_module_version": "1.5.0",
            "_view_name": "ToggleButtonView",
            "button_style": "",
            "description": "",
            "description_tooltip": null,
            "disabled": false,
            "icon": "wrench",
            "layout": "IPY_MODEL_bffde3b4ef434f78b1a98e68f6aac43b",
            "style": "IPY_MODEL_82da58bdeb864d38a0ef9ca4a2837b09",
            "tooltip": "Toolbar",
            "value": false
          }
        },
        "814920f10a5e48f088b31d84039a9e3c": {
          "model_module": "@jupyter-widgets/base",
          "model_name": "LayoutModel",
          "model_module_version": "1.2.0",
          "state": {
            "_model_module": "@jupyter-widgets/base",
            "_model_module_version": "1.2.0",
            "_model_name": "LayoutModel",
            "_view_count": null,
            "_view_module": "@jupyter-widgets/base",
            "_view_module_version": "1.2.0",
            "_view_name": "LayoutView",
            "align_content": null,
            "align_items": null,
            "align_self": null,
            "border": null,
            "bottom": null,
            "display": null,
            "flex": null,
            "flex_flow": null,
            "grid_area": null,
            "grid_auto_columns": null,
            "grid_auto_flow": null,
            "grid_auto_rows": null,
            "grid_column": null,
            "grid_gap": null,
            "grid_row": null,
            "grid_template_areas": null,
            "grid_template_columns": null,
            "grid_template_rows": null,
            "height": null,
            "justify_content": null,
            "justify_items": null,
            "left": null,
            "margin": null,
            "max_height": null,
            "max_width": null,
            "min_height": null,
            "min_width": null,
            "object_fit": null,
            "object_position": null,
            "order": null,
            "overflow": null,
            "overflow_x": null,
            "overflow_y": null,
            "padding": null,
            "right": null,
            "top": null,
            "visibility": null,
            "width": null
          }
        },
        "2dafab83efc2431e86bb65e7353cf9d2": {
          "model_module": "@jupyter-widgets/base",
          "model_name": "LayoutModel",
          "model_module_version": "1.2.0",
          "state": {
            "_model_module": "@jupyter-widgets/base",
            "_model_module_version": "1.2.0",
            "_model_name": "LayoutModel",
            "_view_count": null,
            "_view_module": "@jupyter-widgets/base",
            "_view_module_version": "1.2.0",
            "_view_name": "LayoutView",
            "align_content": null,
            "align_items": null,
            "align_self": null,
            "border": null,
            "bottom": null,
            "display": null,
            "flex": null,
            "flex_flow": null,
            "grid_area": null,
            "grid_auto_columns": null,
            "grid_auto_flow": null,
            "grid_auto_rows": null,
            "grid_column": null,
            "grid_gap": null,
            "grid_row": null,
            "grid_template_areas": null,
            "grid_template_columns": null,
            "grid_template_rows": null,
            "height": null,
            "justify_content": null,
            "justify_items": null,
            "left": null,
            "margin": null,
            "max_height": null,
            "max_width": null,
            "min_height": null,
            "min_width": null,
            "object_fit": null,
            "object_position": null,
            "order": null,
            "overflow": null,
            "overflow_x": null,
            "overflow_y": null,
            "padding": null,
            "right": null,
            "top": null,
            "visibility": null,
            "width": "100px"
          }
        },
        "077bf48d95fd48a09b881a8cd725a055": {
          "model_module": "@jupyter-widgets/base",
          "model_name": "LayoutModel",
          "model_module_version": "1.2.0",
          "state": {
            "_model_module": "@jupyter-widgets/base",
            "_model_module_version": "1.2.0",
            "_model_name": "LayoutModel",
            "_view_count": null,
            "_view_module": "@jupyter-widgets/base",
            "_view_module_version": "1.2.0",
            "_view_name": "LayoutView",
            "align_content": null,
            "align_items": null,
            "align_self": null,
            "border": null,
            "bottom": null,
            "display": null,
            "flex": null,
            "flex_flow": null,
            "grid_area": null,
            "grid_auto_columns": null,
            "grid_auto_flow": null,
            "grid_auto_rows": null,
            "grid_column": null,
            "grid_gap": null,
            "grid_row": null,
            "grid_template_areas": null,
            "grid_template_columns": null,
            "grid_template_rows": null,
            "height": "28px",
            "justify_content": null,
            "justify_items": null,
            "left": null,
            "margin": null,
            "max_height": null,
            "max_width": null,
            "min_height": null,
            "min_width": null,
            "object_fit": null,
            "object_position": null,
            "order": null,
            "overflow": null,
            "overflow_x": null,
            "overflow_y": null,
            "padding": "0px 0px 0px 4px",
            "right": null,
            "top": null,
            "visibility": null,
            "width": "28px"
          }
        },
        "cdc671142f0a4ffcb28632f17dd6f695": {
          "model_module": "@jupyter-widgets/controls",
          "model_name": "DescriptionStyleModel",
          "model_module_version": "1.5.0",
          "state": {
            "_model_module": "@jupyter-widgets/controls",
            "_model_module_version": "1.5.0",
            "_model_name": "DescriptionStyleModel",
            "_view_count": null,
            "_view_module": "@jupyter-widgets/base",
            "_view_module_version": "1.2.0",
            "_view_name": "StyleView",
            "description_width": ""
          }
        },
        "bffde3b4ef434f78b1a98e68f6aac43b": {
          "model_module": "@jupyter-widgets/base",
          "model_name": "LayoutModel",
          "model_module_version": "1.2.0",
          "state": {
            "_model_module": "@jupyter-widgets/base",
            "_model_module_version": "1.2.0",
            "_model_name": "LayoutModel",
            "_view_count": null,
            "_view_module": "@jupyter-widgets/base",
            "_view_module_version": "1.2.0",
            "_view_name": "LayoutView",
            "align_content": null,
            "align_items": null,
            "align_self": null,
            "border": null,
            "bottom": null,
            "display": null,
            "flex": null,
            "flex_flow": null,
            "grid_area": null,
            "grid_auto_columns": null,
            "grid_auto_flow": null,
            "grid_auto_rows": null,
            "grid_column": null,
            "grid_gap": null,
            "grid_row": null,
            "grid_template_areas": null,
            "grid_template_columns": null,
            "grid_template_rows": null,
            "height": "28px",
            "justify_content": null,
            "justify_items": null,
            "left": null,
            "margin": null,
            "max_height": null,
            "max_width": null,
            "min_height": null,
            "min_width": null,
            "object_fit": null,
            "object_position": null,
            "order": null,
            "overflow": null,
            "overflow_x": null,
            "overflow_y": null,
            "padding": "0px 0px 0px 4px",
            "right": null,
            "top": null,
            "visibility": null,
            "width": "28px"
          }
        },
        "82da58bdeb864d38a0ef9ca4a2837b09": {
          "model_module": "@jupyter-widgets/controls",
          "model_name": "DescriptionStyleModel",
          "model_module_version": "1.5.0",
          "state": {
            "_model_module": "@jupyter-widgets/controls",
            "_model_module_version": "1.5.0",
            "_model_name": "DescriptionStyleModel",
            "_view_count": null,
            "_view_module": "@jupyter-widgets/base",
            "_view_module_version": "1.2.0",
            "_view_name": "StyleView",
            "description_width": ""
          }
        }
      }
    }
  },
  "nbformat": 4,
  "nbformat_minor": 0
}